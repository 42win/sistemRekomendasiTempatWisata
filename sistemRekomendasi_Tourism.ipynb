{
  "nbformat": 4,
  "nbformat_minor": 0,
  "metadata": {
    "colab": {
      "provenance": [],
      "collapsed_sections": [
        "L28s2M8Dbpwf",
        "N2xwkPTF5S8U",
        "a5kAhc-m5ZoG",
        "bqc4I4KtcyrU",
        "oZtADJLsCV_6",
        "5OOSfc7bCQjC"
      ]
    },
    "kernelspec": {
      "name": "python3",
      "display_name": "Python 3"
    },
    "language_info": {
      "name": "python"
    }
  },
  "cells": [
    {
      "cell_type": "markdown",
      "source": [
        "# Sistem rekomendasi tempat wisata di indonesia"
      ],
      "metadata": {
        "id": "UhCgaQyBWc5u"
      }
    },
    {
      "cell_type": "markdown",
      "source": [
        "## Data Collecting"
      ],
      "metadata": {
        "id": "L28s2M8Dbpwf"
      }
    },
    {
      "cell_type": "markdown",
      "source": [
        "- import library\n",
        "  - drive\n",
        "  - numpy\n",
        "  - pandas"
      ],
      "metadata": {
        "id": "NI6RsKNCzvEv"
      }
    },
    {
      "cell_type": "code",
      "source": [
        "from google.colab import drive\n",
        "drive.mount('/content/drive')"
      ],
      "metadata": {
        "colab": {
          "base_uri": "https://localhost:8080/"
        },
        "id": "JFGYGmSKHERE",
        "outputId": "3478f8c7-2f90-4deb-e0e7-a383796a5a8a"
      },
      "execution_count": 1,
      "outputs": [
        {
          "output_type": "stream",
          "name": "stdout",
          "text": [
            "Mounted at /content/drive\n"
          ]
        }
      ]
    },
    {
      "cell_type": "code",
      "source": [
        "import numpy as np\n",
        "import matplotlib.pyplot as plt\n",
        "import pandas as pd"
      ],
      "metadata": {
        "id": "YlXlHQ5PHGL5"
      },
      "execution_count": 2,
      "outputs": []
    },
    {
      "cell_type": "markdown",
      "source": [
        "- define files path"
      ],
      "metadata": {
        "id": "xiFLz-B5z7-X"
      }
    },
    {
      "cell_type": "code",
      "source": [
        "s_tourism_rating = f'drive/MyDrive/ML/ML Terapan/tourism_recomendation/tourism_rating.csv'\n",
        "s_tourism_id = f'drive/MyDrive/ML/ML Terapan/tourism_recomendation/tourism_with_id.csv'\n",
        "\n",
        "s_tourism_user = f'drive/MyDrive/ML/ML Terapan/tourism_recomendation/user.csv'"
      ],
      "metadata": {
        "id": "dsHTrzMVHHpl"
      },
      "execution_count": 3,
      "outputs": []
    },
    {
      "cell_type": "markdown",
      "source": [
        "- load file"
      ],
      "metadata": {
        "id": "42CofSDSz_ed"
      }
    },
    {
      "cell_type": "code",
      "source": [
        "dat_tourism_rating = pd.read_csv(s_tourism_rating,sep=',')\n",
        "dat_tourism_id = pd.read_csv(s_tourism_id,sep=',')\n",
        "\n",
        "dat_tourism_user = pd.read_csv(s_tourism_user,sep=',')"
      ],
      "metadata": {
        "id": "M7Effjw0aklF"
      },
      "execution_count": 4,
      "outputs": []
    },
    {
      "cell_type": "markdown",
      "source": [
        "## Data understanding"
      ],
      "metadata": {
        "id": "dDquDpnzQXBR"
      }
    },
    {
      "cell_type": "markdown",
      "source": [
        "dataset yang digunakan memiliki 4 file yaitu\n",
        "\n",
        "- tourism_with_id.csv yang berisi informasi tempat wisata di 5 kota besar di indonesia yang berjumlah 437 baris\n",
        "- user.csv which berisi data dummy user untuk membuat fitur rekomendasi berdasarkan user yang berjumlah 300 baris.\n",
        "- tourism_rating.csv berisi 3 kolom yaitu user,tempat dan rating yang berfungsi untuk membuat sistem rekomendasi rating yang berjumlah 10000\n",
        "- package_tourism.csv berisi rekomendasi tempat berdasarkan waktu, biaya, dan rating yang berjumlah 100 baris\n",
        "\n",
        "namun pada project ini hanya akan digunakan 2 dataset yaitu tourism_with_id dan tourism_rating"
      ],
      "metadata": {
        "id": "Qa_-x1NG2avv"
      }
    },
    {
      "cell_type": "markdown",
      "source": [
        "Tahap eksplorasi penting untuk memahami variabel-variabel pada data serta korelasi antar variabel. Pemahaman terhadap variabel pada data dan korelasinya akan membantu kita dalam menentukan pendekatan atau algoritma yang cocok untuk data kita. Idealnya, kita melakukan eksplorasi data terhadap seluruh variabel. Namun, pada proyek ini, kita akan mengeksplorasi beberapa variabel saja."
      ],
      "metadata": {
        "id": "F7vHwDGTS7-M"
      }
    },
    {
      "cell_type": "markdown",
      "source": [
        "### Data tourism with ID\n",
        "\n",
        "- dataset ini yang akan kita gunakan dalam membuat model content-based filtering"
      ],
      "metadata": {
        "id": "N2xwkPTF5S8U"
      }
    },
    {
      "cell_type": "markdown",
      "source": [
        "#### Univariate Exploratory Data Analysis\n"
      ],
      "metadata": {
        "id": "c9LaVX-7FHIC"
      }
    },
    {
      "cell_type": "markdown",
      "source": [
        "- menampilkan kolom dari dat_tourism_id"
      ],
      "metadata": {
        "id": "G4bvSAvu4xJ4"
      }
    },
    {
      "cell_type": "code",
      "source": [
        "dat_tourism_id.columns.values"
      ],
      "metadata": {
        "colab": {
          "base_uri": "https://localhost:8080/"
        },
        "id": "Z4e_K3JDTRv1",
        "outputId": "8bc471ca-a040-4758-f088-37d84f2bedde"
      },
      "execution_count": null,
      "outputs": [
        {
          "output_type": "execute_result",
          "data": {
            "text/plain": [
              "array(['Place_Id', 'Place_Name', 'Description', 'Category', 'City',\n",
              "       'Price', 'Rating', 'Time_Minutes', 'Coordinate', 'Lat', 'Long',\n",
              "       'Unnamed: 11', 'Unnamed: 12'], dtype=object)"
            ]
          },
          "metadata": {},
          "execution_count": 7
        }
      ]
    },
    {
      "cell_type": "markdown",
      "source": [
        "- menampilkan unik values dari kolom Category"
      ],
      "metadata": {
        "id": "CfuaR-aa5wVH"
      }
    },
    {
      "cell_type": "code",
      "source": [
        "# Show unique values from a column\n",
        "unique_values_cat = dat_tourism_id['Category'].unique()\n",
        "print(unique_values_cat)"
      ],
      "metadata": {
        "colab": {
          "base_uri": "https://localhost:8080/"
        },
        "id": "Zdzd6cneE6OG",
        "outputId": "9979a410-fde8-45fc-fa7a-5cfa1177ec65"
      },
      "execution_count": null,
      "outputs": [
        {
          "output_type": "stream",
          "name": "stdout",
          "text": [
            "['Budaya' 'Taman Hiburan' 'Cagar Alam' 'Bahari' 'Pusat Perbelanjaan'\n",
            " 'Tempat Ibadah']\n"
          ]
        }
      ]
    },
    {
      "cell_type": "markdown",
      "source": [
        "- menampilkan unique values dari kolom city"
      ],
      "metadata": {
        "id": "3BGJA5g8DXi7"
      }
    },
    {
      "cell_type": "code",
      "source": [
        "# Show unique values from a column\n",
        "unique_values_city = dat_tourism_id['City'].unique()\n",
        "print(unique_values_city)"
      ],
      "metadata": {
        "colab": {
          "base_uri": "https://localhost:8080/"
        },
        "id": "gWGq_ap-GSnB",
        "outputId": "afe29eee-1bc5-4525-bc17-c53d2da6c813"
      },
      "execution_count": null,
      "outputs": [
        {
          "output_type": "stream",
          "name": "stdout",
          "text": [
            "['Jakarta' 'Yogyakarta' 'Bandung' 'Semarang' 'Surabaya']\n"
          ]
        }
      ]
    },
    {
      "cell_type": "code",
      "source": [
        "dat_tourism_id.describe().apply(lambda s: s.apply('{0:.2f}'.format))"
      ],
      "metadata": {
        "colab": {
          "base_uri": "https://localhost:8080/",
          "height": 300
        },
        "id": "esxsZ_JWFUBX",
        "outputId": "3b4c635c-82de-452d-a994-1d0a3faaa59c"
      },
      "execution_count": null,
      "outputs": [
        {
          "output_type": "execute_result",
          "data": {
            "text/plain": [
              "      Place_Id      Price  Rating Time_Minutes     Lat    Long Unnamed: 11  \\\n",
              "count   437.00     437.00  437.00       205.00  437.00  437.00        0.00   \n",
              "mean    219.00   24652.17    4.44        82.61   -7.10  109.16         nan   \n",
              "std     126.30   66446.37    0.21        52.87    0.73    1.96         nan   \n",
              "min       1.00       0.00    3.40        10.00   -8.20  103.93         nan   \n",
              "25%     110.00       0.00    4.30        45.00   -7.75  107.58         nan   \n",
              "50%     219.00    5000.00    4.50        60.00   -7.02  110.24         nan   \n",
              "75%     328.00   20000.00    4.60       120.00   -6.83  110.43         nan   \n",
              "max     437.00  900000.00    5.00       360.00    1.08  112.82         nan   \n",
              "\n",
              "      Unnamed: 12  \n",
              "count      437.00  \n",
              "mean       219.00  \n",
              "std        126.30  \n",
              "min          1.00  \n",
              "25%        110.00  \n",
              "50%        219.00  \n",
              "75%        328.00  \n",
              "max        437.00  "
            ],
            "text/html": [
              "\n",
              "  <div id=\"df-755dbefc-44f8-42a8-853b-76155c62d9e2\">\n",
              "    <div class=\"colab-df-container\">\n",
              "      <div>\n",
              "<style scoped>\n",
              "    .dataframe tbody tr th:only-of-type {\n",
              "        vertical-align: middle;\n",
              "    }\n",
              "\n",
              "    .dataframe tbody tr th {\n",
              "        vertical-align: top;\n",
              "    }\n",
              "\n",
              "    .dataframe thead th {\n",
              "        text-align: right;\n",
              "    }\n",
              "</style>\n",
              "<table border=\"1\" class=\"dataframe\">\n",
              "  <thead>\n",
              "    <tr style=\"text-align: right;\">\n",
              "      <th></th>\n",
              "      <th>Place_Id</th>\n",
              "      <th>Price</th>\n",
              "      <th>Rating</th>\n",
              "      <th>Time_Minutes</th>\n",
              "      <th>Lat</th>\n",
              "      <th>Long</th>\n",
              "      <th>Unnamed: 11</th>\n",
              "      <th>Unnamed: 12</th>\n",
              "    </tr>\n",
              "  </thead>\n",
              "  <tbody>\n",
              "    <tr>\n",
              "      <th>count</th>\n",
              "      <td>437.00</td>\n",
              "      <td>437.00</td>\n",
              "      <td>437.00</td>\n",
              "      <td>205.00</td>\n",
              "      <td>437.00</td>\n",
              "      <td>437.00</td>\n",
              "      <td>0.00</td>\n",
              "      <td>437.00</td>\n",
              "    </tr>\n",
              "    <tr>\n",
              "      <th>mean</th>\n",
              "      <td>219.00</td>\n",
              "      <td>24652.17</td>\n",
              "      <td>4.44</td>\n",
              "      <td>82.61</td>\n",
              "      <td>-7.10</td>\n",
              "      <td>109.16</td>\n",
              "      <td>nan</td>\n",
              "      <td>219.00</td>\n",
              "    </tr>\n",
              "    <tr>\n",
              "      <th>std</th>\n",
              "      <td>126.30</td>\n",
              "      <td>66446.37</td>\n",
              "      <td>0.21</td>\n",
              "      <td>52.87</td>\n",
              "      <td>0.73</td>\n",
              "      <td>1.96</td>\n",
              "      <td>nan</td>\n",
              "      <td>126.30</td>\n",
              "    </tr>\n",
              "    <tr>\n",
              "      <th>min</th>\n",
              "      <td>1.00</td>\n",
              "      <td>0.00</td>\n",
              "      <td>3.40</td>\n",
              "      <td>10.00</td>\n",
              "      <td>-8.20</td>\n",
              "      <td>103.93</td>\n",
              "      <td>nan</td>\n",
              "      <td>1.00</td>\n",
              "    </tr>\n",
              "    <tr>\n",
              "      <th>25%</th>\n",
              "      <td>110.00</td>\n",
              "      <td>0.00</td>\n",
              "      <td>4.30</td>\n",
              "      <td>45.00</td>\n",
              "      <td>-7.75</td>\n",
              "      <td>107.58</td>\n",
              "      <td>nan</td>\n",
              "      <td>110.00</td>\n",
              "    </tr>\n",
              "    <tr>\n",
              "      <th>50%</th>\n",
              "      <td>219.00</td>\n",
              "      <td>5000.00</td>\n",
              "      <td>4.50</td>\n",
              "      <td>60.00</td>\n",
              "      <td>-7.02</td>\n",
              "      <td>110.24</td>\n",
              "      <td>nan</td>\n",
              "      <td>219.00</td>\n",
              "    </tr>\n",
              "    <tr>\n",
              "      <th>75%</th>\n",
              "      <td>328.00</td>\n",
              "      <td>20000.00</td>\n",
              "      <td>4.60</td>\n",
              "      <td>120.00</td>\n",
              "      <td>-6.83</td>\n",
              "      <td>110.43</td>\n",
              "      <td>nan</td>\n",
              "      <td>328.00</td>\n",
              "    </tr>\n",
              "    <tr>\n",
              "      <th>max</th>\n",
              "      <td>437.00</td>\n",
              "      <td>900000.00</td>\n",
              "      <td>5.00</td>\n",
              "      <td>360.00</td>\n",
              "      <td>1.08</td>\n",
              "      <td>112.82</td>\n",
              "      <td>nan</td>\n",
              "      <td>437.00</td>\n",
              "    </tr>\n",
              "  </tbody>\n",
              "</table>\n",
              "</div>\n",
              "      <button class=\"colab-df-convert\" onclick=\"convertToInteractive('df-755dbefc-44f8-42a8-853b-76155c62d9e2')\"\n",
              "              title=\"Convert this dataframe to an interactive table.\"\n",
              "              style=\"display:none;\">\n",
              "        \n",
              "  <svg xmlns=\"http://www.w3.org/2000/svg\" height=\"24px\"viewBox=\"0 0 24 24\"\n",
              "       width=\"24px\">\n",
              "    <path d=\"M0 0h24v24H0V0z\" fill=\"none\"/>\n",
              "    <path d=\"M18.56 5.44l.94 2.06.94-2.06 2.06-.94-2.06-.94-.94-2.06-.94 2.06-2.06.94zm-11 1L8.5 8.5l.94-2.06 2.06-.94-2.06-.94L8.5 2.5l-.94 2.06-2.06.94zm10 10l.94 2.06.94-2.06 2.06-.94-2.06-.94-.94-2.06-.94 2.06-2.06.94z\"/><path d=\"M17.41 7.96l-1.37-1.37c-.4-.4-.92-.59-1.43-.59-.52 0-1.04.2-1.43.59L10.3 9.45l-7.72 7.72c-.78.78-.78 2.05 0 2.83L4 21.41c.39.39.9.59 1.41.59.51 0 1.02-.2 1.41-.59l7.78-7.78 2.81-2.81c.8-.78.8-2.07 0-2.86zM5.41 20L4 18.59l7.72-7.72 1.47 1.35L5.41 20z\"/>\n",
              "  </svg>\n",
              "      </button>\n",
              "      \n",
              "  <style>\n",
              "    .colab-df-container {\n",
              "      display:flex;\n",
              "      flex-wrap:wrap;\n",
              "      gap: 12px;\n",
              "    }\n",
              "\n",
              "    .colab-df-convert {\n",
              "      background-color: #E8F0FE;\n",
              "      border: none;\n",
              "      border-radius: 50%;\n",
              "      cursor: pointer;\n",
              "      display: none;\n",
              "      fill: #1967D2;\n",
              "      height: 32px;\n",
              "      padding: 0 0 0 0;\n",
              "      width: 32px;\n",
              "    }\n",
              "\n",
              "    .colab-df-convert:hover {\n",
              "      background-color: #E2EBFA;\n",
              "      box-shadow: 0px 1px 2px rgba(60, 64, 67, 0.3), 0px 1px 3px 1px rgba(60, 64, 67, 0.15);\n",
              "      fill: #174EA6;\n",
              "    }\n",
              "\n",
              "    [theme=dark] .colab-df-convert {\n",
              "      background-color: #3B4455;\n",
              "      fill: #D2E3FC;\n",
              "    }\n",
              "\n",
              "    [theme=dark] .colab-df-convert:hover {\n",
              "      background-color: #434B5C;\n",
              "      box-shadow: 0px 1px 3px 1px rgba(0, 0, 0, 0.15);\n",
              "      filter: drop-shadow(0px 1px 2px rgba(0, 0, 0, 0.3));\n",
              "      fill: #FFFFFF;\n",
              "    }\n",
              "  </style>\n",
              "\n",
              "      <script>\n",
              "        const buttonEl =\n",
              "          document.querySelector('#df-755dbefc-44f8-42a8-853b-76155c62d9e2 button.colab-df-convert');\n",
              "        buttonEl.style.display =\n",
              "          google.colab.kernel.accessAllowed ? 'block' : 'none';\n",
              "\n",
              "        async function convertToInteractive(key) {\n",
              "          const element = document.querySelector('#df-755dbefc-44f8-42a8-853b-76155c62d9e2');\n",
              "          const dataTable =\n",
              "            await google.colab.kernel.invokeFunction('convertToInteractive',\n",
              "                                                     [key], {});\n",
              "          if (!dataTable) return;\n",
              "\n",
              "          const docLinkHtml = 'Like what you see? Visit the ' +\n",
              "            '<a target=\"_blank\" href=https://colab.research.google.com/notebooks/data_table.ipynb>data table notebook</a>'\n",
              "            + ' to learn more about interactive tables.';\n",
              "          element.innerHTML = '';\n",
              "          dataTable['output_type'] = 'display_data';\n",
              "          await google.colab.output.renderOutput(dataTable, element);\n",
              "          const docLink = document.createElement('div');\n",
              "          docLink.innerHTML = docLinkHtml;\n",
              "          element.appendChild(docLink);\n",
              "        }\n",
              "      </script>\n",
              "    </div>\n",
              "  </div>\n",
              "  "
            ]
          },
          "metadata": {},
          "execution_count": 9
        }
      ]
    },
    {
      "cell_type": "markdown",
      "source": [
        "Variabel-variabel pada dat_tourism_id dataset adalah sebagai berikut:\n",
        "\n",
        "- place_id : id tempat\n",
        "- place_name : nama tempat\n",
        "- description : deksripsi singkat tentang objek wisata\n",
        "- category : kategori tempat wisata dimana terdapat 6 kategori yaitu budaya,taman hiburan, cagar alam, bahari, pusat perbelanjaan, tempat ibadah\n",
        "- city : kota tempat wisata, pada dataset ini masih terbatas pada 5 kota besar yaitu jakarta, yogyakarta, bandung, semarang, surabaya.\n",
        "- price : harga masuk ke tempat wisata, dimana range mulai dari 0 (gratis) - 900.000\n",
        "- rating : penilaian tempat\n",
        "- time_minutes : waktu tempuh\n",
        "- coordinate : kordinat lokasi\n",
        "- lat : latitude\n",
        "- long : longitude\n",
        "- unnamed 11\n",
        "- unnamed 12"
      ],
      "metadata": {
        "id": "2hoq-5GBMEMK"
      }
    },
    {
      "cell_type": "markdown",
      "source": [
        " terdapat 2 kolom tidak bernama yang tidak diketahui nilainya untuk apa sehinngga lebih baik dihapus saja."
      ],
      "metadata": {
        "id": "7rQOezrrFhhy"
      }
    },
    {
      "cell_type": "markdown",
      "source": [
        "- menampilkan sample 5 data teratas dari dat_tourism_id"
      ],
      "metadata": {
        "id": "m3_3pJZ34kbb"
      }
    },
    {
      "cell_type": "code",
      "source": [
        "dat_tourism_id.head()"
      ],
      "metadata": {
        "colab": {
          "base_uri": "https://localhost:8080/",
          "height": 635
        },
        "id": "6TtxlX6mbklY",
        "outputId": "b21a1513-ecb3-455f-c00f-ee2509a26964"
      },
      "execution_count": null,
      "outputs": [
        {
          "output_type": "execute_result",
          "data": {
            "text/plain": [
              "   Place_Id                         Place_Name  \\\n",
              "0         1                   Monumen Nasional   \n",
              "1         2                           Kota Tua   \n",
              "2         3                      Dunia Fantasi   \n",
              "3         4  Taman Mini Indonesia Indah (TMII)   \n",
              "4         5           Atlantis Water Adventure   \n",
              "\n",
              "                                         Description       Category     City  \\\n",
              "0  Monumen Nasional atau yang populer disingkat d...         Budaya  Jakarta   \n",
              "1  Kota tua di Jakarta, yang juga bernama Kota Tu...         Budaya  Jakarta   \n",
              "2  Dunia Fantasi atau disebut juga Dufan adalah t...  Taman Hiburan  Jakarta   \n",
              "3  Taman Mini Indonesia Indah merupakan suatu kaw...  Taman Hiburan  Jakarta   \n",
              "4  Atlantis Water Adventure atau dikenal dengan A...  Taman Hiburan  Jakarta   \n",
              "\n",
              "    Price  Rating  Time_Minutes  \\\n",
              "0   20000     4.6          15.0   \n",
              "1       0     4.6          90.0   \n",
              "2  270000     4.6         360.0   \n",
              "3   10000     4.5           NaN   \n",
              "4   94000     4.5          60.0   \n",
              "\n",
              "                                        Coordinate       Lat        Long  \\\n",
              "0          {'lat': -6.1753924, 'lng': 106.8271528} -6.175392  106.827153   \n",
              "1  {'lat': -6.137644799999999, 'lng': 106.8171245} -6.137645  106.817125   \n",
              "2  {'lat': -6.125312399999999, 'lng': 106.8335377} -6.125312  106.833538   \n",
              "3  {'lat': -6.302445899999999, 'lng': 106.8951559} -6.302446  106.895156   \n",
              "4             {'lat': -6.12419, 'lng': 106.839134} -6.124190  106.839134   \n",
              "\n",
              "   Unnamed: 11  Unnamed: 12  \n",
              "0          NaN            1  \n",
              "1          NaN            2  \n",
              "2          NaN            3  \n",
              "3          NaN            4  \n",
              "4          NaN            5  "
            ],
            "text/html": [
              "\n",
              "  <div id=\"df-e5381bbf-74b3-403f-8ba9-0d00ee016f8d\">\n",
              "    <div class=\"colab-df-container\">\n",
              "      <div>\n",
              "<style scoped>\n",
              "    .dataframe tbody tr th:only-of-type {\n",
              "        vertical-align: middle;\n",
              "    }\n",
              "\n",
              "    .dataframe tbody tr th {\n",
              "        vertical-align: top;\n",
              "    }\n",
              "\n",
              "    .dataframe thead th {\n",
              "        text-align: right;\n",
              "    }\n",
              "</style>\n",
              "<table border=\"1\" class=\"dataframe\">\n",
              "  <thead>\n",
              "    <tr style=\"text-align: right;\">\n",
              "      <th></th>\n",
              "      <th>Place_Id</th>\n",
              "      <th>Place_Name</th>\n",
              "      <th>Description</th>\n",
              "      <th>Category</th>\n",
              "      <th>City</th>\n",
              "      <th>Price</th>\n",
              "      <th>Rating</th>\n",
              "      <th>Time_Minutes</th>\n",
              "      <th>Coordinate</th>\n",
              "      <th>Lat</th>\n",
              "      <th>Long</th>\n",
              "      <th>Unnamed: 11</th>\n",
              "      <th>Unnamed: 12</th>\n",
              "    </tr>\n",
              "  </thead>\n",
              "  <tbody>\n",
              "    <tr>\n",
              "      <th>0</th>\n",
              "      <td>1</td>\n",
              "      <td>Monumen Nasional</td>\n",
              "      <td>Monumen Nasional atau yang populer disingkat d...</td>\n",
              "      <td>Budaya</td>\n",
              "      <td>Jakarta</td>\n",
              "      <td>20000</td>\n",
              "      <td>4.6</td>\n",
              "      <td>15.0</td>\n",
              "      <td>{'lat': -6.1753924, 'lng': 106.8271528}</td>\n",
              "      <td>-6.175392</td>\n",
              "      <td>106.827153</td>\n",
              "      <td>NaN</td>\n",
              "      <td>1</td>\n",
              "    </tr>\n",
              "    <tr>\n",
              "      <th>1</th>\n",
              "      <td>2</td>\n",
              "      <td>Kota Tua</td>\n",
              "      <td>Kota tua di Jakarta, yang juga bernama Kota Tu...</td>\n",
              "      <td>Budaya</td>\n",
              "      <td>Jakarta</td>\n",
              "      <td>0</td>\n",
              "      <td>4.6</td>\n",
              "      <td>90.0</td>\n",
              "      <td>{'lat': -6.137644799999999, 'lng': 106.8171245}</td>\n",
              "      <td>-6.137645</td>\n",
              "      <td>106.817125</td>\n",
              "      <td>NaN</td>\n",
              "      <td>2</td>\n",
              "    </tr>\n",
              "    <tr>\n",
              "      <th>2</th>\n",
              "      <td>3</td>\n",
              "      <td>Dunia Fantasi</td>\n",
              "      <td>Dunia Fantasi atau disebut juga Dufan adalah t...</td>\n",
              "      <td>Taman Hiburan</td>\n",
              "      <td>Jakarta</td>\n",
              "      <td>270000</td>\n",
              "      <td>4.6</td>\n",
              "      <td>360.0</td>\n",
              "      <td>{'lat': -6.125312399999999, 'lng': 106.8335377}</td>\n",
              "      <td>-6.125312</td>\n",
              "      <td>106.833538</td>\n",
              "      <td>NaN</td>\n",
              "      <td>3</td>\n",
              "    </tr>\n",
              "    <tr>\n",
              "      <th>3</th>\n",
              "      <td>4</td>\n",
              "      <td>Taman Mini Indonesia Indah (TMII)</td>\n",
              "      <td>Taman Mini Indonesia Indah merupakan suatu kaw...</td>\n",
              "      <td>Taman Hiburan</td>\n",
              "      <td>Jakarta</td>\n",
              "      <td>10000</td>\n",
              "      <td>4.5</td>\n",
              "      <td>NaN</td>\n",
              "      <td>{'lat': -6.302445899999999, 'lng': 106.8951559}</td>\n",
              "      <td>-6.302446</td>\n",
              "      <td>106.895156</td>\n",
              "      <td>NaN</td>\n",
              "      <td>4</td>\n",
              "    </tr>\n",
              "    <tr>\n",
              "      <th>4</th>\n",
              "      <td>5</td>\n",
              "      <td>Atlantis Water Adventure</td>\n",
              "      <td>Atlantis Water Adventure atau dikenal dengan A...</td>\n",
              "      <td>Taman Hiburan</td>\n",
              "      <td>Jakarta</td>\n",
              "      <td>94000</td>\n",
              "      <td>4.5</td>\n",
              "      <td>60.0</td>\n",
              "      <td>{'lat': -6.12419, 'lng': 106.839134}</td>\n",
              "      <td>-6.124190</td>\n",
              "      <td>106.839134</td>\n",
              "      <td>NaN</td>\n",
              "      <td>5</td>\n",
              "    </tr>\n",
              "  </tbody>\n",
              "</table>\n",
              "</div>\n",
              "      <button class=\"colab-df-convert\" onclick=\"convertToInteractive('df-e5381bbf-74b3-403f-8ba9-0d00ee016f8d')\"\n",
              "              title=\"Convert this dataframe to an interactive table.\"\n",
              "              style=\"display:none;\">\n",
              "        \n",
              "  <svg xmlns=\"http://www.w3.org/2000/svg\" height=\"24px\"viewBox=\"0 0 24 24\"\n",
              "       width=\"24px\">\n",
              "    <path d=\"M0 0h24v24H0V0z\" fill=\"none\"/>\n",
              "    <path d=\"M18.56 5.44l.94 2.06.94-2.06 2.06-.94-2.06-.94-.94-2.06-.94 2.06-2.06.94zm-11 1L8.5 8.5l.94-2.06 2.06-.94-2.06-.94L8.5 2.5l-.94 2.06-2.06.94zm10 10l.94 2.06.94-2.06 2.06-.94-2.06-.94-.94-2.06-.94 2.06-2.06.94z\"/><path d=\"M17.41 7.96l-1.37-1.37c-.4-.4-.92-.59-1.43-.59-.52 0-1.04.2-1.43.59L10.3 9.45l-7.72 7.72c-.78.78-.78 2.05 0 2.83L4 21.41c.39.39.9.59 1.41.59.51 0 1.02-.2 1.41-.59l7.78-7.78 2.81-2.81c.8-.78.8-2.07 0-2.86zM5.41 20L4 18.59l7.72-7.72 1.47 1.35L5.41 20z\"/>\n",
              "  </svg>\n",
              "      </button>\n",
              "      \n",
              "  <style>\n",
              "    .colab-df-container {\n",
              "      display:flex;\n",
              "      flex-wrap:wrap;\n",
              "      gap: 12px;\n",
              "    }\n",
              "\n",
              "    .colab-df-convert {\n",
              "      background-color: #E8F0FE;\n",
              "      border: none;\n",
              "      border-radius: 50%;\n",
              "      cursor: pointer;\n",
              "      display: none;\n",
              "      fill: #1967D2;\n",
              "      height: 32px;\n",
              "      padding: 0 0 0 0;\n",
              "      width: 32px;\n",
              "    }\n",
              "\n",
              "    .colab-df-convert:hover {\n",
              "      background-color: #E2EBFA;\n",
              "      box-shadow: 0px 1px 2px rgba(60, 64, 67, 0.3), 0px 1px 3px 1px rgba(60, 64, 67, 0.15);\n",
              "      fill: #174EA6;\n",
              "    }\n",
              "\n",
              "    [theme=dark] .colab-df-convert {\n",
              "      background-color: #3B4455;\n",
              "      fill: #D2E3FC;\n",
              "    }\n",
              "\n",
              "    [theme=dark] .colab-df-convert:hover {\n",
              "      background-color: #434B5C;\n",
              "      box-shadow: 0px 1px 3px 1px rgba(0, 0, 0, 0.15);\n",
              "      filter: drop-shadow(0px 1px 2px rgba(0, 0, 0, 0.3));\n",
              "      fill: #FFFFFF;\n",
              "    }\n",
              "  </style>\n",
              "\n",
              "      <script>\n",
              "        const buttonEl =\n",
              "          document.querySelector('#df-e5381bbf-74b3-403f-8ba9-0d00ee016f8d button.colab-df-convert');\n",
              "        buttonEl.style.display =\n",
              "          google.colab.kernel.accessAllowed ? 'block' : 'none';\n",
              "\n",
              "        async function convertToInteractive(key) {\n",
              "          const element = document.querySelector('#df-e5381bbf-74b3-403f-8ba9-0d00ee016f8d');\n",
              "          const dataTable =\n",
              "            await google.colab.kernel.invokeFunction('convertToInteractive',\n",
              "                                                     [key], {});\n",
              "          if (!dataTable) return;\n",
              "\n",
              "          const docLinkHtml = 'Like what you see? Visit the ' +\n",
              "            '<a target=\"_blank\" href=https://colab.research.google.com/notebooks/data_table.ipynb>data table notebook</a>'\n",
              "            + ' to learn more about interactive tables.';\n",
              "          element.innerHTML = '';\n",
              "          dataTable['output_type'] = 'display_data';\n",
              "          await google.colab.output.renderOutput(dataTable, element);\n",
              "          const docLink = document.createElement('div');\n",
              "          docLink.innerHTML = docLinkHtml;\n",
              "          element.appendChild(docLink);\n",
              "        }\n",
              "      </script>\n",
              "    </div>\n",
              "  </div>\n",
              "  "
            ]
          },
          "metadata": {},
          "execution_count": 6
        }
      ]
    },
    {
      "cell_type": "markdown",
      "source": [
        "- menampilkan jumlah baris dan tipe data"
      ],
      "metadata": {
        "id": "Ob42DdFJ5h4p"
      }
    },
    {
      "cell_type": "code",
      "source": [
        "dat_tourism_id.info()"
      ],
      "metadata": {
        "colab": {
          "base_uri": "https://localhost:8080/"
        },
        "id": "m6uQSTnFU6KC",
        "outputId": "6d1e3d8e-f615-4a78-e168-092d39d2de69"
      },
      "execution_count": null,
      "outputs": [
        {
          "output_type": "stream",
          "name": "stdout",
          "text": [
            "<class 'pandas.core.frame.DataFrame'>\n",
            "RangeIndex: 437 entries, 0 to 436\n",
            "Data columns (total 13 columns):\n",
            " #   Column        Non-Null Count  Dtype  \n",
            "---  ------        --------------  -----  \n",
            " 0   Place_Id      437 non-null    int64  \n",
            " 1   Place_Name    437 non-null    object \n",
            " 2   Description   437 non-null    object \n",
            " 3   Category      437 non-null    object \n",
            " 4   City          437 non-null    object \n",
            " 5   Price         437 non-null    int64  \n",
            " 6   Rating        437 non-null    float64\n",
            " 7   Time_Minutes  205 non-null    float64\n",
            " 8   Coordinate    437 non-null    object \n",
            " 9   Lat           437 non-null    float64\n",
            " 10  Long          437 non-null    float64\n",
            " 11  Unnamed: 11   0 non-null      float64\n",
            " 12  Unnamed: 12   437 non-null    int64  \n",
            "dtypes: float64(5), int64(3), object(5)\n",
            "memory usage: 44.5+ KB\n"
          ]
        }
      ]
    },
    {
      "cell_type": "markdown",
      "source": [
        "Berdasarkan output di atas, kita dapat mengetahui bahwa file dat_tourism_id memiliki 437 entri."
      ],
      "metadata": {
        "id": "oZwfb-CaUO69"
      }
    },
    {
      "cell_type": "markdown",
      "source": [
        "- melihat nilai null dari tiap kolom"
      ],
      "metadata": {
        "id": "FubJhlO0cBLi"
      }
    },
    {
      "cell_type": "code",
      "source": [
        "dat_tourism_id.isna().sum()"
      ],
      "metadata": {
        "colab": {
          "base_uri": "https://localhost:8080/"
        },
        "id": "hkoRwcvrcAoF",
        "outputId": "741d64f7-864e-477b-bede-bd1b8779b301"
      },
      "execution_count": null,
      "outputs": [
        {
          "output_type": "execute_result",
          "data": {
            "text/plain": [
              "Place_Id          0\n",
              "Place_Name        0\n",
              "Description       0\n",
              "Category          0\n",
              "City              0\n",
              "Price             0\n",
              "Rating            0\n",
              "Time_Minutes    232\n",
              "Coordinate        0\n",
              "Lat               0\n",
              "Long              0\n",
              "Unnamed: 11     437\n",
              "Unnamed: 12       0\n",
              "dtype: int64"
            ]
          },
          "metadata": {},
          "execution_count": 20
        }
      ]
    },
    {
      "cell_type": "markdown",
      "source": [
        "berdasarkan output diatas kolom time_minutes memiliki 232 nilai null"
      ],
      "metadata": {
        "id": "5_wOhIUocJn5"
      }
    },
    {
      "cell_type": "markdown",
      "source": [
        "- cek duplicate column"
      ],
      "metadata": {
        "id": "dVJF0kBpeRpL"
      }
    },
    {
      "cell_type": "code",
      "source": [
        "dat_tourism_id.duplicated().sum()"
      ],
      "metadata": {
        "colab": {
          "base_uri": "https://localhost:8080/"
        },
        "id": "8R5G3qWNcZNC",
        "outputId": "0cdc7f98-e9f4-4811-f7ad-f75a142ea36b"
      },
      "execution_count": null,
      "outputs": [
        {
          "output_type": "execute_result",
          "data": {
            "text/plain": [
              "0"
            ]
          },
          "metadata": {},
          "execution_count": 21
        }
      ]
    },
    {
      "cell_type": "markdown",
      "source": [
        "- menampilkan distribusi kategori"
      ],
      "metadata": {
        "id": "7Hg0FoFADmR9"
      }
    },
    {
      "cell_type": "code",
      "source": [
        "dat_tourism_id.groupby('Category')['Category'].agg('count')"
      ],
      "metadata": {
        "colab": {
          "base_uri": "https://localhost:8080/"
        },
        "id": "6oTEXXj0GyYC",
        "outputId": "b86119eb-9a7e-4d12-af77-b2d279cde8c4"
      },
      "execution_count": null,
      "outputs": [
        {
          "output_type": "execute_result",
          "data": {
            "text/plain": [
              "Category\n",
              "Bahari                 47\n",
              "Budaya                117\n",
              "Cagar Alam            106\n",
              "Pusat Perbelanjaan     15\n",
              "Taman Hiburan         135\n",
              "Tempat Ibadah          17\n",
              "Name: Category, dtype: int64"
            ]
          },
          "metadata": {},
          "execution_count": 10
        }
      ]
    },
    {
      "cell_type": "code",
      "source": [
        "#  Categories Distribution\n",
        "\n",
        "['Budaya' 'Taman Hiburan' 'Cagar Alam' 'Bahari' 'Pusat Perbelanjaan'\n",
        " 'Tempat Ibadah']\n",
        "\n",
        "from pandas.core.tools.datetimes import overload\n",
        "BDY = dat_tourism_id.loc[dat_tourism_id['Category'] == 'Budaya'].count()[0]\n",
        "THN = dat_tourism_id.loc[dat_tourism_id['Category'] == 'Taman Hiburan'].count()[0]\n",
        "CAM = dat_tourism_id.loc[dat_tourism_id['Category'] == 'Cagar Alam'].count()[0]\n",
        "BAH = dat_tourism_id.loc[dat_tourism_id['Category'] == 'Bahari'].count()[0]\n",
        "PPA = dat_tourism_id.loc[dat_tourism_id['Category'] == 'Pusat Perbelanjaan'].count()[0]\n",
        "TIB = dat_tourism_id.loc[dat_tourism_id['Category'] == 'Tempat Ibadah'].count()[0]\n",
        "\n",
        "labels = ['Budaya','Taman Hiburan','Cagar Alam','Bahari','Pusat Perbelanjaan','Tempat Ibadah']\n",
        "colors = ['#81F4E1', '#56CBF9', '#F5D491', '#BEB7A4', '#B4E1FF', '#F06C9B']\n",
        "\n",
        "plt.figure(figsize = (10,7))\n",
        "plt.title('Categories Distribution')\n",
        "plt.pie([BDY, THN, CAM, BAH, PPA, TIB],\n",
        "        labels = labels,\n",
        "        colors = colors,\n",
        "        autopct = '%.2f %%'\n",
        "        )\n",
        "\n",
        "plt.show()"
      ],
      "metadata": {
        "colab": {
          "base_uri": "https://localhost:8080/",
          "height": 598
        },
        "id": "wzJoD5H1RUyA",
        "outputId": "54ac6e0a-54c2-4ddc-c7be-b8468c86f2c2"
      },
      "execution_count": null,
      "outputs": [
        {
          "output_type": "display_data",
          "data": {
            "text/plain": [
              "<Figure size 1000x700 with 1 Axes>"
            ],
            "image/png": "[encoded data removed]"
          },
          "metadata": {}
        }
      ]
    },
    {
      "cell_type": "markdown",
      "source": [
        "### Data tourism Rating\n",
        "\n",
        "- dataset ini yang akan kita gunakan sebagai variabel pada model colaborative filtering"
      ],
      "metadata": {
        "id": "a5kAhc-m5ZoG"
      }
    },
    {
      "cell_type": "markdown",
      "source": [
        "#### Univariate Exploratory Data Analysis"
      ],
      "metadata": {
        "id": "eo-4AZtiE-aI"
      }
    },
    {
      "cell_type": "code",
      "source": [
        "dat_tourism_rating.columns.values"
      ],
      "metadata": {
        "colab": {
          "base_uri": "https://localhost:8080/"
        },
        "id": "veL7zUuxUdiu",
        "outputId": "a475ec1b-2058-472f-b7c0-55e633fe4a7e"
      },
      "execution_count": null,
      "outputs": [
        {
          "output_type": "execute_result",
          "data": {
            "text/plain": [
              "array(['User_Id', 'Place_Id', 'Place_Ratings'], dtype=object)"
            ]
          },
          "metadata": {},
          "execution_count": 9
        }
      ]
    },
    {
      "cell_type": "markdown",
      "source": [
        "Variabel-variabel pada dat_tourism_id dataset adalah sebagai berikut:\n",
        "\n",
        "- user_id : id user\n",
        "- place_Id :  id tempat wisata\n",
        "- place_ratings : penilaian tempat wisata"
      ],
      "metadata": {
        "id": "fPDB1daWMuic"
      }
    },
    {
      "cell_type": "markdown",
      "source": [
        "- cek jumlah entry dan tipe data"
      ],
      "metadata": {
        "id": "EVSmcyxyecFW"
      }
    },
    {
      "cell_type": "code",
      "source": [
        "dat_tourism_rating.info()"
      ],
      "metadata": {
        "colab": {
          "base_uri": "https://localhost:8080/"
        },
        "id": "sTLAAanhLGDZ",
        "outputId": "ff6f2fa2-34f5-41a4-e975-ba36d06660c9"
      },
      "execution_count": null,
      "outputs": [
        {
          "output_type": "stream",
          "name": "stdout",
          "text": [
            "<class 'pandas.core.frame.DataFrame'>\n",
            "RangeIndex: 10000 entries, 0 to 9999\n",
            "Data columns (total 3 columns):\n",
            " #   Column         Non-Null Count  Dtype\n",
            "---  ------         --------------  -----\n",
            " 0   User_Id        10000 non-null  int64\n",
            " 1   Place_Id       10000 non-null  int64\n",
            " 2   Place_Ratings  10000 non-null  int64\n",
            "dtypes: int64(3)\n",
            "memory usage: 234.5 KB\n"
          ]
        }
      ]
    },
    {
      "cell_type": "markdown",
      "source": [
        "- melihat statistik deskriptif dari kolom dengan tipe data numerik,"
      ],
      "metadata": {
        "id": "__MSmMeeefgw"
      }
    },
    {
      "cell_type": "code",
      "source": [
        "dat_tourism_rating.describe().apply(lambda s: s.apply('{0:.2f}'.format))"
      ],
      "metadata": {
        "colab": {
          "base_uri": "https://localhost:8080/",
          "height": 300
        },
        "id": "yfUp4mNCEExE",
        "outputId": "718cd522-8c8a-46fa-c947-f5498a3c3015"
      },
      "execution_count": null,
      "outputs": [
        {
          "output_type": "execute_result",
          "data": {
            "text/plain": [
              "        User_Id  Place_Id Place_Ratings\n",
              "count  10000.00  10000.00      10000.00\n",
              "mean     151.29    219.42          3.07\n",
              "std       86.14    126.23          1.38\n",
              "min        1.00      1.00          1.00\n",
              "25%       77.00    108.75          2.00\n",
              "50%      151.00    220.00          3.00\n",
              "75%      226.00    329.00          4.00\n",
              "max      300.00    437.00          5.00"
            ],
            "text/html": [
              "\n",
              "  <div id=\"df-ba814804-8b06-43fc-ba22-dff6a07c0f1a\">\n",
              "    <div class=\"colab-df-container\">\n",
              "      <div>\n",
              "<style scoped>\n",
              "    .dataframe tbody tr th:only-of-type {\n",
              "        vertical-align: middle;\n",
              "    }\n",
              "\n",
              "    .dataframe tbody tr th {\n",
              "        vertical-align: top;\n",
              "    }\n",
              "\n",
              "    .dataframe thead th {\n",
              "        text-align: right;\n",
              "    }\n",
              "</style>\n",
              "<table border=\"1\" class=\"dataframe\">\n",
              "  <thead>\n",
              "    <tr style=\"text-align: right;\">\n",
              "      <th></th>\n",
              "      <th>User_Id</th>\n",
              "      <th>Place_Id</th>\n",
              "      <th>Place_Ratings</th>\n",
              "    </tr>\n",
              "  </thead>\n",
              "  <tbody>\n",
              "    <tr>\n",
              "      <th>count</th>\n",
              "      <td>10000.00</td>\n",
              "      <td>10000.00</td>\n",
              "      <td>10000.00</td>\n",
              "    </tr>\n",
              "    <tr>\n",
              "      <th>mean</th>\n",
              "      <td>151.29</td>\n",
              "      <td>219.42</td>\n",
              "      <td>3.07</td>\n",
              "    </tr>\n",
              "    <tr>\n",
              "      <th>std</th>\n",
              "      <td>86.14</td>\n",
              "      <td>126.23</td>\n",
              "      <td>1.38</td>\n",
              "    </tr>\n",
              "    <tr>\n",
              "      <th>min</th>\n",
              "      <td>1.00</td>\n",
              "      <td>1.00</td>\n",
              "      <td>1.00</td>\n",
              "    </tr>\n",
              "    <tr>\n",
              "      <th>25%</th>\n",
              "      <td>77.00</td>\n",
              "      <td>108.75</td>\n",
              "      <td>2.00</td>\n",
              "    </tr>\n",
              "    <tr>\n",
              "      <th>50%</th>\n",
              "      <td>151.00</td>\n",
              "      <td>220.00</td>\n",
              "      <td>3.00</td>\n",
              "    </tr>\n",
              "    <tr>\n",
              "      <th>75%</th>\n",
              "      <td>226.00</td>\n",
              "      <td>329.00</td>\n",
              "      <td>4.00</td>\n",
              "    </tr>\n",
              "    <tr>\n",
              "      <th>max</th>\n",
              "      <td>300.00</td>\n",
              "      <td>437.00</td>\n",
              "      <td>5.00</td>\n",
              "    </tr>\n",
              "  </tbody>\n",
              "</table>\n",
              "</div>\n",
              "      <button class=\"colab-df-convert\" onclick=\"convertToInteractive('df-ba814804-8b06-43fc-ba22-dff6a07c0f1a')\"\n",
              "              title=\"Convert this dataframe to an interactive table.\"\n",
              "              style=\"display:none;\">\n",
              "        \n",
              "  <svg xmlns=\"http://www.w3.org/2000/svg\" height=\"24px\"viewBox=\"0 0 24 24\"\n",
              "       width=\"24px\">\n",
              "    <path d=\"M0 0h24v24H0V0z\" fill=\"none\"/>\n",
              "    <path d=\"M18.56 5.44l.94 2.06.94-2.06 2.06-.94-2.06-.94-.94-2.06-.94 2.06-2.06.94zm-11 1L8.5 8.5l.94-2.06 2.06-.94-2.06-.94L8.5 2.5l-.94 2.06-2.06.94zm10 10l.94 2.06.94-2.06 2.06-.94-2.06-.94-.94-2.06-.94 2.06-2.06.94z\"/><path d=\"M17.41 7.96l-1.37-1.37c-.4-.4-.92-.59-1.43-.59-.52 0-1.04.2-1.43.59L10.3 9.45l-7.72 7.72c-.78.78-.78 2.05 0 2.83L4 21.41c.39.39.9.59 1.41.59.51 0 1.02-.2 1.41-.59l7.78-7.78 2.81-2.81c.8-.78.8-2.07 0-2.86zM5.41 20L4 18.59l7.72-7.72 1.47 1.35L5.41 20z\"/>\n",
              "  </svg>\n",
              "      </button>\n",
              "      \n",
              "  <style>\n",
              "    .colab-df-container {\n",
              "      display:flex;\n",
              "      flex-wrap:wrap;\n",
              "      gap: 12px;\n",
              "    }\n",
              "\n",
              "    .colab-df-convert {\n",
              "      background-color: #E8F0FE;\n",
              "      border: none;\n",
              "      border-radius: 50%;\n",
              "      cursor: pointer;\n",
              "      display: none;\n",
              "      fill: #1967D2;\n",
              "      height: 32px;\n",
              "      padding: 0 0 0 0;\n",
              "      width: 32px;\n",
              "    }\n",
              "\n",
              "    .colab-df-convert:hover {\n",
              "      background-color: #E2EBFA;\n",
              "      box-shadow: 0px 1px 2px rgba(60, 64, 67, 0.3), 0px 1px 3px 1px rgba(60, 64, 67, 0.15);\n",
              "      fill: #174EA6;\n",
              "    }\n",
              "\n",
              "    [theme=dark] .colab-df-convert {\n",
              "      background-color: #3B4455;\n",
              "      fill: #D2E3FC;\n",
              "    }\n",
              "\n",
              "    [theme=dark] .colab-df-convert:hover {\n",
              "      background-color: #434B5C;\n",
              "      box-shadow: 0px 1px 3px 1px rgba(0, 0, 0, 0.15);\n",
              "      filter: drop-shadow(0px 1px 2px rgba(0, 0, 0, 0.3));\n",
              "      fill: #FFFFFF;\n",
              "    }\n",
              "  </style>\n",
              "\n",
              "      <script>\n",
              "        const buttonEl =\n",
              "          document.querySelector('#df-ba814804-8b06-43fc-ba22-dff6a07c0f1a button.colab-df-convert');\n",
              "        buttonEl.style.display =\n",
              "          google.colab.kernel.accessAllowed ? 'block' : 'none';\n",
              "\n",
              "        async function convertToInteractive(key) {\n",
              "          const element = document.querySelector('#df-ba814804-8b06-43fc-ba22-dff6a07c0f1a');\n",
              "          const dataTable =\n",
              "            await google.colab.kernel.invokeFunction('convertToInteractive',\n",
              "                                                     [key], {});\n",
              "          if (!dataTable) return;\n",
              "\n",
              "          const docLinkHtml = 'Like what you see? Visit the ' +\n",
              "            '<a target=\"_blank\" href=https://colab.research.google.com/notebooks/data_table.ipynb>data table notebook</a>'\n",
              "            + ' to learn more about interactive tables.';\n",
              "          element.innerHTML = '';\n",
              "          dataTable['output_type'] = 'display_data';\n",
              "          await google.colab.output.renderOutput(dataTable, element);\n",
              "          const docLink = document.createElement('div');\n",
              "          docLink.innerHTML = docLinkHtml;\n",
              "          element.appendChild(docLink);\n",
              "        }\n",
              "      </script>\n",
              "    </div>\n",
              "  </div>\n",
              "  "
            ]
          },
          "metadata": {},
          "execution_count": 8
        }
      ]
    },
    {
      "cell_type": "markdown",
      "source": [
        "Dataset tempat wisata ini memiliki rating  terendah 1.00 dan rating tertinggi 5.00 dengan rata-rata 3.07."
      ],
      "metadata": {
        "id": "t1kDY43gEPpB"
      }
    },
    {
      "cell_type": "markdown",
      "source": [
        "- melihat distribusi rating"
      ],
      "metadata": {
        "id": "T5qP7h69er1Q"
      }
    },
    {
      "cell_type": "code",
      "source": [
        "# Anime's Average Ratings Distribution\n",
        "plt.hist(dat_tourism_rating.Place_Ratings, color='#B4E1FF', edgecolor='black')\n",
        "plt.ylabel('Total')\n",
        "plt.xlabel('Avg Rating')\n",
        "plt.title(\"Place Average Ratings Distribution\")\n",
        "plt.show()"
      ],
      "metadata": {
        "colab": {
          "base_uri": "https://localhost:8080/",
          "height": 472
        },
        "id": "nnaW77-qH8gw",
        "outputId": "31ea3a68-d7b8-46f1-fdc5-c30ccaec0181"
      },
      "execution_count": null,
      "outputs": [
        {
          "output_type": "display_data",
          "data": {
            "text/plain": [
              "<Figure size 640x480 with 1 Axes>"
            ],
            "image/png": "[encoded data removed]"
          },
          "metadata": {}
        }
      ]
    },
    {
      "cell_type": "markdown",
      "source": [
        "- mengecek nilai null"
      ],
      "metadata": {
        "id": "V8c3G5lAclSd"
      }
    },
    {
      "cell_type": "code",
      "source": [
        "dat_tourism_rating.isna().sum()"
      ],
      "metadata": {
        "colab": {
          "base_uri": "https://localhost:8080/"
        },
        "id": "BGItY0vnciYY",
        "outputId": "af9b12d8-a88b-4712-91ff-93077818f442"
      },
      "execution_count": null,
      "outputs": [
        {
          "output_type": "execute_result",
          "data": {
            "text/plain": [
              "User_Id          0\n",
              "Place_Id         0\n",
              "Place_Ratings    0\n",
              "dtype: int64"
            ]
          },
          "metadata": {},
          "execution_count": 22
        }
      ]
    },
    {
      "cell_type": "markdown",
      "source": [
        "- menampilkan 5 sample data teratas"
      ],
      "metadata": {
        "id": "X5UjLA9cdGWP"
      }
    },
    {
      "cell_type": "code",
      "source": [
        "dat_tourism_rating.head()"
      ],
      "metadata": {
        "colab": {
          "base_uri": "https://localhost:8080/",
          "height": 206
        },
        "id": "AsVnXIcRdDl_",
        "outputId": "f0ec588d-baa8-46fd-f4a0-c4b236d59ebb"
      },
      "execution_count": null,
      "outputs": [
        {
          "output_type": "execute_result",
          "data": {
            "text/plain": [
              "   User_Id  Place_Id  Place_Ratings\n",
              "0        1       179              3\n",
              "1        1       344              2\n",
              "2        1         5              5\n",
              "3        1       373              3\n",
              "4        1       101              4"
            ],
            "text/html": [
              "\n",
              "  <div id=\"df-2de98be9-8201-4cb5-852c-af8228995bac\">\n",
              "    <div class=\"colab-df-container\">\n",
              "      <div>\n",
              "<style scoped>\n",
              "    .dataframe tbody tr th:only-of-type {\n",
              "        vertical-align: middle;\n",
              "    }\n",
              "\n",
              "    .dataframe tbody tr th {\n",
              "        vertical-align: top;\n",
              "    }\n",
              "\n",
              "    .dataframe thead th {\n",
              "        text-align: right;\n",
              "    }\n",
              "</style>\n",
              "<table border=\"1\" class=\"dataframe\">\n",
              "  <thead>\n",
              "    <tr style=\"text-align: right;\">\n",
              "      <th></th>\n",
              "      <th>User_Id</th>\n",
              "      <th>Place_Id</th>\n",
              "      <th>Place_Ratings</th>\n",
              "    </tr>\n",
              "  </thead>\n",
              "  <tbody>\n",
              "    <tr>\n",
              "      <th>0</th>\n",
              "      <td>1</td>\n",
              "      <td>179</td>\n",
              "      <td>3</td>\n",
              "    </tr>\n",
              "    <tr>\n",
              "      <th>1</th>\n",
              "      <td>1</td>\n",
              "      <td>344</td>\n",
              "      <td>2</td>\n",
              "    </tr>\n",
              "    <tr>\n",
              "      <th>2</th>\n",
              "      <td>1</td>\n",
              "      <td>5</td>\n",
              "      <td>5</td>\n",
              "    </tr>\n",
              "    <tr>\n",
              "      <th>3</th>\n",
              "      <td>1</td>\n",
              "      <td>373</td>\n",
              "      <td>3</td>\n",
              "    </tr>\n",
              "    <tr>\n",
              "      <th>4</th>\n",
              "      <td>1</td>\n",
              "      <td>101</td>\n",
              "      <td>4</td>\n",
              "    </tr>\n",
              "  </tbody>\n",
              "</table>\n",
              "</div>\n",
              "      <button class=\"colab-df-convert\" onclick=\"convertToInteractive('df-2de98be9-8201-4cb5-852c-af8228995bac')\"\n",
              "              title=\"Convert this dataframe to an interactive table.\"\n",
              "              style=\"display:none;\">\n",
              "        \n",
              "  <svg xmlns=\"http://www.w3.org/2000/svg\" height=\"24px\"viewBox=\"0 0 24 24\"\n",
              "       width=\"24px\">\n",
              "    <path d=\"M0 0h24v24H0V0z\" fill=\"none\"/>\n",
              "    <path d=\"M18.56 5.44l.94 2.06.94-2.06 2.06-.94-2.06-.94-.94-2.06-.94 2.06-2.06.94zm-11 1L8.5 8.5l.94-2.06 2.06-.94-2.06-.94L8.5 2.5l-.94 2.06-2.06.94zm10 10l.94 2.06.94-2.06 2.06-.94-2.06-.94-.94-2.06-.94 2.06-2.06.94z\"/><path d=\"M17.41 7.96l-1.37-1.37c-.4-.4-.92-.59-1.43-.59-.52 0-1.04.2-1.43.59L10.3 9.45l-7.72 7.72c-.78.78-.78 2.05 0 2.83L4 21.41c.39.39.9.59 1.41.59.51 0 1.02-.2 1.41-.59l7.78-7.78 2.81-2.81c.8-.78.8-2.07 0-2.86zM5.41 20L4 18.59l7.72-7.72 1.47 1.35L5.41 20z\"/>\n",
              "  </svg>\n",
              "      </button>\n",
              "      \n",
              "  <style>\n",
              "    .colab-df-container {\n",
              "      display:flex;\n",
              "      flex-wrap:wrap;\n",
              "      gap: 12px;\n",
              "    }\n",
              "\n",
              "    .colab-df-convert {\n",
              "      background-color: #E8F0FE;\n",
              "      border: none;\n",
              "      border-radius: 50%;\n",
              "      cursor: pointer;\n",
              "      display: none;\n",
              "      fill: #1967D2;\n",
              "      height: 32px;\n",
              "      padding: 0 0 0 0;\n",
              "      width: 32px;\n",
              "    }\n",
              "\n",
              "    .colab-df-convert:hover {\n",
              "      background-color: #E2EBFA;\n",
              "      box-shadow: 0px 1px 2px rgba(60, 64, 67, 0.3), 0px 1px 3px 1px rgba(60, 64, 67, 0.15);\n",
              "      fill: #174EA6;\n",
              "    }\n",
              "\n",
              "    [theme=dark] .colab-df-convert {\n",
              "      background-color: #3B4455;\n",
              "      fill: #D2E3FC;\n",
              "    }\n",
              "\n",
              "    [theme=dark] .colab-df-convert:hover {\n",
              "      background-color: #434B5C;\n",
              "      box-shadow: 0px 1px 3px 1px rgba(0, 0, 0, 0.15);\n",
              "      filter: drop-shadow(0px 1px 2px rgba(0, 0, 0, 0.3));\n",
              "      fill: #FFFFFF;\n",
              "    }\n",
              "  </style>\n",
              "\n",
              "      <script>\n",
              "        const buttonEl =\n",
              "          document.querySelector('#df-2de98be9-8201-4cb5-852c-af8228995bac button.colab-df-convert');\n",
              "        buttonEl.style.display =\n",
              "          google.colab.kernel.accessAllowed ? 'block' : 'none';\n",
              "\n",
              "        async function convertToInteractive(key) {\n",
              "          const element = document.querySelector('#df-2de98be9-8201-4cb5-852c-af8228995bac');\n",
              "          const dataTable =\n",
              "            await google.colab.kernel.invokeFunction('convertToInteractive',\n",
              "                                                     [key], {});\n",
              "          if (!dataTable) return;\n",
              "\n",
              "          const docLinkHtml = 'Like what you see? Visit the ' +\n",
              "            '<a target=\"_blank\" href=https://colab.research.google.com/notebooks/data_table.ipynb>data table notebook</a>'\n",
              "            + ' to learn more about interactive tables.';\n",
              "          element.innerHTML = '';\n",
              "          dataTable['output_type'] = 'display_data';\n",
              "          await google.colab.output.renderOutput(dataTable, element);\n",
              "          const docLink = document.createElement('div');\n",
              "          docLink.innerHTML = docLinkHtml;\n",
              "          element.appendChild(docLink);\n",
              "        }\n",
              "      </script>\n",
              "    </div>\n",
              "  </div>\n",
              "  "
            ]
          },
          "metadata": {},
          "execution_count": 34
        }
      ]
    },
    {
      "cell_type": "markdown",
      "source": [
        "- menampilkan nama tempat dengn menggabungkan data rating x data id"
      ],
      "metadata": {
        "id": "-OuwHCMCFamz"
      }
    },
    {
      "cell_type": "code",
      "source": [
        "dat_tourism_rating_1 = pd.merge(dat_tourism_rating,dat_tourism_id,on='Place_Id')"
      ],
      "metadata": {
        "id": "fM-WkxXTDLgm"
      },
      "execution_count": null,
      "outputs": []
    },
    {
      "cell_type": "code",
      "source": [
        "user_counts = dat_tourism_rating_1.groupby('Place_Name')['User_Id'].agg('count')\n",
        "\n",
        "# Mengurutkan data berdasarkan count 'User_Id'\n",
        "sorted_place_counts = place_counts.sort_values(ascending=False)\n",
        "\n",
        "# Tampilkan hasil\n",
        "print(sorted_place_counts)"
      ],
      "metadata": {
        "colab": {
          "base_uri": "https://localhost:8080/"
        },
        "id": "klGwZhANF5oR",
        "outputId": "fdee95f8-9cf7-4483-9ba2-c7445c48ef37"
      },
      "execution_count": null,
      "outputs": [
        {
          "output_type": "stream",
          "name": "stdout",
          "text": [
            "Place_Id\n",
            "177    39\n",
            "298    39\n",
            "437    38\n",
            "201    37\n",
            "208    36\n",
            "       ..\n",
            "72     13\n",
            "124    13\n",
            "394    13\n",
            "175    12\n",
            "51     12\n",
            "Name: User_Id, Length: 437, dtype: int64\n"
          ]
        }
      ]
    },
    {
      "cell_type": "code",
      "source": [
        "# Hitung rata-rata count 'User_Id'\n",
        "mean_place_counts = user_counts.mean()\n",
        "\n",
        "# Membuat plot visualisasi\n",
        "plt.figure(figsize=(10, 6))  # Atur ukuran plot sesuai kebutuhan\n",
        "plt.bar(place_counts.index, place_counts.values)\n",
        "plt.axhline(mean_place_counts, color='red', linestyle='--', label='Rata-rata')\n",
        "plt.xlabel('Place_Name')\n",
        "plt.ylabel('Count User_Id')\n",
        "plt.title('Count User_Id by Place_Name')\n",
        "plt.xticks(rotation=90)\n",
        "plt.legend()\n",
        "plt.show()"
      ],
      "metadata": {
        "colab": {
          "base_uri": "https://localhost:8080/",
          "height": 548
        },
        "id": "kejs3AHvHQca",
        "outputId": "ecc29695-fbcd-4f56-be80-07a2c7f6e1dc"
      },
      "execution_count": null,
      "outputs": [
        {
          "output_type": "display_data",
          "data": {
            "text/plain": [
              "<Figure size 1000x600 with 1 Axes>"
            ],
            "image/png": "[encoded data removed]"
          },
          "metadata": {}
        }
      ]
    },
    {
      "cell_type": "markdown",
      "source": [
        "berdasarkan data diatas bahwa jumlah penilaian user terbanyak adalah 39 dan terkecil adalah 12 sedangkan rata2 jumlah penilaian tiap tempat berada pada range 20-25"
      ],
      "metadata": {
        "id": "IL2GDLm0G1Ah"
      }
    },
    {
      "cell_type": "markdown",
      "source": [
        "- menampilkan 10 tempat dengan jumlah penilai user terbanyak"
      ],
      "metadata": {
        "id": "-uUcvIy-Fqdx"
      }
    },
    {
      "cell_type": "code",
      "source": [
        "user_counts = dat_tourism_rating_1.groupby('Place_Name')['User_Id'].agg('count')\n",
        "\n",
        "# Ambil 10 data teratas\n",
        "top_10_places = user_counts.nlargest(10)\n",
        "\n",
        "# Tampilkan hasil\n",
        "# print(top_10_places)\n",
        "\n",
        "# Membuat plot visualisasi\n",
        "plt.figure(figsize=(10, 6))  # Atur ukuran plot sesuai kebutuhan\n",
        "plt.barh(top_10_places.index, top_10_places.values)\n",
        "plt.xlabel('Jumlah User')\n",
        "plt.ylabel('Place_Name')\n",
        "plt.title('Top 10 Places by User Count')\n",
        "plt.show()"
      ],
      "metadata": {
        "colab": {
          "base_uri": "https://localhost:8080/",
          "height": 401
        },
        "id": "Ors6zOv0Dazo",
        "outputId": "8f3e44f9-1f6d-42dd-885a-4a195c80c299"
      },
      "execution_count": null,
      "outputs": [
        {
          "output_type": "display_data",
          "data": {
            "text/plain": [
              "<Figure size 1000x600 with 1 Axes>"
            ],
            "image/png": "[encoded data removed]"
          },
          "metadata": {}
        }
      ]
    },
    {
      "cell_type": "markdown",
      "source": [
        "### Data User"
      ],
      "metadata": {
        "id": "cZ1bYqdxWO7E"
      }
    },
    {
      "cell_type": "markdown",
      "source": [
        "menampilkan sample 5 data teratas"
      ],
      "metadata": {
        "id": "HnyuDLy8WkDA"
      }
    },
    {
      "cell_type": "code",
      "source": [
        "dat_tourism_user.head()"
      ],
      "metadata": {
        "colab": {
          "base_uri": "https://localhost:8080/",
          "height": 206
        },
        "id": "urMzaMVGWXL2",
        "outputId": "3cd69d69-5a9f-42c4-e5f3-69eb3c165537"
      },
      "execution_count": null,
      "outputs": [
        {
          "output_type": "execute_result",
          "data": {
            "text/plain": [
              "   User_Id                   Location  Age\n",
              "0        1      Semarang, Jawa Tengah   20\n",
              "1        2         Bekasi, Jawa Barat   21\n",
              "2        3        Cirebon, Jawa Barat   23\n",
              "3        4         Bekasi, Jawa Barat   21\n",
              "4        5  Lampung, Sumatera Selatan   20"
            ],
            "text/html": [
              "\n",
              "  <div id=\"df-1967d8cf-49ac-4505-a808-0181ebea1761\">\n",
              "    <div class=\"colab-df-container\">\n",
              "      <div>\n",
              "<style scoped>\n",
              "    .dataframe tbody tr th:only-of-type {\n",
              "        vertical-align: middle;\n",
              "    }\n",
              "\n",
              "    .dataframe tbody tr th {\n",
              "        vertical-align: top;\n",
              "    }\n",
              "\n",
              "    .dataframe thead th {\n",
              "        text-align: right;\n",
              "    }\n",
              "</style>\n",
              "<table border=\"1\" class=\"dataframe\">\n",
              "  <thead>\n",
              "    <tr style=\"text-align: right;\">\n",
              "      <th></th>\n",
              "      <th>User_Id</th>\n",
              "      <th>Location</th>\n",
              "      <th>Age</th>\n",
              "    </tr>\n",
              "  </thead>\n",
              "  <tbody>\n",
              "    <tr>\n",
              "      <th>0</th>\n",
              "      <td>1</td>\n",
              "      <td>Semarang, Jawa Tengah</td>\n",
              "      <td>20</td>\n",
              "    </tr>\n",
              "    <tr>\n",
              "      <th>1</th>\n",
              "      <td>2</td>\n",
              "      <td>Bekasi, Jawa Barat</td>\n",
              "      <td>21</td>\n",
              "    </tr>\n",
              "    <tr>\n",
              "      <th>2</th>\n",
              "      <td>3</td>\n",
              "      <td>Cirebon, Jawa Barat</td>\n",
              "      <td>23</td>\n",
              "    </tr>\n",
              "    <tr>\n",
              "      <th>3</th>\n",
              "      <td>4</td>\n",
              "      <td>Bekasi, Jawa Barat</td>\n",
              "      <td>21</td>\n",
              "    </tr>\n",
              "    <tr>\n",
              "      <th>4</th>\n",
              "      <td>5</td>\n",
              "      <td>Lampung, Sumatera Selatan</td>\n",
              "      <td>20</td>\n",
              "    </tr>\n",
              "  </tbody>\n",
              "</table>\n",
              "</div>\n",
              "      <button class=\"colab-df-convert\" onclick=\"convertToInteractive('df-1967d8cf-49ac-4505-a808-0181ebea1761')\"\n",
              "              title=\"Convert this dataframe to an interactive table.\"\n",
              "              style=\"display:none;\">\n",
              "        \n",
              "  <svg xmlns=\"http://www.w3.org/2000/svg\" height=\"24px\"viewBox=\"0 0 24 24\"\n",
              "       width=\"24px\">\n",
              "    <path d=\"M0 0h24v24H0V0z\" fill=\"none\"/>\n",
              "    <path d=\"M18.56 5.44l.94 2.06.94-2.06 2.06-.94-2.06-.94-.94-2.06-.94 2.06-2.06.94zm-11 1L8.5 8.5l.94-2.06 2.06-.94-2.06-.94L8.5 2.5l-.94 2.06-2.06.94zm10 10l.94 2.06.94-2.06 2.06-.94-2.06-.94-.94-2.06-.94 2.06-2.06.94z\"/><path d=\"M17.41 7.96l-1.37-1.37c-.4-.4-.92-.59-1.43-.59-.52 0-1.04.2-1.43.59L10.3 9.45l-7.72 7.72c-.78.78-.78 2.05 0 2.83L4 21.41c.39.39.9.59 1.41.59.51 0 1.02-.2 1.41-.59l7.78-7.78 2.81-2.81c.8-.78.8-2.07 0-2.86zM5.41 20L4 18.59l7.72-7.72 1.47 1.35L5.41 20z\"/>\n",
              "  </svg>\n",
              "      </button>\n",
              "      \n",
              "  <style>\n",
              "    .colab-df-container {\n",
              "      display:flex;\n",
              "      flex-wrap:wrap;\n",
              "      gap: 12px;\n",
              "    }\n",
              "\n",
              "    .colab-df-convert {\n",
              "      background-color: #E8F0FE;\n",
              "      border: none;\n",
              "      border-radius: 50%;\n",
              "      cursor: pointer;\n",
              "      display: none;\n",
              "      fill: #1967D2;\n",
              "      height: 32px;\n",
              "      padding: 0 0 0 0;\n",
              "      width: 32px;\n",
              "    }\n",
              "\n",
              "    .colab-df-convert:hover {\n",
              "      background-color: #E2EBFA;\n",
              "      box-shadow: 0px 1px 2px rgba(60, 64, 67, 0.3), 0px 1px 3px 1px rgba(60, 64, 67, 0.15);\n",
              "      fill: #174EA6;\n",
              "    }\n",
              "\n",
              "    [theme=dark] .colab-df-convert {\n",
              "      background-color: #3B4455;\n",
              "      fill: #D2E3FC;\n",
              "    }\n",
              "\n",
              "    [theme=dark] .colab-df-convert:hover {\n",
              "      background-color: #434B5C;\n",
              "      box-shadow: 0px 1px 3px 1px rgba(0, 0, 0, 0.15);\n",
              "      filter: drop-shadow(0px 1px 2px rgba(0, 0, 0, 0.3));\n",
              "      fill: #FFFFFF;\n",
              "    }\n",
              "  </style>\n",
              "\n",
              "      <script>\n",
              "        const buttonEl =\n",
              "          document.querySelector('#df-1967d8cf-49ac-4505-a808-0181ebea1761 button.colab-df-convert');\n",
              "        buttonEl.style.display =\n",
              "          google.colab.kernel.accessAllowed ? 'block' : 'none';\n",
              "\n",
              "        async function convertToInteractive(key) {\n",
              "          const element = document.querySelector('#df-1967d8cf-49ac-4505-a808-0181ebea1761');\n",
              "          const dataTable =\n",
              "            await google.colab.kernel.invokeFunction('convertToInteractive',\n",
              "                                                     [key], {});\n",
              "          if (!dataTable) return;\n",
              "\n",
              "          const docLinkHtml = 'Like what you see? Visit the ' +\n",
              "            '<a target=\"_blank\" href=https://colab.research.google.com/notebooks/data_table.ipynb>data table notebook</a>'\n",
              "            + ' to learn more about interactive tables.';\n",
              "          element.innerHTML = '';\n",
              "          dataTable['output_type'] = 'display_data';\n",
              "          await google.colab.output.renderOutput(dataTable, element);\n",
              "          const docLink = document.createElement('div');\n",
              "          docLink.innerHTML = docLinkHtml;\n",
              "          element.appendChild(docLink);\n",
              "        }\n",
              "      </script>\n",
              "    </div>\n",
              "  </div>\n",
              "  "
            ]
          },
          "metadata": {},
          "execution_count": 17
        }
      ]
    },
    {
      "cell_type": "markdown",
      "source": [
        "Menarik. Kita mendapatkan data lokasi, umur. Jika kita ingin membangun sistem rekomendasi yang lebih kompleks, mungkin kita perlu menyertakan fitur-fitur di atas pada model. Data profile ini berguna jika kita ingin membuat sistem rekomendasi berdasarkan demografi. Namun, untuk studi kasus kali ini, kita tidak akan menggunakan data profile pada model."
      ],
      "metadata": {
        "id": "7pusTvjrWpYS"
      }
    },
    {
      "cell_type": "markdown",
      "source": [
        "- menampilkan jumlah entry, tipe"
      ],
      "metadata": {
        "id": "F07M4pXpXEAC"
      }
    },
    {
      "cell_type": "code",
      "source": [
        "dat_tourism_user.info()"
      ],
      "metadata": {
        "colab": {
          "base_uri": "https://localhost:8080/"
        },
        "id": "IUOz--I0W7fx",
        "outputId": "15a2daaf-3e3b-4187-ae18-1b6a01a00bd4"
      },
      "execution_count": null,
      "outputs": [
        {
          "output_type": "stream",
          "name": "stdout",
          "text": [
            "<class 'pandas.core.frame.DataFrame'>\n",
            "RangeIndex: 300 entries, 0 to 299\n",
            "Data columns (total 3 columns):\n",
            " #   Column    Non-Null Count  Dtype \n",
            "---  ------    --------------  ----- \n",
            " 0   User_Id   300 non-null    int64 \n",
            " 1   Location  300 non-null    object\n",
            " 2   Age       300 non-null    int64 \n",
            "dtypes: int64(2), object(1)\n",
            "memory usage: 7.2+ KB\n"
          ]
        }
      ]
    },
    {
      "cell_type": "markdown",
      "source": [
        "- menampilkan deskripsi kolom yang bertipe angka"
      ],
      "metadata": {
        "id": "Sx08-niQXJkC"
      }
    },
    {
      "cell_type": "code",
      "source": [
        "dat_tourism_user.describe()"
      ],
      "metadata": {
        "colab": {
          "base_uri": "https://localhost:8080/",
          "height": 300
        },
        "id": "ccvG21WsW-HU",
        "outputId": "d691ae63-cd7f-4efa-ca9b-c2b4cd302354"
      },
      "execution_count": null,
      "outputs": [
        {
          "output_type": "execute_result",
          "data": {
            "text/plain": [
              "          User_Id         Age\n",
              "count  300.000000  300.000000\n",
              "mean   150.500000   28.700000\n",
              "std     86.746758    6.393716\n",
              "min      1.000000   18.000000\n",
              "25%     75.750000   24.000000\n",
              "50%    150.500000   29.000000\n",
              "75%    225.250000   34.000000\n",
              "max    300.000000   40.000000"
            ],
            "text/html": [
              "\n",
              "  <div id=\"df-ce7c9481-7ee3-4aee-9e6a-127dd57c4b0b\">\n",
              "    <div class=\"colab-df-container\">\n",
              "      <div>\n",
              "<style scoped>\n",
              "    .dataframe tbody tr th:only-of-type {\n",
              "        vertical-align: middle;\n",
              "    }\n",
              "\n",
              "    .dataframe tbody tr th {\n",
              "        vertical-align: top;\n",
              "    }\n",
              "\n",
              "    .dataframe thead th {\n",
              "        text-align: right;\n",
              "    }\n",
              "</style>\n",
              "<table border=\"1\" class=\"dataframe\">\n",
              "  <thead>\n",
              "    <tr style=\"text-align: right;\">\n",
              "      <th></th>\n",
              "      <th>User_Id</th>\n",
              "      <th>Age</th>\n",
              "    </tr>\n",
              "  </thead>\n",
              "  <tbody>\n",
              "    <tr>\n",
              "      <th>count</th>\n",
              "      <td>300.000000</td>\n",
              "      <td>300.000000</td>\n",
              "    </tr>\n",
              "    <tr>\n",
              "      <th>mean</th>\n",
              "      <td>150.500000</td>\n",
              "      <td>28.700000</td>\n",
              "    </tr>\n",
              "    <tr>\n",
              "      <th>std</th>\n",
              "      <td>86.746758</td>\n",
              "      <td>6.393716</td>\n",
              "    </tr>\n",
              "    <tr>\n",
              "      <th>min</th>\n",
              "      <td>1.000000</td>\n",
              "      <td>18.000000</td>\n",
              "    </tr>\n",
              "    <tr>\n",
              "      <th>25%</th>\n",
              "      <td>75.750000</td>\n",
              "      <td>24.000000</td>\n",
              "    </tr>\n",
              "    <tr>\n",
              "      <th>50%</th>\n",
              "      <td>150.500000</td>\n",
              "      <td>29.000000</td>\n",
              "    </tr>\n",
              "    <tr>\n",
              "      <th>75%</th>\n",
              "      <td>225.250000</td>\n",
              "      <td>34.000000</td>\n",
              "    </tr>\n",
              "    <tr>\n",
              "      <th>max</th>\n",
              "      <td>300.000000</td>\n",
              "      <td>40.000000</td>\n",
              "    </tr>\n",
              "  </tbody>\n",
              "</table>\n",
              "</div>\n",
              "      <button class=\"colab-df-convert\" onclick=\"convertToInteractive('df-ce7c9481-7ee3-4aee-9e6a-127dd57c4b0b')\"\n",
              "              title=\"Convert this dataframe to an interactive table.\"\n",
              "              style=\"display:none;\">\n",
              "        \n",
              "  <svg xmlns=\"http://www.w3.org/2000/svg\" height=\"24px\"viewBox=\"0 0 24 24\"\n",
              "       width=\"24px\">\n",
              "    <path d=\"M0 0h24v24H0V0z\" fill=\"none\"/>\n",
              "    <path d=\"M18.56 5.44l.94 2.06.94-2.06 2.06-.94-2.06-.94-.94-2.06-.94 2.06-2.06.94zm-11 1L8.5 8.5l.94-2.06 2.06-.94-2.06-.94L8.5 2.5l-.94 2.06-2.06.94zm10 10l.94 2.06.94-2.06 2.06-.94-2.06-.94-.94-2.06-.94 2.06-2.06.94z\"/><path d=\"M17.41 7.96l-1.37-1.37c-.4-.4-.92-.59-1.43-.59-.52 0-1.04.2-1.43.59L10.3 9.45l-7.72 7.72c-.78.78-.78 2.05 0 2.83L4 21.41c.39.39.9.59 1.41.59.51 0 1.02-.2 1.41-.59l7.78-7.78 2.81-2.81c.8-.78.8-2.07 0-2.86zM5.41 20L4 18.59l7.72-7.72 1.47 1.35L5.41 20z\"/>\n",
              "  </svg>\n",
              "      </button>\n",
              "      \n",
              "  <style>\n",
              "    .colab-df-container {\n",
              "      display:flex;\n",
              "      flex-wrap:wrap;\n",
              "      gap: 12px;\n",
              "    }\n",
              "\n",
              "    .colab-df-convert {\n",
              "      background-color: #E8F0FE;\n",
              "      border: none;\n",
              "      border-radius: 50%;\n",
              "      cursor: pointer;\n",
              "      display: none;\n",
              "      fill: #1967D2;\n",
              "      height: 32px;\n",
              "      padding: 0 0 0 0;\n",
              "      width: 32px;\n",
              "    }\n",
              "\n",
              "    .colab-df-convert:hover {\n",
              "      background-color: #E2EBFA;\n",
              "      box-shadow: 0px 1px 2px rgba(60, 64, 67, 0.3), 0px 1px 3px 1px rgba(60, 64, 67, 0.15);\n",
              "      fill: #174EA6;\n",
              "    }\n",
              "\n",
              "    [theme=dark] .colab-df-convert {\n",
              "      background-color: #3B4455;\n",
              "      fill: #D2E3FC;\n",
              "    }\n",
              "\n",
              "    [theme=dark] .colab-df-convert:hover {\n",
              "      background-color: #434B5C;\n",
              "      box-shadow: 0px 1px 3px 1px rgba(0, 0, 0, 0.15);\n",
              "      filter: drop-shadow(0px 1px 2px rgba(0, 0, 0, 0.3));\n",
              "      fill: #FFFFFF;\n",
              "    }\n",
              "  </style>\n",
              "\n",
              "      <script>\n",
              "        const buttonEl =\n",
              "          document.querySelector('#df-ce7c9481-7ee3-4aee-9e6a-127dd57c4b0b button.colab-df-convert');\n",
              "        buttonEl.style.display =\n",
              "          google.colab.kernel.accessAllowed ? 'block' : 'none';\n",
              "\n",
              "        async function convertToInteractive(key) {\n",
              "          const element = document.querySelector('#df-ce7c9481-7ee3-4aee-9e6a-127dd57c4b0b');\n",
              "          const dataTable =\n",
              "            await google.colab.kernel.invokeFunction('convertToInteractive',\n",
              "                                                     [key], {});\n",
              "          if (!dataTable) return;\n",
              "\n",
              "          const docLinkHtml = 'Like what you see? Visit the ' +\n",
              "            '<a target=\"_blank\" href=https://colab.research.google.com/notebooks/data_table.ipynb>data table notebook</a>'\n",
              "            + ' to learn more about interactive tables.';\n",
              "          element.innerHTML = '';\n",
              "          dataTable['output_type'] = 'display_data';\n",
              "          await google.colab.output.renderOutput(dataTable, element);\n",
              "          const docLink = document.createElement('div');\n",
              "          docLink.innerHTML = docLinkHtml;\n",
              "          element.appendChild(docLink);\n",
              "        }\n",
              "      </script>\n",
              "    </div>\n",
              "  </div>\n",
              "  "
            ]
          },
          "metadata": {},
          "execution_count": 19
        }
      ]
    },
    {
      "cell_type": "markdown",
      "source": [
        "- melihat distribusi umur user"
      ],
      "metadata": {
        "id": "W801AwzI9QmL"
      }
    },
    {
      "cell_type": "code",
      "source": [
        "# Anime's Average Ratings Distribution\n",
        "plt.hist(dat_tourism_user.Age, color='#B4E1FF', edgecolor='black')\n",
        "plt.ylabel('Total')\n",
        "plt.xlabel('Avg Age')\n",
        "plt.title(\"Age Average Distribution\")\n",
        "plt.show()"
      ],
      "metadata": {
        "colab": {
          "base_uri": "https://localhost:8080/",
          "height": 472
        },
        "id": "EbSmos3y87zn",
        "outputId": "9d361d54-c738-4e04-9fe4-aa25c81f7a95"
      },
      "execution_count": null,
      "outputs": [
        {
          "output_type": "display_data",
          "data": {
            "text/plain": [
              "<Figure size 640x480 with 1 Axes>"
            ],
            "image/png": "[encoded data removed]"
          },
          "metadata": {}
        }
      ]
    },
    {
      "cell_type": "markdown",
      "source": [
        "- melihat distribusi user berdasarkan lokasi"
      ],
      "metadata": {
        "id": "x0AK0wzR-XGZ"
      }
    },
    {
      "cell_type": "code",
      "source": [
        "dat_tourism_user.groupby('Location')['User_Id'].agg('count')"
      ],
      "metadata": {
        "colab": {
          "base_uri": "https://localhost:8080/"
        },
        "id": "GUJsz0xx9jMB",
        "outputId": "f324d6fa-6941-43d5-c84a-a6733d79d9c4"
      },
      "execution_count": null,
      "outputs": [
        {
          "output_type": "execute_result",
          "data": {
            "text/plain": [
              "Location\n",
              "Bandung, Jawa Barat              8\n",
              "Bekasi, Jawa Barat              39\n",
              "Bogor, Jawa Barat               17\n",
              "Cilacap, Jawa Tengah             4\n",
              "Cirebon, Jawa Barat             14\n",
              "Depok, Jawa Barat               12\n",
              "Jakarta Barat, DKI Jakarta       6\n",
              "Jakarta Pusat, DKI Jakarta      10\n",
              "Jakarta Selatan, DKI Jakarta    14\n",
              "Jakarta Timur, DKI Jakarta       6\n",
              "Jakarta Utara, DKI Jakarta      10\n",
              "Karawang, Jawa Barat             8\n",
              "Klaten, Jawa Tengah              4\n",
              "Kota Gede, DIY                   8\n",
              "Lampung, Sumatera Selatan       20\n",
              "Madura, Jawa Timur               2\n",
              "Nganjuk, Jawa Timur              2\n",
              "Palembang, Sumatera Selatan      5\n",
              "Ponorogo, Jawa Timur            11\n",
              "Purwakarat, Jawa Barat           4\n",
              "Semarang, Jawa Tengah           22\n",
              "Serang, Banten                   9\n",
              "Solo, Jawa Tengah                4\n",
              "Sragen, Jawa Tengah              9\n",
              "Subang, Jawa Barat              14\n",
              "Surabaya, Jawa Timur            10\n",
              "Tanggerang, Banten               8\n",
              "Yogyakarta, DIY                 20\n",
              "Name: User_Id, dtype: int64"
            ]
          },
          "metadata": {},
          "execution_count": 8
        }
      ]
    },
    {
      "cell_type": "code",
      "source": [
        "# Grupkan berdasarkan 'Location' dan hitung jumlah 'User_Id' pada setiap grup\n",
        "location_counts = dat_tourism_user.groupby('Location')['User_Id'].agg('count')\n",
        "\n",
        "# Plot bar chart\n",
        "plt.figure(figsize=(10, 6))  # Atur ukuran plot sesuai kebutuhan\n",
        "location_counts.plot(kind='bar')\n",
        "plt.xlabel('Location')\n",
        "plt.ylabel('Count')\n",
        "plt.title('User Counts by Location')\n",
        "# plt.xticks(rotation=45)\n",
        "plt.show()"
      ],
      "metadata": {
        "colab": {
          "base_uri": "https://localhost:8080/",
          "height": 723
        },
        "id": "dHWcKAUr-Iwy",
        "outputId": "4156e87e-c94e-49cd-9a26-28e3d60cbd03"
      },
      "execution_count": null,
      "outputs": [
        {
          "output_type": "display_data",
          "data": {
            "text/plain": [
              "<Figure size 1000x600 with 1 Axes>"
            ],
            "image/png": "[encoded data removed]"
          },
          "metadata": {}
        }
      ]
    },
    {
      "cell_type": "markdown",
      "source": [
        "## Data preparation"
      ],
      "metadata": {
        "id": "OKsjtjLDbsYd"
      }
    },
    {
      "cell_type": "code",
      "source": [
        "dat_tourism_rating.isna().sum()"
      ],
      "metadata": {
        "colab": {
          "base_uri": "https://localhost:8080/"
        },
        "id": "hTufTZKgbv7N",
        "outputId": "ea54f706-5df1-4029-b6ea-9d3ba30f83dc"
      },
      "execution_count": null,
      "outputs": [
        {
          "output_type": "execute_result",
          "data": {
            "text/plain": [
              "User_Id          0\n",
              "Place_Id         0\n",
              "Place_Ratings    0\n",
              "dtype: int64"
            ]
          },
          "metadata": {},
          "execution_count": 6
        }
      ]
    },
    {
      "cell_type": "code",
      "source": [
        "dat_tourism_id.isna().sum()"
      ],
      "metadata": {
        "colab": {
          "base_uri": "https://localhost:8080/"
        },
        "id": "E5QFejQpcC8H",
        "outputId": "53f19c16-18a1-4825-d4ec-b75e611700f5"
      },
      "execution_count": null,
      "outputs": [
        {
          "output_type": "execute_result",
          "data": {
            "text/plain": [
              "Place_Id          0\n",
              "Place_Name        0\n",
              "Description       0\n",
              "Category          0\n",
              "City              0\n",
              "Price             0\n",
              "Rating            0\n",
              "Time_Minutes    232\n",
              "Coordinate        0\n",
              "Lat               0\n",
              "Long              0\n",
              "Unnamed: 11     437\n",
              "Unnamed: 12       0\n",
              "dtype: int64"
            ]
          },
          "metadata": {},
          "execution_count": 7
        }
      ]
    },
    {
      "cell_type": "code",
      "source": [
        "dat_tourism_user.isna().sum()"
      ],
      "metadata": {
        "colab": {
          "base_uri": "https://localhost:8080/"
        },
        "id": "XOdvh6DAcKno",
        "outputId": "3f0b0e83-49d9-4e30-8f36-6aa74b99888d"
      },
      "execution_count": null,
      "outputs": [
        {
          "output_type": "execute_result",
          "data": {
            "text/plain": [
              "User_Id     0\n",
              "Location    0\n",
              "Age         0\n",
              "dtype: int64"
            ]
          },
          "metadata": {},
          "execution_count": 8
        }
      ]
    },
    {
      "cell_type": "code",
      "source": [
        "dat_tourism_id.drop(['Rating','Time_Minutes','Coordinate','Lat','Long','Unnamed: 11','Unnamed: 12'],axis=1,inplace=True)\n",
        "dat_tourism_id"
      ],
      "metadata": {
        "colab": {
          "base_uri": "https://localhost:8080/",
          "height": 641
        },
        "id": "7SLdSkvKcYzZ",
        "outputId": "0f21ebfd-8ccc-40c1-dd40-829bd5fa3426"
      },
      "execution_count": null,
      "outputs": [
        {
          "output_type": "execute_result",
          "data": {
            "text/plain": [
              "     Place_Id                                 Place_Name  \\\n",
              "0           1                           Monumen Nasional   \n",
              "1           2                                   Kota Tua   \n",
              "2           3                              Dunia Fantasi   \n",
              "3           4          Taman Mini Indonesia Indah (TMII)   \n",
              "4           5                   Atlantis Water Adventure   \n",
              "..        ...                                        ...   \n",
              "432       433                        Museum Mpu Tantular   \n",
              "433       434                              Taman Bungkul   \n",
              "434       435           Taman Air Mancur Menari Kenjeran   \n",
              "435       436               Taman Flora Bratang Surabaya   \n",
              "436       437  Gereja Perawan Maria Tak Berdosa Surabaya   \n",
              "\n",
              "                                           Description       Category  \\\n",
              "0    Monumen Nasional atau yang populer disingkat d...         Budaya   \n",
              "1    Kota tua di Jakarta, yang juga bernama Kota Tu...         Budaya   \n",
              "2    Dunia Fantasi atau disebut juga Dufan adalah t...  Taman Hiburan   \n",
              "3    Taman Mini Indonesia Indah merupakan suatu kaw...  Taman Hiburan   \n",
              "4    Atlantis Water Adventure atau dikenal dengan A...  Taman Hiburan   \n",
              "..                                                 ...            ...   \n",
              "432  Museum Negeri Mpu Tantular adalah sebuah museu...         Budaya   \n",
              "433  Taman Bungkul adalah taman wisata kota yang te...  Taman Hiburan   \n",
              "434  Air mancur menari atau dancing fountain juga a...  Taman Hiburan   \n",
              "435  Taman Flora adalah salah satu taman kota di Su...  Taman Hiburan   \n",
              "436  Gereja Katolik Kelahiran Santa Perawan Maria m...  Tempat Ibadah   \n",
              "\n",
              "         City   Price  \n",
              "0     Jakarta   20000  \n",
              "1     Jakarta       0  \n",
              "2     Jakarta  270000  \n",
              "3     Jakarta   10000  \n",
              "4     Jakarta   94000  \n",
              "..        ...     ...  \n",
              "432  Surabaya    2000  \n",
              "433  Surabaya       0  \n",
              "434  Surabaya       0  \n",
              "435  Surabaya       0  \n",
              "436  Surabaya   10000  \n",
              "\n",
              "[437 rows x 6 columns]"
            ],
            "text/html": [
              "\n",
              "  <div id=\"df-53d0f202-9f3d-4037-8e04-a530d769d396\">\n",
              "    <div class=\"colab-df-container\">\n",
              "      <div>\n",
              "<style scoped>\n",
              "    .dataframe tbody tr th:only-of-type {\n",
              "        vertical-align: middle;\n",
              "    }\n",
              "\n",
              "    .dataframe tbody tr th {\n",
              "        vertical-align: top;\n",
              "    }\n",
              "\n",
              "    .dataframe thead th {\n",
              "        text-align: right;\n",
              "    }\n",
              "</style>\n",
              "<table border=\"1\" class=\"dataframe\">\n",
              "  <thead>\n",
              "    <tr style=\"text-align: right;\">\n",
              "      <th></th>\n",
              "      <th>Place_Id</th>\n",
              "      <th>Place_Name</th>\n",
              "      <th>Description</th>\n",
              "      <th>Category</th>\n",
              "      <th>City</th>\n",
              "      <th>Price</th>\n",
              "    </tr>\n",
              "  </thead>\n",
              "  <tbody>\n",
              "    <tr>\n",
              "      <th>0</th>\n",
              "      <td>1</td>\n",
              "      <td>Monumen Nasional</td>\n",
              "      <td>Monumen Nasional atau yang populer disingkat d...</td>\n",
              "      <td>Budaya</td>\n",
              "      <td>Jakarta</td>\n",
              "      <td>20000</td>\n",
              "    </tr>\n",
              "    <tr>\n",
              "      <th>1</th>\n",
              "      <td>2</td>\n",
              "      <td>Kota Tua</td>\n",
              "      <td>Kota tua di Jakarta, yang juga bernama Kota Tu...</td>\n",
              "      <td>Budaya</td>\n",
              "      <td>Jakarta</td>\n",
              "      <td>0</td>\n",
              "    </tr>\n",
              "    <tr>\n",
              "      <th>2</th>\n",
              "      <td>3</td>\n",
              "      <td>Dunia Fantasi</td>\n",
              "      <td>Dunia Fantasi atau disebut juga Dufan adalah t...</td>\n",
              "      <td>Taman Hiburan</td>\n",
              "      <td>Jakarta</td>\n",
              "      <td>270000</td>\n",
              "    </tr>\n",
              "    <tr>\n",
              "      <th>3</th>\n",
              "      <td>4</td>\n",
              "      <td>Taman Mini Indonesia Indah (TMII)</td>\n",
              "      <td>Taman Mini Indonesia Indah merupakan suatu kaw...</td>\n",
              "      <td>Taman Hiburan</td>\n",
              "      <td>Jakarta</td>\n",
              "      <td>10000</td>\n",
              "    </tr>\n",
              "    <tr>\n",
              "      <th>4</th>\n",
              "      <td>5</td>\n",
              "      <td>Atlantis Water Adventure</td>\n",
              "      <td>Atlantis Water Adventure atau dikenal dengan A...</td>\n",
              "      <td>Taman Hiburan</td>\n",
              "      <td>Jakarta</td>\n",
              "      <td>94000</td>\n",
              "    </tr>\n",
              "    <tr>\n",
              "      <th>...</th>\n",
              "      <td>...</td>\n",
              "      <td>...</td>\n",
              "      <td>...</td>\n",
              "      <td>...</td>\n",
              "      <td>...</td>\n",
              "      <td>...</td>\n",
              "    </tr>\n",
              "    <tr>\n",
              "      <th>432</th>\n",
              "      <td>433</td>\n",
              "      <td>Museum Mpu Tantular</td>\n",
              "      <td>Museum Negeri Mpu Tantular adalah sebuah museu...</td>\n",
              "      <td>Budaya</td>\n",
              "      <td>Surabaya</td>\n",
              "      <td>2000</td>\n",
              "    </tr>\n",
              "    <tr>\n",
              "      <th>433</th>\n",
              "      <td>434</td>\n",
              "      <td>Taman Bungkul</td>\n",
              "      <td>Taman Bungkul adalah taman wisata kota yang te...</td>\n",
              "      <td>Taman Hiburan</td>\n",
              "      <td>Surabaya</td>\n",
              "      <td>0</td>\n",
              "    </tr>\n",
              "    <tr>\n",
              "      <th>434</th>\n",
              "      <td>435</td>\n",
              "      <td>Taman Air Mancur Menari Kenjeran</td>\n",
              "      <td>Air mancur menari atau dancing fountain juga a...</td>\n",
              "      <td>Taman Hiburan</td>\n",
              "      <td>Surabaya</td>\n",
              "      <td>0</td>\n",
              "    </tr>\n",
              "    <tr>\n",
              "      <th>435</th>\n",
              "      <td>436</td>\n",
              "      <td>Taman Flora Bratang Surabaya</td>\n",
              "      <td>Taman Flora adalah salah satu taman kota di Su...</td>\n",
              "      <td>Taman Hiburan</td>\n",
              "      <td>Surabaya</td>\n",
              "      <td>0</td>\n",
              "    </tr>\n",
              "    <tr>\n",
              "      <th>436</th>\n",
              "      <td>437</td>\n",
              "      <td>Gereja Perawan Maria Tak Berdosa Surabaya</td>\n",
              "      <td>Gereja Katolik Kelahiran Santa Perawan Maria m...</td>\n",
              "      <td>Tempat Ibadah</td>\n",
              "      <td>Surabaya</td>\n",
              "      <td>10000</td>\n",
              "    </tr>\n",
              "  </tbody>\n",
              "</table>\n",
              "<p>437 rows × 6 columns</p>\n",
              "</div>\n",
              "      <button class=\"colab-df-convert\" onclick=\"convertToInteractive('df-53d0f202-9f3d-4037-8e04-a530d769d396')\"\n",
              "              title=\"Convert this dataframe to an interactive table.\"\n",
              "              style=\"display:none;\">\n",
              "        \n",
              "  <svg xmlns=\"http://www.w3.org/2000/svg\" height=\"24px\"viewBox=\"0 0 24 24\"\n",
              "       width=\"24px\">\n",
              "    <path d=\"M0 0h24v24H0V0z\" fill=\"none\"/>\n",
              "    <path d=\"M18.56 5.44l.94 2.06.94-2.06 2.06-.94-2.06-.94-.94-2.06-.94 2.06-2.06.94zm-11 1L8.5 8.5l.94-2.06 2.06-.94-2.06-.94L8.5 2.5l-.94 2.06-2.06.94zm10 10l.94 2.06.94-2.06 2.06-.94-2.06-.94-.94-2.06-.94 2.06-2.06.94z\"/><path d=\"M17.41 7.96l-1.37-1.37c-.4-.4-.92-.59-1.43-.59-.52 0-1.04.2-1.43.59L10.3 9.45l-7.72 7.72c-.78.78-.78 2.05 0 2.83L4 21.41c.39.39.9.59 1.41.59.51 0 1.02-.2 1.41-.59l7.78-7.78 2.81-2.81c.8-.78.8-2.07 0-2.86zM5.41 20L4 18.59l7.72-7.72 1.47 1.35L5.41 20z\"/>\n",
              "  </svg>\n",
              "      </button>\n",
              "      \n",
              "  <style>\n",
              "    .colab-df-container {\n",
              "      display:flex;\n",
              "      flex-wrap:wrap;\n",
              "      gap: 12px;\n",
              "    }\n",
              "\n",
              "    .colab-df-convert {\n",
              "      background-color: #E8F0FE;\n",
              "      border: none;\n",
              "      border-radius: 50%;\n",
              "      cursor: pointer;\n",
              "      display: none;\n",
              "      fill: #1967D2;\n",
              "      height: 32px;\n",
              "      padding: 0 0 0 0;\n",
              "      width: 32px;\n",
              "    }\n",
              "\n",
              "    .colab-df-convert:hover {\n",
              "      background-color: #E2EBFA;\n",
              "      box-shadow: 0px 1px 2px rgba(60, 64, 67, 0.3), 0px 1px 3px 1px rgba(60, 64, 67, 0.15);\n",
              "      fill: #174EA6;\n",
              "    }\n",
              "\n",
              "    [theme=dark] .colab-df-convert {\n",
              "      background-color: #3B4455;\n",
              "      fill: #D2E3FC;\n",
              "    }\n",
              "\n",
              "    [theme=dark] .colab-df-convert:hover {\n",
              "      background-color: #434B5C;\n",
              "      box-shadow: 0px 1px 3px 1px rgba(0, 0, 0, 0.15);\n",
              "      filter: drop-shadow(0px 1px 2px rgba(0, 0, 0, 0.3));\n",
              "      fill: #FFFFFF;\n",
              "    }\n",
              "  </style>\n",
              "\n",
              "      <script>\n",
              "        const buttonEl =\n",
              "          document.querySelector('#df-53d0f202-9f3d-4037-8e04-a530d769d396 button.colab-df-convert');\n",
              "        buttonEl.style.display =\n",
              "          google.colab.kernel.accessAllowed ? 'block' : 'none';\n",
              "\n",
              "        async function convertToInteractive(key) {\n",
              "          const element = document.querySelector('#df-53d0f202-9f3d-4037-8e04-a530d769d396');\n",
              "          const dataTable =\n",
              "            await google.colab.kernel.invokeFunction('convertToInteractive',\n",
              "                                                     [key], {});\n",
              "          if (!dataTable) return;\n",
              "\n",
              "          const docLinkHtml = 'Like what you see? Visit the ' +\n",
              "            '<a target=\"_blank\" href=https://colab.research.google.com/notebooks/data_table.ipynb>data table notebook</a>'\n",
              "            + ' to learn more about interactive tables.';\n",
              "          element.innerHTML = '';\n",
              "          dataTable['output_type'] = 'display_data';\n",
              "          await google.colab.output.renderOutput(dataTable, element);\n",
              "          const docLink = document.createElement('div');\n",
              "          docLink.innerHTML = docLinkHtml;\n",
              "          element.appendChild(docLink);\n",
              "        }\n",
              "      </script>\n",
              "    </div>\n",
              "  </div>\n",
              "  "
            ]
          },
          "metadata": {},
          "execution_count": 9
        }
      ]
    },
    {
      "cell_type": "code",
      "source": [
        "dat_rekomendasi = pd.merge(dat_tourism_rating.groupby('Place_Id')['Place_Ratings'].mean(),dat_tourism_id,on='Place_Id')\n",
        "dat_rekomendasi"
      ],
      "metadata": {
        "colab": {
          "base_uri": "https://localhost:8080/",
          "height": 693
        },
        "id": "NEa_R8ZGckZY",
        "outputId": "182eb5da-06df-4c48-932b-4f87c73fc218"
      },
      "execution_count": null,
      "outputs": [
        {
          "output_type": "execute_result",
          "data": {
            "text/plain": [
              "     Place_Id  Place_Ratings                                 Place_Name  \\\n",
              "0           1       3.722222                           Monumen Nasional   \n",
              "1           2       2.840000                                   Kota Tua   \n",
              "2           3       2.526316                              Dunia Fantasi   \n",
              "3           4       2.857143          Taman Mini Indonesia Indah (TMII)   \n",
              "4           5       3.520000                   Atlantis Water Adventure   \n",
              "..        ...            ...                                        ...   \n",
              "432       433       3.304348                        Museum Mpu Tantular   \n",
              "433       434       2.400000                              Taman Bungkul   \n",
              "434       435       3.000000           Taman Air Mancur Menari Kenjeran   \n",
              "435       436       3.090909               Taman Flora Bratang Surabaya   \n",
              "436       437       3.289474  Gereja Perawan Maria Tak Berdosa Surabaya   \n",
              "\n",
              "                                           Description       Category  \\\n",
              "0    Monumen Nasional atau yang populer disingkat d...         Budaya   \n",
              "1    Kota tua di Jakarta, yang juga bernama Kota Tu...         Budaya   \n",
              "2    Dunia Fantasi atau disebut juga Dufan adalah t...  Taman Hiburan   \n",
              "3    Taman Mini Indonesia Indah merupakan suatu kaw...  Taman Hiburan   \n",
              "4    Atlantis Water Adventure atau dikenal dengan A...  Taman Hiburan   \n",
              "..                                                 ...            ...   \n",
              "432  Museum Negeri Mpu Tantular adalah sebuah museu...         Budaya   \n",
              "433  Taman Bungkul adalah taman wisata kota yang te...  Taman Hiburan   \n",
              "434  Air mancur menari atau dancing fountain juga a...  Taman Hiburan   \n",
              "435  Taman Flora adalah salah satu taman kota di Su...  Taman Hiburan   \n",
              "436  Gereja Katolik Kelahiran Santa Perawan Maria m...  Tempat Ibadah   \n",
              "\n",
              "         City   Price  \n",
              "0     Jakarta   20000  \n",
              "1     Jakarta       0  \n",
              "2     Jakarta  270000  \n",
              "3     Jakarta   10000  \n",
              "4     Jakarta   94000  \n",
              "..        ...     ...  \n",
              "432  Surabaya    2000  \n",
              "433  Surabaya       0  \n",
              "434  Surabaya       0  \n",
              "435  Surabaya       0  \n",
              "436  Surabaya   10000  \n",
              "\n",
              "[437 rows x 7 columns]"
            ],
            "text/html": [
              "\n",
              "  <div id=\"df-713578c5-dbd2-4cd2-9ef7-e381bf454c9a\">\n",
              "    <div class=\"colab-df-container\">\n",
              "      <div>\n",
              "<style scoped>\n",
              "    .dataframe tbody tr th:only-of-type {\n",
              "        vertical-align: middle;\n",
              "    }\n",
              "\n",
              "    .dataframe tbody tr th {\n",
              "        vertical-align: top;\n",
              "    }\n",
              "\n",
              "    .dataframe thead th {\n",
              "        text-align: right;\n",
              "    }\n",
              "</style>\n",
              "<table border=\"1\" class=\"dataframe\">\n",
              "  <thead>\n",
              "    <tr style=\"text-align: right;\">\n",
              "      <th></th>\n",
              "      <th>Place_Id</th>\n",
              "      <th>Place_Ratings</th>\n",
              "      <th>Place_Name</th>\n",
              "      <th>Description</th>\n",
              "      <th>Category</th>\n",
              "      <th>City</th>\n",
              "      <th>Price</th>\n",
              "    </tr>\n",
              "  </thead>\n",
              "  <tbody>\n",
              "    <tr>\n",
              "      <th>0</th>\n",
              "      <td>1</td>\n",
              "      <td>3.722222</td>\n",
              "      <td>Monumen Nasional</td>\n",
              "      <td>Monumen Nasional atau yang populer disingkat d...</td>\n",
              "      <td>Budaya</td>\n",
              "      <td>Jakarta</td>\n",
              "      <td>20000</td>\n",
              "    </tr>\n",
              "    <tr>\n",
              "      <th>1</th>\n",
              "      <td>2</td>\n",
              "      <td>2.840000</td>\n",
              "      <td>Kota Tua</td>\n",
              "      <td>Kota tua di Jakarta, yang juga bernama Kota Tu...</td>\n",
              "      <td>Budaya</td>\n",
              "      <td>Jakarta</td>\n",
              "      <td>0</td>\n",
              "    </tr>\n",
              "    <tr>\n",
              "      <th>2</th>\n",
              "      <td>3</td>\n",
              "      <td>2.526316</td>\n",
              "      <td>Dunia Fantasi</td>\n",
              "      <td>Dunia Fantasi atau disebut juga Dufan adalah t...</td>\n",
              "      <td>Taman Hiburan</td>\n",
              "      <td>Jakarta</td>\n",
              "      <td>270000</td>\n",
              "    </tr>\n",
              "    <tr>\n",
              "      <th>3</th>\n",
              "      <td>4</td>\n",
              "      <td>2.857143</td>\n",
              "      <td>Taman Mini Indonesia Indah (TMII)</td>\n",
              "      <td>Taman Mini Indonesia Indah merupakan suatu kaw...</td>\n",
              "      <td>Taman Hiburan</td>\n",
              "      <td>Jakarta</td>\n",
              "      <td>10000</td>\n",
              "    </tr>\n",
              "    <tr>\n",
              "      <th>4</th>\n",
              "      <td>5</td>\n",
              "      <td>3.520000</td>\n",
              "      <td>Atlantis Water Adventure</td>\n",
              "      <td>Atlantis Water Adventure atau dikenal dengan A...</td>\n",
              "      <td>Taman Hiburan</td>\n",
              "      <td>Jakarta</td>\n",
              "      <td>94000</td>\n",
              "    </tr>\n",
              "    <tr>\n",
              "      <th>...</th>\n",
              "      <td>...</td>\n",
              "      <td>...</td>\n",
              "      <td>...</td>\n",
              "      <td>...</td>\n",
              "      <td>...</td>\n",
              "      <td>...</td>\n",
              "      <td>...</td>\n",
              "    </tr>\n",
              "    <tr>\n",
              "      <th>432</th>\n",
              "      <td>433</td>\n",
              "      <td>3.304348</td>\n",
              "      <td>Museum Mpu Tantular</td>\n",
              "      <td>Museum Negeri Mpu Tantular adalah sebuah museu...</td>\n",
              "      <td>Budaya</td>\n",
              "      <td>Surabaya</td>\n",
              "      <td>2000</td>\n",
              "    </tr>\n",
              "    <tr>\n",
              "      <th>433</th>\n",
              "      <td>434</td>\n",
              "      <td>2.400000</td>\n",
              "      <td>Taman Bungkul</td>\n",
              "      <td>Taman Bungkul adalah taman wisata kota yang te...</td>\n",
              "      <td>Taman Hiburan</td>\n",
              "      <td>Surabaya</td>\n",
              "      <td>0</td>\n",
              "    </tr>\n",
              "    <tr>\n",
              "      <th>434</th>\n",
              "      <td>435</td>\n",
              "      <td>3.000000</td>\n",
              "      <td>Taman Air Mancur Menari Kenjeran</td>\n",
              "      <td>Air mancur menari atau dancing fountain juga a...</td>\n",
              "      <td>Taman Hiburan</td>\n",
              "      <td>Surabaya</td>\n",
              "      <td>0</td>\n",
              "    </tr>\n",
              "    <tr>\n",
              "      <th>435</th>\n",
              "      <td>436</td>\n",
              "      <td>3.090909</td>\n",
              "      <td>Taman Flora Bratang Surabaya</td>\n",
              "      <td>Taman Flora adalah salah satu taman kota di Su...</td>\n",
              "      <td>Taman Hiburan</td>\n",
              "      <td>Surabaya</td>\n",
              "      <td>0</td>\n",
              "    </tr>\n",
              "    <tr>\n",
              "      <th>436</th>\n",
              "      <td>437</td>\n",
              "      <td>3.289474</td>\n",
              "      <td>Gereja Perawan Maria Tak Berdosa Surabaya</td>\n",
              "      <td>Gereja Katolik Kelahiran Santa Perawan Maria m...</td>\n",
              "      <td>Tempat Ibadah</td>\n",
              "      <td>Surabaya</td>\n",
              "      <td>10000</td>\n",
              "    </tr>\n",
              "  </tbody>\n",
              "</table>\n",
              "<p>437 rows × 7 columns</p>\n",
              "</div>\n",
              "      <button class=\"colab-df-convert\" onclick=\"convertToInteractive('df-713578c5-dbd2-4cd2-9ef7-e381bf454c9a')\"\n",
              "              title=\"Convert this dataframe to an interactive table.\"\n",
              "              style=\"display:none;\">\n",
              "        \n",
              "  <svg xmlns=\"http://www.w3.org/2000/svg\" height=\"24px\"viewBox=\"0 0 24 24\"\n",
              "       width=\"24px\">\n",
              "    <path d=\"M0 0h24v24H0V0z\" fill=\"none\"/>\n",
              "    <path d=\"M18.56 5.44l.94 2.06.94-2.06 2.06-.94-2.06-.94-.94-2.06-.94 2.06-2.06.94zm-11 1L8.5 8.5l.94-2.06 2.06-.94-2.06-.94L8.5 2.5l-.94 2.06-2.06.94zm10 10l.94 2.06.94-2.06 2.06-.94-2.06-.94-.94-2.06-.94 2.06-2.06.94z\"/><path d=\"M17.41 7.96l-1.37-1.37c-.4-.4-.92-.59-1.43-.59-.52 0-1.04.2-1.43.59L10.3 9.45l-7.72 7.72c-.78.78-.78 2.05 0 2.83L4 21.41c.39.39.9.59 1.41.59.51 0 1.02-.2 1.41-.59l7.78-7.78 2.81-2.81c.8-.78.8-2.07 0-2.86zM5.41 20L4 18.59l7.72-7.72 1.47 1.35L5.41 20z\"/>\n",
              "  </svg>\n",
              "      </button>\n",
              "      \n",
              "  <style>\n",
              "    .colab-df-container {\n",
              "      display:flex;\n",
              "      flex-wrap:wrap;\n",
              "      gap: 12px;\n",
              "    }\n",
              "\n",
              "    .colab-df-convert {\n",
              "      background-color: #E8F0FE;\n",
              "      border: none;\n",
              "      border-radius: 50%;\n",
              "      cursor: pointer;\n",
              "      display: none;\n",
              "      fill: #1967D2;\n",
              "      height: 32px;\n",
              "      padding: 0 0 0 0;\n",
              "      width: 32px;\n",
              "    }\n",
              "\n",
              "    .colab-df-convert:hover {\n",
              "      background-color: #E2EBFA;\n",
              "      box-shadow: 0px 1px 2px rgba(60, 64, 67, 0.3), 0px 1px 3px 1px rgba(60, 64, 67, 0.15);\n",
              "      fill: #174EA6;\n",
              "    }\n",
              "\n",
              "    [theme=dark] .colab-df-convert {\n",
              "      background-color: #3B4455;\n",
              "      fill: #D2E3FC;\n",
              "    }\n",
              "\n",
              "    [theme=dark] .colab-df-convert:hover {\n",
              "      background-color: #434B5C;\n",
              "      box-shadow: 0px 1px 3px 1px rgba(0, 0, 0, 0.15);\n",
              "      filter: drop-shadow(0px 1px 2px rgba(0, 0, 0, 0.3));\n",
              "      fill: #FFFFFF;\n",
              "    }\n",
              "  </style>\n",
              "\n",
              "      <script>\n",
              "        const buttonEl =\n",
              "          document.querySelector('#df-713578c5-dbd2-4cd2-9ef7-e381bf454c9a button.colab-df-convert');\n",
              "        buttonEl.style.display =\n",
              "          google.colab.kernel.accessAllowed ? 'block' : 'none';\n",
              "\n",
              "        async function convertToInteractive(key) {\n",
              "          const element = document.querySelector('#df-713578c5-dbd2-4cd2-9ef7-e381bf454c9a');\n",
              "          const dataTable =\n",
              "            await google.colab.kernel.invokeFunction('convertToInteractive',\n",
              "                                                     [key], {});\n",
              "          if (!dataTable) return;\n",
              "\n",
              "          const docLinkHtml = 'Like what you see? Visit the ' +\n",
              "            '<a target=\"_blank\" href=https://colab.research.google.com/notebooks/data_table.ipynb>data table notebook</a>'\n",
              "            + ' to learn more about interactive tables.';\n",
              "          element.innerHTML = '';\n",
              "          dataTable['output_type'] = 'display_data';\n",
              "          await google.colab.output.renderOutput(dataTable, element);\n",
              "          const docLink = document.createElement('div');\n",
              "          docLink.innerHTML = docLinkHtml;\n",
              "          element.appendChild(docLink);\n",
              "        }\n",
              "      </script>\n",
              "    </div>\n",
              "  </div>\n",
              "  "
            ]
          },
          "metadata": {},
          "execution_count": 10
        }
      ]
    },
    {
      "cell_type": "code",
      "source": [
        "dat_rekomendasi.describe()"
      ],
      "metadata": {
        "colab": {
          "base_uri": "https://localhost:8080/",
          "height": 300
        },
        "id": "j7PaUEI9BsvM",
        "outputId": "573aab37-1555-4b24-f078-412454969c1a"
      },
      "execution_count": null,
      "outputs": [
        {
          "output_type": "execute_result",
          "data": {
            "text/plain": [
              "         Place_Id  Place_Ratings          Price\n",
              "count  437.000000     437.000000     437.000000\n",
              "mean   219.000000       3.067236   24652.173913\n",
              "std    126.295289       0.305788   66446.374709\n",
              "min      1.000000       2.000000       0.000000\n",
              "25%    110.000000       2.875000       0.000000\n",
              "50%    219.000000       3.071429    5000.000000\n",
              "75%    328.000000       3.285714   20000.000000\n",
              "max    437.000000       3.967742  900000.000000"
            ],
            "text/html": [
              "\n",
              "  <div id=\"df-a19e7591-be26-4922-b7ae-5f1148d1ac8c\">\n",
              "    <div class=\"colab-df-container\">\n",
              "      <div>\n",
              "<style scoped>\n",
              "    .dataframe tbody tr th:only-of-type {\n",
              "        vertical-align: middle;\n",
              "    }\n",
              "\n",
              "    .dataframe tbody tr th {\n",
              "        vertical-align: top;\n",
              "    }\n",
              "\n",
              "    .dataframe thead th {\n",
              "        text-align: right;\n",
              "    }\n",
              "</style>\n",
              "<table border=\"1\" class=\"dataframe\">\n",
              "  <thead>\n",
              "    <tr style=\"text-align: right;\">\n",
              "      <th></th>\n",
              "      <th>Place_Id</th>\n",
              "      <th>Place_Ratings</th>\n",
              "      <th>Price</th>\n",
              "    </tr>\n",
              "  </thead>\n",
              "  <tbody>\n",
              "    <tr>\n",
              "      <th>count</th>\n",
              "      <td>437.000000</td>\n",
              "      <td>437.000000</td>\n",
              "      <td>437.000000</td>\n",
              "    </tr>\n",
              "    <tr>\n",
              "      <th>mean</th>\n",
              "      <td>219.000000</td>\n",
              "      <td>3.067236</td>\n",
              "      <td>24652.173913</td>\n",
              "    </tr>\n",
              "    <tr>\n",
              "      <th>std</th>\n",
              "      <td>126.295289</td>\n",
              "      <td>0.305788</td>\n",
              "      <td>66446.374709</td>\n",
              "    </tr>\n",
              "    <tr>\n",
              "      <th>min</th>\n",
              "      <td>1.000000</td>\n",
              "      <td>2.000000</td>\n",
              "      <td>0.000000</td>\n",
              "    </tr>\n",
              "    <tr>\n",
              "      <th>25%</th>\n",
              "      <td>110.000000</td>\n",
              "      <td>2.875000</td>\n",
              "      <td>0.000000</td>\n",
              "    </tr>\n",
              "    <tr>\n",
              "      <th>50%</th>\n",
              "      <td>219.000000</td>\n",
              "      <td>3.071429</td>\n",
              "      <td>5000.000000</td>\n",
              "    </tr>\n",
              "    <tr>\n",
              "      <th>75%</th>\n",
              "      <td>328.000000</td>\n",
              "      <td>3.285714</td>\n",
              "      <td>20000.000000</td>\n",
              "    </tr>\n",
              "    <tr>\n",
              "      <th>max</th>\n",
              "      <td>437.000000</td>\n",
              "      <td>3.967742</td>\n",
              "      <td>900000.000000</td>\n",
              "    </tr>\n",
              "  </tbody>\n",
              "</table>\n",
              "</div>\n",
              "      <button class=\"colab-df-convert\" onclick=\"convertToInteractive('df-a19e7591-be26-4922-b7ae-5f1148d1ac8c')\"\n",
              "              title=\"Convert this dataframe to an interactive table.\"\n",
              "              style=\"display:none;\">\n",
              "        \n",
              "  <svg xmlns=\"http://www.w3.org/2000/svg\" height=\"24px\"viewBox=\"0 0 24 24\"\n",
              "       width=\"24px\">\n",
              "    <path d=\"M0 0h24v24H0V0z\" fill=\"none\"/>\n",
              "    <path d=\"M18.56 5.44l.94 2.06.94-2.06 2.06-.94-2.06-.94-.94-2.06-.94 2.06-2.06.94zm-11 1L8.5 8.5l.94-2.06 2.06-.94-2.06-.94L8.5 2.5l-.94 2.06-2.06.94zm10 10l.94 2.06.94-2.06 2.06-.94-2.06-.94-.94-2.06-.94 2.06-2.06.94z\"/><path d=\"M17.41 7.96l-1.37-1.37c-.4-.4-.92-.59-1.43-.59-.52 0-1.04.2-1.43.59L10.3 9.45l-7.72 7.72c-.78.78-.78 2.05 0 2.83L4 21.41c.39.39.9.59 1.41.59.51 0 1.02-.2 1.41-.59l7.78-7.78 2.81-2.81c.8-.78.8-2.07 0-2.86zM5.41 20L4 18.59l7.72-7.72 1.47 1.35L5.41 20z\"/>\n",
              "  </svg>\n",
              "      </button>\n",
              "      \n",
              "  <style>\n",
              "    .colab-df-container {\n",
              "      display:flex;\n",
              "      flex-wrap:wrap;\n",
              "      gap: 12px;\n",
              "    }\n",
              "\n",
              "    .colab-df-convert {\n",
              "      background-color: #E8F0FE;\n",
              "      border: none;\n",
              "      border-radius: 50%;\n",
              "      cursor: pointer;\n",
              "      display: none;\n",
              "      fill: #1967D2;\n",
              "      height: 32px;\n",
              "      padding: 0 0 0 0;\n",
              "      width: 32px;\n",
              "    }\n",
              "\n",
              "    .colab-df-convert:hover {\n",
              "      background-color: #E2EBFA;\n",
              "      box-shadow: 0px 1px 2px rgba(60, 64, 67, 0.3), 0px 1px 3px 1px rgba(60, 64, 67, 0.15);\n",
              "      fill: #174EA6;\n",
              "    }\n",
              "\n",
              "    [theme=dark] .colab-df-convert {\n",
              "      background-color: #3B4455;\n",
              "      fill: #D2E3FC;\n",
              "    }\n",
              "\n",
              "    [theme=dark] .colab-df-convert:hover {\n",
              "      background-color: #434B5C;\n",
              "      box-shadow: 0px 1px 3px 1px rgba(0, 0, 0, 0.15);\n",
              "      filter: drop-shadow(0px 1px 2px rgba(0, 0, 0, 0.3));\n",
              "      fill: #FFFFFF;\n",
              "    }\n",
              "  </style>\n",
              "\n",
              "      <script>\n",
              "        const buttonEl =\n",
              "          document.querySelector('#df-a19e7591-be26-4922-b7ae-5f1148d1ac8c button.colab-df-convert');\n",
              "        buttonEl.style.display =\n",
              "          google.colab.kernel.accessAllowed ? 'block' : 'none';\n",
              "\n",
              "        async function convertToInteractive(key) {\n",
              "          const element = document.querySelector('#df-a19e7591-be26-4922-b7ae-5f1148d1ac8c');\n",
              "          const dataTable =\n",
              "            await google.colab.kernel.invokeFunction('convertToInteractive',\n",
              "                                                     [key], {});\n",
              "          if (!dataTable) return;\n",
              "\n",
              "          const docLinkHtml = 'Like what you see? Visit the ' +\n",
              "            '<a target=\"_blank\" href=https://colab.research.google.com/notebooks/data_table.ipynb>data table notebook</a>'\n",
              "            + ' to learn more about interactive tables.';\n",
              "          element.innerHTML = '';\n",
              "          dataTable['output_type'] = 'display_data';\n",
              "          await google.colab.output.renderOutput(dataTable, element);\n",
              "          const docLink = document.createElement('div');\n",
              "          docLink.innerHTML = docLinkHtml;\n",
              "          element.appendChild(docLink);\n",
              "        }\n",
              "      </script>\n",
              "    </div>\n",
              "  </div>\n",
              "  "
            ]
          },
          "metadata": {},
          "execution_count": 11
        }
      ]
    },
    {
      "cell_type": "code",
      "source": [
        "# Mengurutkan DataFrame berdasarkan nilai tertinggi pada kolom 'ColumnName'\n",
        "sorted_df = dat_rekomendasi.sort_values('Place_Ratings', ascending=False)\n",
        "\n",
        "# Menampilkan 10 baris teratas\n",
        "top_10_rows = sorted_df[['Place_Name','Place_Ratings']].head(10)\n",
        "\n",
        "# Tampilkan hasil\n",
        "# print(top_10_rows)\n",
        "\n",
        "# Membuat plot visualisasi dengan label sumbu x dan y dibalik\n",
        "plt.figure(figsize=(10, 6))  # Atur ukuran plot sesuai kebutuhan\n",
        "plt.barh(top_10_rows['Place_Name'], top_10_rows['Place_Ratings'])\n",
        "plt.xlabel('Ratings')  # Label sumbu x\n",
        "plt.ylabel('Place')  # Label sumbu y\n",
        "plt.title('Top 10 Places by Ratings')\n",
        "plt.show()"
      ],
      "metadata": {
        "colab": {
          "base_uri": "https://localhost:8080/",
          "height": 411
        },
        "id": "BN0L7C4TAgmI",
        "outputId": "7ca5ba77-336e-49d3-831e-cf00dd3cb195"
      },
      "execution_count": null,
      "outputs": [
        {
          "output_type": "display_data",
          "data": {
            "text/plain": [
              "<Figure size 1000x600 with 1 Axes>"
            ],
            "image/png": "[encoded data removed]"
          },
          "metadata": {}
        }
      ]
    },
    {
      "cell_type": "markdown",
      "source": [
        "## Modeling"
      ],
      "metadata": {
        "id": "bqc4I4KtcyrU"
      }
    },
    {
      "cell_type": "markdown",
      "source": [
        "### modeling with content based filtering\n",
        "\n",
        "- Dalam pendekatan ini, digunakan metode TF-IDF dan Cosine Similarity untuk memperoleh rekomendasi yang relevan."
      ],
      "metadata": {
        "id": "z8ZE9mNQh0ru"
      }
    },
    {
      "cell_type": "markdown",
      "source": [
        "import library\n",
        "- sastrawi untuk nlp processing\n",
        "- coisine_similarity\n",
        "- TfidfVectorizer"
      ],
      "metadata": {
        "id": "Vo2poVwslV5s"
      }
    },
    {
      "cell_type": "code",
      "source": [
        "!pip install Sastrawi"
      ],
      "metadata": {
        "colab": {
          "base_uri": "https://localhost:8080/"
        },
        "id": "_YzDCVwMeAVU",
        "outputId": "4b3d79f1-e79f-4771-b863-aac8aea3d9e5"
      },
      "execution_count": null,
      "outputs": [
        {
          "output_type": "stream",
          "name": "stdout",
          "text": [
            "Looking in indexes: https://pypi.org/simple, https://us-python.pkg.dev/colab-wheels/public/simple/\n",
            "Collecting Sastrawi\n",
            "  Downloading Sastrawi-1.0.1-py2.py3-none-any.whl (209 kB)\n",
            "\u001b[2K     \u001b[90m━━━━━━━━━━━━━━━━━━━━━━━━━━━━━━━━━━━━━━━\u001b[0m \u001b[32m209.7/209.7 kB\u001b[0m \u001b[31m6.4 MB/s\u001b[0m eta \u001b[36m0:00:00\u001b[0m\n",
            "\u001b[?25hInstalling collected packages: Sastrawi\n",
            "Successfully installed Sastrawi-1.0.1\n"
          ]
        }
      ]
    },
    {
      "cell_type": "code",
      "source": [
        "from sklearn.feature_extraction.text import TfidfVectorizer\n",
        "from Sastrawi.Stemmer.StemmerFactory import StemmerFactory\n",
        "from Sastrawi.StopWordRemover.StopWordRemoverFactory import StopWordRemoverFactory\n",
        "from sklearn.metrics.pairwise import cosine_similarity"
      ],
      "metadata": {
        "id": "InyE4J_5epHC"
      },
      "execution_count": null,
      "outputs": []
    },
    {
      "cell_type": "markdown",
      "source": [
        "- define variabel TfidfVectorizer, stem, stopword"
      ],
      "metadata": {
        "id": "Ca9bXUiBlrVl"
      }
    },
    {
      "cell_type": "code",
      "source": [
        "tv = TfidfVectorizer(max_features=5000)\n",
        "stem = StemmerFactory().create_stemmer()\n",
        "stopword = StopWordRemoverFactory().create_stop_word_remover()"
      ],
      "metadata": {
        "id": "sQMg0L0veg2x"
      },
      "execution_count": null,
      "outputs": []
    },
    {
      "cell_type": "markdown",
      "source": [
        "- membuat fungsi data preprocessing data\n",
        "  - menggunakan fungsi lower\n",
        "  - menggunakan fungsi stem\n",
        "  - menggunakan fungsi stopword"
      ],
      "metadata": {
        "id": "QKmYwzHfl3xf"
      }
    },
    {
      "cell_type": "code",
      "source": [
        "def preprocessing(data):\n",
        "    data = data.lower()\n",
        "    data = stem.stem(data)\n",
        "    data = stopword.remove(data)\n",
        "    return data"
      ],
      "metadata": {
        "id": "o32i0SOdc4-K"
      },
      "execution_count": null,
      "outputs": []
    },
    {
      "cell_type": "markdown",
      "source": [
        "- data preparation\n",
        "  - menyalin dat_rekomendasi\n",
        "  - membuat kolom baru bernama tags yang merupakan hasil penggabungan kolom description dan kategori\n",
        "  - menghapus kolom price, place_ratings, description, category, dan city"
      ],
      "metadata": {
        "id": "Q6RMVDGNmiD0"
      }
    },
    {
      "cell_type": "code",
      "source": [
        "dat_content_based_filtering = dat_rekomendasi.copy()\n",
        "dat_content_based_filtering['Tags'] = dat_content_based_filtering['Description'] + ' ' + dat_content_based_filtering['Category']\n",
        "dat_content_based_filtering.drop(['Price','Place_Ratings','Description','Category','City'],axis=1,inplace=True)\n",
        "dat_content_based_filtering"
      ],
      "metadata": {
        "colab": {
          "base_uri": "https://localhost:8080/",
          "height": 468
        },
        "id": "zfWfA06Bc8UM",
        "outputId": "a98eaa76-1549-4df1-a030-16fb3c9a4432"
      },
      "execution_count": null,
      "outputs": [
        {
          "output_type": "execute_result",
          "data": {
            "text/plain": [
              "     Place_Id                                 Place_Name  \\\n",
              "0           1                           Monumen Nasional   \n",
              "1           2                                   Kota Tua   \n",
              "2           3                              Dunia Fantasi   \n",
              "3           4          Taman Mini Indonesia Indah (TMII)   \n",
              "4           5                   Atlantis Water Adventure   \n",
              "..        ...                                        ...   \n",
              "432       433                        Museum Mpu Tantular   \n",
              "433       434                              Taman Bungkul   \n",
              "434       435           Taman Air Mancur Menari Kenjeran   \n",
              "435       436               Taman Flora Bratang Surabaya   \n",
              "436       437  Gereja Perawan Maria Tak Berdosa Surabaya   \n",
              "\n",
              "                                                  Tags  \n",
              "0    Monumen Nasional atau yang populer disingkat d...  \n",
              "1    Kota tua di Jakarta, yang juga bernama Kota Tu...  \n",
              "2    Dunia Fantasi atau disebut juga Dufan adalah t...  \n",
              "3    Taman Mini Indonesia Indah merupakan suatu kaw...  \n",
              "4    Atlantis Water Adventure atau dikenal dengan A...  \n",
              "..                                                 ...  \n",
              "432  Museum Negeri Mpu Tantular adalah sebuah museu...  \n",
              "433  Taman Bungkul adalah taman wisata kota yang te...  \n",
              "434  Air mancur menari atau dancing fountain juga a...  \n",
              "435  Taman Flora adalah salah satu taman kota di Su...  \n",
              "436  Gereja Katolik Kelahiran Santa Perawan Maria m...  \n",
              "\n",
              "[437 rows x 3 columns]"
            ],
            "text/html": [
              "\n",
              "  <div id=\"df-bf1384fe-0edb-46d9-9be2-07f1b75a16a9\">\n",
              "    <div class=\"colab-df-container\">\n",
              "      <div>\n",
              "<style scoped>\n",
              "    .dataframe tbody tr th:only-of-type {\n",
              "        vertical-align: middle;\n",
              "    }\n",
              "\n",
              "    .dataframe tbody tr th {\n",
              "        vertical-align: top;\n",
              "    }\n",
              "\n",
              "    .dataframe thead th {\n",
              "        text-align: right;\n",
              "    }\n",
              "</style>\n",
              "<table border=\"1\" class=\"dataframe\">\n",
              "  <thead>\n",
              "    <tr style=\"text-align: right;\">\n",
              "      <th></th>\n",
              "      <th>Place_Id</th>\n",
              "      <th>Place_Name</th>\n",
              "      <th>Tags</th>\n",
              "    </tr>\n",
              "  </thead>\n",
              "  <tbody>\n",
              "    <tr>\n",
              "      <th>0</th>\n",
              "      <td>1</td>\n",
              "      <td>Monumen Nasional</td>\n",
              "      <td>Monumen Nasional atau yang populer disingkat d...</td>\n",
              "    </tr>\n",
              "    <tr>\n",
              "      <th>1</th>\n",
              "      <td>2</td>\n",
              "      <td>Kota Tua</td>\n",
              "      <td>Kota tua di Jakarta, yang juga bernama Kota Tu...</td>\n",
              "    </tr>\n",
              "    <tr>\n",
              "      <th>2</th>\n",
              "      <td>3</td>\n",
              "      <td>Dunia Fantasi</td>\n",
              "      <td>Dunia Fantasi atau disebut juga Dufan adalah t...</td>\n",
              "    </tr>\n",
              "    <tr>\n",
              "      <th>3</th>\n",
              "      <td>4</td>\n",
              "      <td>Taman Mini Indonesia Indah (TMII)</td>\n",
              "      <td>Taman Mini Indonesia Indah merupakan suatu kaw...</td>\n",
              "    </tr>\n",
              "    <tr>\n",
              "      <th>4</th>\n",
              "      <td>5</td>\n",
              "      <td>Atlantis Water Adventure</td>\n",
              "      <td>Atlantis Water Adventure atau dikenal dengan A...</td>\n",
              "    </tr>\n",
              "    <tr>\n",
              "      <th>...</th>\n",
              "      <td>...</td>\n",
              "      <td>...</td>\n",
              "      <td>...</td>\n",
              "    </tr>\n",
              "    <tr>\n",
              "      <th>432</th>\n",
              "      <td>433</td>\n",
              "      <td>Museum Mpu Tantular</td>\n",
              "      <td>Museum Negeri Mpu Tantular adalah sebuah museu...</td>\n",
              "    </tr>\n",
              "    <tr>\n",
              "      <th>433</th>\n",
              "      <td>434</td>\n",
              "      <td>Taman Bungkul</td>\n",
              "      <td>Taman Bungkul adalah taman wisata kota yang te...</td>\n",
              "    </tr>\n",
              "    <tr>\n",
              "      <th>434</th>\n",
              "      <td>435</td>\n",
              "      <td>Taman Air Mancur Menari Kenjeran</td>\n",
              "      <td>Air mancur menari atau dancing fountain juga a...</td>\n",
              "    </tr>\n",
              "    <tr>\n",
              "      <th>435</th>\n",
              "      <td>436</td>\n",
              "      <td>Taman Flora Bratang Surabaya</td>\n",
              "      <td>Taman Flora adalah salah satu taman kota di Su...</td>\n",
              "    </tr>\n",
              "    <tr>\n",
              "      <th>436</th>\n",
              "      <td>437</td>\n",
              "      <td>Gereja Perawan Maria Tak Berdosa Surabaya</td>\n",
              "      <td>Gereja Katolik Kelahiran Santa Perawan Maria m...</td>\n",
              "    </tr>\n",
              "  </tbody>\n",
              "</table>\n",
              "<p>437 rows × 3 columns</p>\n",
              "</div>\n",
              "      <button class=\"colab-df-convert\" onclick=\"convertToInteractive('df-bf1384fe-0edb-46d9-9be2-07f1b75a16a9')\"\n",
              "              title=\"Convert this dataframe to an interactive table.\"\n",
              "              style=\"display:none;\">\n",
              "        \n",
              "  <svg xmlns=\"http://www.w3.org/2000/svg\" height=\"24px\"viewBox=\"0 0 24 24\"\n",
              "       width=\"24px\">\n",
              "    <path d=\"M0 0h24v24H0V0z\" fill=\"none\"/>\n",
              "    <path d=\"M18.56 5.44l.94 2.06.94-2.06 2.06-.94-2.06-.94-.94-2.06-.94 2.06-2.06.94zm-11 1L8.5 8.5l.94-2.06 2.06-.94-2.06-.94L8.5 2.5l-.94 2.06-2.06.94zm10 10l.94 2.06.94-2.06 2.06-.94-2.06-.94-.94-2.06-.94 2.06-2.06.94z\"/><path d=\"M17.41 7.96l-1.37-1.37c-.4-.4-.92-.59-1.43-.59-.52 0-1.04.2-1.43.59L10.3 9.45l-7.72 7.72c-.78.78-.78 2.05 0 2.83L4 21.41c.39.39.9.59 1.41.59.51 0 1.02-.2 1.41-.59l7.78-7.78 2.81-2.81c.8-.78.8-2.07 0-2.86zM5.41 20L4 18.59l7.72-7.72 1.47 1.35L5.41 20z\"/>\n",
              "  </svg>\n",
              "      </button>\n",
              "      \n",
              "  <style>\n",
              "    .colab-df-container {\n",
              "      display:flex;\n",
              "      flex-wrap:wrap;\n",
              "      gap: 12px;\n",
              "    }\n",
              "\n",
              "    .colab-df-convert {\n",
              "      background-color: #E8F0FE;\n",
              "      border: none;\n",
              "      border-radius: 50%;\n",
              "      cursor: pointer;\n",
              "      display: none;\n",
              "      fill: #1967D2;\n",
              "      height: 32px;\n",
              "      padding: 0 0 0 0;\n",
              "      width: 32px;\n",
              "    }\n",
              "\n",
              "    .colab-df-convert:hover {\n",
              "      background-color: #E2EBFA;\n",
              "      box-shadow: 0px 1px 2px rgba(60, 64, 67, 0.3), 0px 1px 3px 1px rgba(60, 64, 67, 0.15);\n",
              "      fill: #174EA6;\n",
              "    }\n",
              "\n",
              "    [theme=dark] .colab-df-convert {\n",
              "      background-color: #3B4455;\n",
              "      fill: #D2E3FC;\n",
              "    }\n",
              "\n",
              "    [theme=dark] .colab-df-convert:hover {\n",
              "      background-color: #434B5C;\n",
              "      box-shadow: 0px 1px 3px 1px rgba(0, 0, 0, 0.15);\n",
              "      filter: drop-shadow(0px 1px 2px rgba(0, 0, 0, 0.3));\n",
              "      fill: #FFFFFF;\n",
              "    }\n",
              "  </style>\n",
              "\n",
              "      <script>\n",
              "        const buttonEl =\n",
              "          document.querySelector('#df-bf1384fe-0edb-46d9-9be2-07f1b75a16a9 button.colab-df-convert');\n",
              "        buttonEl.style.display =\n",
              "          google.colab.kernel.accessAllowed ? 'block' : 'none';\n",
              "\n",
              "        async function convertToInteractive(key) {\n",
              "          const element = document.querySelector('#df-bf1384fe-0edb-46d9-9be2-07f1b75a16a9');\n",
              "          const dataTable =\n",
              "            await google.colab.kernel.invokeFunction('convertToInteractive',\n",
              "                                                     [key], {});\n",
              "          if (!dataTable) return;\n",
              "\n",
              "          const docLinkHtml = 'Like what you see? Visit the ' +\n",
              "            '<a target=\"_blank\" href=https://colab.research.google.com/notebooks/data_table.ipynb>data table notebook</a>'\n",
              "            + ' to learn more about interactive tables.';\n",
              "          element.innerHTML = '';\n",
              "          dataTable['output_type'] = 'display_data';\n",
              "          await google.colab.output.renderOutput(dataTable, element);\n",
              "          const docLink = document.createElement('div');\n",
              "          docLink.innerHTML = docLinkHtml;\n",
              "          element.appendChild(docLink);\n",
              "        }\n",
              "      </script>\n",
              "    </div>\n",
              "  </div>\n",
              "  "
            ]
          },
          "metadata": {},
          "execution_count": 40
        }
      ]
    },
    {
      "cell_type": "markdown",
      "source": [
        "- data preprocessing (implementasi fungsi preprocessing)"
      ],
      "metadata": {
        "id": "0Uc_vbA5mqOp"
      }
    },
    {
      "cell_type": "code",
      "source": [
        "dat_content_based_filtering.Tags = dat_content_based_filtering.Tags.apply(preprocessing)\n",
        "dat_content_based_filtering"
      ],
      "metadata": {
        "colab": {
          "base_uri": "https://localhost:8080/",
          "height": 468
        },
        "id": "0Bx2iBn6dwJS",
        "outputId": "a40b0796-6741-4e54-dd79-ef82088d27c3"
      },
      "execution_count": null,
      "outputs": [
        {
          "output_type": "execute_result",
          "data": {
            "text/plain": [
              "     Place_Id                                 Place_Name  \\\n",
              "0           1                           Monumen Nasional   \n",
              "1           2                                   Kota Tua   \n",
              "2           3                              Dunia Fantasi   \n",
              "3           4          Taman Mini Indonesia Indah (TMII)   \n",
              "4           5                   Atlantis Water Adventure   \n",
              "..        ...                                        ...   \n",
              "432       433                        Museum Mpu Tantular   \n",
              "433       434                              Taman Bungkul   \n",
              "434       435           Taman Air Mancur Menari Kenjeran   \n",
              "435       436               Taman Flora Bratang Surabaya   \n",
              "436       437  Gereja Perawan Maria Tak Berdosa Surabaya   \n",
              "\n",
              "                                                  Tags  \n",
              "0    monumen nasional populer singkat monas tugu mo...  \n",
              "1    kota tua jakarta juga nama kota tua pusat alun...  \n",
              "2    dunia fantasi sebut dufan tempat hibur letak k...  \n",
              "3    taman mini indonesia indah rupa suatu kawasan ...  \n",
              "4    atlantis water adventure kenal atlantis ancol ...  \n",
              "..                                                 ...  \n",
              "432  museum negeri mpu tantular buah museum negeri ...  \n",
              "433  taman bungkul taman wisata kota letak pusat ko...  \n",
              "434  air mancur tari dancing fountain ada kawasan j...  \n",
              "435  taman flora salah satu taman kota surabaya rup...  \n",
              "436  gereja katolik lahir santa perawan maria rupa ...  \n",
              "\n",
              "[437 rows x 3 columns]"
            ],
            "text/html": [
              "\n",
              "  <div id=\"df-48d03773-b9d7-40d9-8143-857623a1fbbd\">\n",
              "    <div class=\"colab-df-container\">\n",
              "      <div>\n",
              "<style scoped>\n",
              "    .dataframe tbody tr th:only-of-type {\n",
              "        vertical-align: middle;\n",
              "    }\n",
              "\n",
              "    .dataframe tbody tr th {\n",
              "        vertical-align: top;\n",
              "    }\n",
              "\n",
              "    .dataframe thead th {\n",
              "        text-align: right;\n",
              "    }\n",
              "</style>\n",
              "<table border=\"1\" class=\"dataframe\">\n",
              "  <thead>\n",
              "    <tr style=\"text-align: right;\">\n",
              "      <th></th>\n",
              "      <th>Place_Id</th>\n",
              "      <th>Place_Name</th>\n",
              "      <th>Tags</th>\n",
              "    </tr>\n",
              "  </thead>\n",
              "  <tbody>\n",
              "    <tr>\n",
              "      <th>0</th>\n",
              "      <td>1</td>\n",
              "      <td>Monumen Nasional</td>\n",
              "      <td>monumen nasional populer singkat monas tugu mo...</td>\n",
              "    </tr>\n",
              "    <tr>\n",
              "      <th>1</th>\n",
              "      <td>2</td>\n",
              "      <td>Kota Tua</td>\n",
              "      <td>kota tua jakarta juga nama kota tua pusat alun...</td>\n",
              "    </tr>\n",
              "    <tr>\n",
              "      <th>2</th>\n",
              "      <td>3</td>\n",
              "      <td>Dunia Fantasi</td>\n",
              "      <td>dunia fantasi sebut dufan tempat hibur letak k...</td>\n",
              "    </tr>\n",
              "    <tr>\n",
              "      <th>3</th>\n",
              "      <td>4</td>\n",
              "      <td>Taman Mini Indonesia Indah (TMII)</td>\n",
              "      <td>taman mini indonesia indah rupa suatu kawasan ...</td>\n",
              "    </tr>\n",
              "    <tr>\n",
              "      <th>4</th>\n",
              "      <td>5</td>\n",
              "      <td>Atlantis Water Adventure</td>\n",
              "      <td>atlantis water adventure kenal atlantis ancol ...</td>\n",
              "    </tr>\n",
              "    <tr>\n",
              "      <th>...</th>\n",
              "      <td>...</td>\n",
              "      <td>...</td>\n",
              "      <td>...</td>\n",
              "    </tr>\n",
              "    <tr>\n",
              "      <th>432</th>\n",
              "      <td>433</td>\n",
              "      <td>Museum Mpu Tantular</td>\n",
              "      <td>museum negeri mpu tantular buah museum negeri ...</td>\n",
              "    </tr>\n",
              "    <tr>\n",
              "      <th>433</th>\n",
              "      <td>434</td>\n",
              "      <td>Taman Bungkul</td>\n",
              "      <td>taman bungkul taman wisata kota letak pusat ko...</td>\n",
              "    </tr>\n",
              "    <tr>\n",
              "      <th>434</th>\n",
              "      <td>435</td>\n",
              "      <td>Taman Air Mancur Menari Kenjeran</td>\n",
              "      <td>air mancur tari dancing fountain ada kawasan j...</td>\n",
              "    </tr>\n",
              "    <tr>\n",
              "      <th>435</th>\n",
              "      <td>436</td>\n",
              "      <td>Taman Flora Bratang Surabaya</td>\n",
              "      <td>taman flora salah satu taman kota surabaya rup...</td>\n",
              "    </tr>\n",
              "    <tr>\n",
              "      <th>436</th>\n",
              "      <td>437</td>\n",
              "      <td>Gereja Perawan Maria Tak Berdosa Surabaya</td>\n",
              "      <td>gereja katolik lahir santa perawan maria rupa ...</td>\n",
              "    </tr>\n",
              "  </tbody>\n",
              "</table>\n",
              "<p>437 rows × 3 columns</p>\n",
              "</div>\n",
              "      <button class=\"colab-df-convert\" onclick=\"convertToInteractive('df-48d03773-b9d7-40d9-8143-857623a1fbbd')\"\n",
              "              title=\"Convert this dataframe to an interactive table.\"\n",
              "              style=\"display:none;\">\n",
              "        \n",
              "  <svg xmlns=\"http://www.w3.org/2000/svg\" height=\"24px\"viewBox=\"0 0 24 24\"\n",
              "       width=\"24px\">\n",
              "    <path d=\"M0 0h24v24H0V0z\" fill=\"none\"/>\n",
              "    <path d=\"M18.56 5.44l.94 2.06.94-2.06 2.06-.94-2.06-.94-.94-2.06-.94 2.06-2.06.94zm-11 1L8.5 8.5l.94-2.06 2.06-.94-2.06-.94L8.5 2.5l-.94 2.06-2.06.94zm10 10l.94 2.06.94-2.06 2.06-.94-2.06-.94-.94-2.06-.94 2.06-2.06.94z\"/><path d=\"M17.41 7.96l-1.37-1.37c-.4-.4-.92-.59-1.43-.59-.52 0-1.04.2-1.43.59L10.3 9.45l-7.72 7.72c-.78.78-.78 2.05 0 2.83L4 21.41c.39.39.9.59 1.41.59.51 0 1.02-.2 1.41-.59l7.78-7.78 2.81-2.81c.8-.78.8-2.07 0-2.86zM5.41 20L4 18.59l7.72-7.72 1.47 1.35L5.41 20z\"/>\n",
              "  </svg>\n",
              "      </button>\n",
              "      \n",
              "  <style>\n",
              "    .colab-df-container {\n",
              "      display:flex;\n",
              "      flex-wrap:wrap;\n",
              "      gap: 12px;\n",
              "    }\n",
              "\n",
              "    .colab-df-convert {\n",
              "      background-color: #E8F0FE;\n",
              "      border: none;\n",
              "      border-radius: 50%;\n",
              "      cursor: pointer;\n",
              "      display: none;\n",
              "      fill: #1967D2;\n",
              "      height: 32px;\n",
              "      padding: 0 0 0 0;\n",
              "      width: 32px;\n",
              "    }\n",
              "\n",
              "    .colab-df-convert:hover {\n",
              "      background-color: #E2EBFA;\n",
              "      box-shadow: 0px 1px 2px rgba(60, 64, 67, 0.3), 0px 1px 3px 1px rgba(60, 64, 67, 0.15);\n",
              "      fill: #174EA6;\n",
              "    }\n",
              "\n",
              "    [theme=dark] .colab-df-convert {\n",
              "      background-color: #3B4455;\n",
              "      fill: #D2E3FC;\n",
              "    }\n",
              "\n",
              "    [theme=dark] .colab-df-convert:hover {\n",
              "      background-color: #434B5C;\n",
              "      box-shadow: 0px 1px 3px 1px rgba(0, 0, 0, 0.15);\n",
              "      filter: drop-shadow(0px 1px 2px rgba(0, 0, 0, 0.3));\n",
              "      fill: #FFFFFF;\n",
              "    }\n",
              "  </style>\n",
              "\n",
              "      <script>\n",
              "        const buttonEl =\n",
              "          document.querySelector('#df-48d03773-b9d7-40d9-8143-857623a1fbbd button.colab-df-convert');\n",
              "        buttonEl.style.display =\n",
              "          google.colab.kernel.accessAllowed ? 'block' : 'none';\n",
              "\n",
              "        async function convertToInteractive(key) {\n",
              "          const element = document.querySelector('#df-48d03773-b9d7-40d9-8143-857623a1fbbd');\n",
              "          const dataTable =\n",
              "            await google.colab.kernel.invokeFunction('convertToInteractive',\n",
              "                                                     [key], {});\n",
              "          if (!dataTable) return;\n",
              "\n",
              "          const docLinkHtml = 'Like what you see? Visit the ' +\n",
              "            '<a target=\"_blank\" href=https://colab.research.google.com/notebooks/data_table.ipynb>data table notebook</a>'\n",
              "            + ' to learn more about interactive tables.';\n",
              "          element.innerHTML = '';\n",
              "          dataTable['output_type'] = 'display_data';\n",
              "          await google.colab.output.renderOutput(dataTable, element);\n",
              "          const docLink = document.createElement('div');\n",
              "          docLink.innerHTML = docLinkHtml;\n",
              "          element.appendChild(docLink);\n",
              "        }\n",
              "      </script>\n",
              "    </div>\n",
              "  </div>\n",
              "  "
            ]
          },
          "metadata": {},
          "execution_count": 41
        }
      ]
    },
    {
      "cell_type": "markdown",
      "source": [
        "- implementasi TF-IDF Vectorizer"
      ],
      "metadata": {
        "id": "bqLKIYSmA3hR"
      }
    },
    {
      "cell_type": "code",
      "source": [
        "vectors = tv.fit_transform(dat_content_based_filtering.Tags).toarray()\n",
        "vectors"
      ],
      "metadata": {
        "colab": {
          "base_uri": "https://localhost:8080/"
        },
        "id": "NGZE-rE2dwAh",
        "outputId": "83a11ebd-f75d-424e-9f89-94bba5ab0d68"
      },
      "execution_count": null,
      "outputs": [
        {
          "output_type": "execute_result",
          "data": {
            "text/plain": [
              "array([[0., 0., 0., ..., 0., 0., 0.],\n",
              "       [0., 0., 0., ..., 0., 0., 0.],\n",
              "       [0., 0., 0., ..., 0., 0., 0.],\n",
              "       ...,\n",
              "       [0., 0., 0., ..., 0., 0., 0.],\n",
              "       [0., 0., 0., ..., 0., 0., 0.],\n",
              "       [0., 0., 0., ..., 0., 0., 0.]])"
            ]
          },
          "metadata": {},
          "execution_count": 42
        }
      ]
    },
    {
      "cell_type": "markdown",
      "source": [
        "- implementasi Cosine Similarity with vectors inputs and save it as similarity variabel"
      ],
      "metadata": {
        "id": "khzYOjLgA-RI"
      }
    },
    {
      "cell_type": "code",
      "source": [
        "similarity = cosine_similarity(vectors)\n",
        "similarity[0][1:10]"
      ],
      "metadata": {
        "colab": {
          "base_uri": "https://localhost:8080/"
        },
        "id": "TUwiRzUnfkeW",
        "outputId": "bb51101e-ba7e-4b6a-ab5b-78d1f5690a7e"
      },
      "execution_count": null,
      "outputs": [
        {
          "output_type": "execute_result",
          "data": {
            "text/plain": [
              "array([0.04510993, 0.07188361, 0.02807929, 0.00479488, 0.01497397,\n",
              "       0.02458836, 0.00394491, 0.01975822, 0.01633207])"
            ]
          },
          "metadata": {},
          "execution_count": 65
        }
      ]
    },
    {
      "cell_type": "markdown",
      "source": [
        "- membuat fungsi content based rekomendasi\n",
        "  - menggunakan similarity variabel\n",
        "  - menggunakan fungsi pengurutan\n",
        "  - menampilkan hasil"
      ],
      "metadata": {
        "id": "wvlVtyucBA_-"
      }
    },
    {
      "cell_type": "code",
      "source": [
        "def recommend_by_content_based_filtering(nama_tempat):\n",
        "    nama_tempat_index = dat_content_based_filtering[dat_content_based_filtering['Place_Name']==nama_tempat].index[0]\n",
        "    distancess = similarity[nama_tempat_index]\n",
        "    nama_tempat_list = sorted(list(enumerate(distancess)),key=lambda x: x[1],reverse=True)[1:6]\n",
        "\n",
        "    recommended_nama_tempats = []\n",
        "    for i in nama_tempat_list:\n",
        "        recommended_nama_tempats.append([dat_content_based_filtering.iloc[i[0]].Place_Name]+[i[1]])\n",
        "        # print(nama_tempats.iloc[i[0]].original_title)\n",
        "\n",
        "    return recommended_nama_tempats"
      ],
      "metadata": {
        "id": "zr0X9mSyfpO6"
      },
      "execution_count": null,
      "outputs": []
    },
    {
      "cell_type": "markdown",
      "source": [
        "#### uji coba fungsi content-based rekomendasi\n",
        "  - uji coba 3 tempat yaitu Monumen nasioanl, taman bangkul dan atlantis water adventure"
      ],
      "metadata": {
        "id": "9-B33Dw2BH7m"
      }
    },
    {
      "cell_type": "code",
      "source": [
        "recommend_by_content_based_filtering('Monumen Nasional')"
      ],
      "metadata": {
        "colab": {
          "base_uri": "https://localhost:8080/"
        },
        "id": "YuTWqOLMfzTh",
        "outputId": "e5842998-7872-4a18-b1b4-47c87d814412"
      },
      "execution_count": null,
      "outputs": [
        {
          "output_type": "execute_result",
          "data": {
            "text/plain": [
              "[['Monumen Bandung Lautan Api', 0.28683907306335177],\n",
              " ['Monumen Selamat Datang', 0.2661577967639709],\n",
              " ['Monumen Perjuangan Rakyat Jawa Barat', 0.25729692362006246],\n",
              " ['Tugu Muda Semarang', 0.22491138935052768],\n",
              " ['Monumen Bambu Runcing Surabaya', 0.20482652874129093]]"
            ]
          },
          "metadata": {},
          "execution_count": 66
        }
      ]
    },
    {
      "cell_type": "code",
      "source": [
        "recommend_by_content_based_filtering('Taman Bungkul')"
      ],
      "metadata": {
        "colab": {
          "base_uri": "https://localhost:8080/"
        },
        "id": "MDwLxFstYa53",
        "outputId": "0db6fb5e-3c2d-4e19-cd31-c10f6c8a5881"
      },
      "execution_count": null,
      "outputs": [
        {
          "output_type": "execute_result",
          "data": {
            "text/plain": [
              "[['Taman Mundu', 0.32682345819114],\n",
              " ['Taman Flora Bratang Surabaya', 0.26385187201054355],\n",
              " ['Taman Barunawati', 0.25888384483979043],\n",
              " ['Taman Balai Kota Bandung', 0.25825864832012657],\n",
              " ['Taman Buah Surabaya', 0.22882903814914157]]"
            ]
          },
          "metadata": {},
          "execution_count": 69
        }
      ]
    },
    {
      "cell_type": "code",
      "source": [
        "recommend_by_content_based_filtering('Atlantis Water Adventure')"
      ],
      "metadata": {
        "colab": {
          "base_uri": "https://localhost:8080/"
        },
        "id": "HHJbYhsHZyNO",
        "outputId": "779a56aa-cce4-491f-f2db-9fe749b220cc"
      },
      "execution_count": null,
      "outputs": [
        {
          "output_type": "execute_result",
          "data": {
            "text/plain": [
              "[['Waterpark Kenjeran Surabaya', 0.23389919301008244],\n",
              " ['Atlantis Land Surabaya', 0.21468493723053944],\n",
              " ['Water Park Bandung Indah', 0.19422573141172442],\n",
              " ['Panghegar Waterboom Bandung', 0.18448687624440493],\n",
              " ['Batununggal Indah Club', 0.17884151754952304]]"
            ]
          },
          "metadata": {},
          "execution_count": 76
        }
      ]
    },
    {
      "cell_type": "markdown",
      "source": [
        "### modeling with Collaborative filtering\n",
        "\n",
        "- Pendekatai yang digunakan adalah model based.\n",
        " dengan metode deeplearning.\n",
        "- Digunakan model RecommerderNet berbasis TensorFlow untuk mempelajari pola preferensi pelanggan dan interaksi mereka dengan tempat. Model ini menggunakan embedding untuk merepresentasikan user dan tourism. Penggabungan embedding tersebut untuk dapat memprediksi preferensi user terhadap tempat wisata tertentu."
      ],
      "metadata": {
        "id": "raxqnQP2f6Yp"
      }
    },
    {
      "cell_type": "markdown",
      "source": [
        "import library\n",
        "- tensorflow\n",
        "- keras\n",
        "- layers"
      ],
      "metadata": {
        "id": "OyMkla7tnA7M"
      }
    },
    {
      "cell_type": "code",
      "source": [
        "import tensorflow as tf\n",
        "from tensorflow import keras\n",
        "from tensorflow.keras import layers"
      ],
      "metadata": {
        "id": "WjwRaOfoigz4"
      },
      "execution_count": null,
      "outputs": []
    },
    {
      "cell_type": "markdown",
      "source": [
        "- menyalin data rating"
      ],
      "metadata": {
        "id": "b9VOc_l7ZzKY"
      }
    },
    {
      "cell_type": "code",
      "source": [
        "dat_collaborative_filtering = dat_tourism_rating.copy()\n",
        "dat_collaborative_filtering"
      ],
      "metadata": {
        "colab": {
          "base_uri": "https://localhost:8080/",
          "height": 424
        },
        "id": "ARJZQ7Wuf-qg",
        "outputId": "bb2d70ea-13d6-4c13-ea21-f3610abdff6d"
      },
      "execution_count": null,
      "outputs": [
        {
          "output_type": "execute_result",
          "data": {
            "text/plain": [
              "      User_Id  Place_Id  Place_Ratings\n",
              "0           1       179              3\n",
              "1           1       344              2\n",
              "2           1         5              5\n",
              "3           1       373              3\n",
              "4           1       101              4\n",
              "...       ...       ...            ...\n",
              "9995      300       425              2\n",
              "9996      300        64              4\n",
              "9997      300       311              3\n",
              "9998      300       279              4\n",
              "9999      300       163              2\n",
              "\n",
              "[10000 rows x 3 columns]"
            ],
            "text/html": [
              "\n",
              "  <div id=\"df-d5a29e68-8bd5-41b9-936f-6f0afe8beb8b\">\n",
              "    <div class=\"colab-df-container\">\n",
              "      <div>\n",
              "<style scoped>\n",
              "    .dataframe tbody tr th:only-of-type {\n",
              "        vertical-align: middle;\n",
              "    }\n",
              "\n",
              "    .dataframe tbody tr th {\n",
              "        vertical-align: top;\n",
              "    }\n",
              "\n",
              "    .dataframe thead th {\n",
              "        text-align: right;\n",
              "    }\n",
              "</style>\n",
              "<table border=\"1\" class=\"dataframe\">\n",
              "  <thead>\n",
              "    <tr style=\"text-align: right;\">\n",
              "      <th></th>\n",
              "      <th>User_Id</th>\n",
              "      <th>Place_Id</th>\n",
              "      <th>Place_Ratings</th>\n",
              "    </tr>\n",
              "  </thead>\n",
              "  <tbody>\n",
              "    <tr>\n",
              "      <th>0</th>\n",
              "      <td>1</td>\n",
              "      <td>179</td>\n",
              "      <td>3</td>\n",
              "    </tr>\n",
              "    <tr>\n",
              "      <th>1</th>\n",
              "      <td>1</td>\n",
              "      <td>344</td>\n",
              "      <td>2</td>\n",
              "    </tr>\n",
              "    <tr>\n",
              "      <th>2</th>\n",
              "      <td>1</td>\n",
              "      <td>5</td>\n",
              "      <td>5</td>\n",
              "    </tr>\n",
              "    <tr>\n",
              "      <th>3</th>\n",
              "      <td>1</td>\n",
              "      <td>373</td>\n",
              "      <td>3</td>\n",
              "    </tr>\n",
              "    <tr>\n",
              "      <th>4</th>\n",
              "      <td>1</td>\n",
              "      <td>101</td>\n",
              "      <td>4</td>\n",
              "    </tr>\n",
              "    <tr>\n",
              "      <th>...</th>\n",
              "      <td>...</td>\n",
              "      <td>...</td>\n",
              "      <td>...</td>\n",
              "    </tr>\n",
              "    <tr>\n",
              "      <th>9995</th>\n",
              "      <td>300</td>\n",
              "      <td>425</td>\n",
              "      <td>2</td>\n",
              "    </tr>\n",
              "    <tr>\n",
              "      <th>9996</th>\n",
              "      <td>300</td>\n",
              "      <td>64</td>\n",
              "      <td>4</td>\n",
              "    </tr>\n",
              "    <tr>\n",
              "      <th>9997</th>\n",
              "      <td>300</td>\n",
              "      <td>311</td>\n",
              "      <td>3</td>\n",
              "    </tr>\n",
              "    <tr>\n",
              "      <th>9998</th>\n",
              "      <td>300</td>\n",
              "      <td>279</td>\n",
              "      <td>4</td>\n",
              "    </tr>\n",
              "    <tr>\n",
              "      <th>9999</th>\n",
              "      <td>300</td>\n",
              "      <td>163</td>\n",
              "      <td>2</td>\n",
              "    </tr>\n",
              "  </tbody>\n",
              "</table>\n",
              "<p>10000 rows × 3 columns</p>\n",
              "</div>\n",
              "      <button class=\"colab-df-convert\" onclick=\"convertToInteractive('df-d5a29e68-8bd5-41b9-936f-6f0afe8beb8b')\"\n",
              "              title=\"Convert this dataframe to an interactive table.\"\n",
              "              style=\"display:none;\">\n",
              "        \n",
              "  <svg xmlns=\"http://www.w3.org/2000/svg\" height=\"24px\"viewBox=\"0 0 24 24\"\n",
              "       width=\"24px\">\n",
              "    <path d=\"M0 0h24v24H0V0z\" fill=\"none\"/>\n",
              "    <path d=\"M18.56 5.44l.94 2.06.94-2.06 2.06-.94-2.06-.94-.94-2.06-.94 2.06-2.06.94zm-11 1L8.5 8.5l.94-2.06 2.06-.94-2.06-.94L8.5 2.5l-.94 2.06-2.06.94zm10 10l.94 2.06.94-2.06 2.06-.94-2.06-.94-.94-2.06-.94 2.06-2.06.94z\"/><path d=\"M17.41 7.96l-1.37-1.37c-.4-.4-.92-.59-1.43-.59-.52 0-1.04.2-1.43.59L10.3 9.45l-7.72 7.72c-.78.78-.78 2.05 0 2.83L4 21.41c.39.39.9.59 1.41.59.51 0 1.02-.2 1.41-.59l7.78-7.78 2.81-2.81c.8-.78.8-2.07 0-2.86zM5.41 20L4 18.59l7.72-7.72 1.47 1.35L5.41 20z\"/>\n",
              "  </svg>\n",
              "      </button>\n",
              "      \n",
              "  <style>\n",
              "    .colab-df-container {\n",
              "      display:flex;\n",
              "      flex-wrap:wrap;\n",
              "      gap: 12px;\n",
              "    }\n",
              "\n",
              "    .colab-df-convert {\n",
              "      background-color: #E8F0FE;\n",
              "      border: none;\n",
              "      border-radius: 50%;\n",
              "      cursor: pointer;\n",
              "      display: none;\n",
              "      fill: #1967D2;\n",
              "      height: 32px;\n",
              "      padding: 0 0 0 0;\n",
              "      width: 32px;\n",
              "    }\n",
              "\n",
              "    .colab-df-convert:hover {\n",
              "      background-color: #E2EBFA;\n",
              "      box-shadow: 0px 1px 2px rgba(60, 64, 67, 0.3), 0px 1px 3px 1px rgba(60, 64, 67, 0.15);\n",
              "      fill: #174EA6;\n",
              "    }\n",
              "\n",
              "    [theme=dark] .colab-df-convert {\n",
              "      background-color: #3B4455;\n",
              "      fill: #D2E3FC;\n",
              "    }\n",
              "\n",
              "    [theme=dark] .colab-df-convert:hover {\n",
              "      background-color: #434B5C;\n",
              "      box-shadow: 0px 1px 3px 1px rgba(0, 0, 0, 0.15);\n",
              "      filter: drop-shadow(0px 1px 2px rgba(0, 0, 0, 0.3));\n",
              "      fill: #FFFFFF;\n",
              "    }\n",
              "  </style>\n",
              "\n",
              "      <script>\n",
              "        const buttonEl =\n",
              "          document.querySelector('#df-d5a29e68-8bd5-41b9-936f-6f0afe8beb8b button.colab-df-convert');\n",
              "        buttonEl.style.display =\n",
              "          google.colab.kernel.accessAllowed ? 'block' : 'none';\n",
              "\n",
              "        async function convertToInteractive(key) {\n",
              "          const element = document.querySelector('#df-d5a29e68-8bd5-41b9-936f-6f0afe8beb8b');\n",
              "          const dataTable =\n",
              "            await google.colab.kernel.invokeFunction('convertToInteractive',\n",
              "                                                     [key], {});\n",
              "          if (!dataTable) return;\n",
              "\n",
              "          const docLinkHtml = 'Like what you see? Visit the ' +\n",
              "            '<a target=\"_blank\" href=https://colab.research.google.com/notebooks/data_table.ipynb>data table notebook</a>'\n",
              "            + ' to learn more about interactive tables.';\n",
              "          element.innerHTML = '';\n",
              "          dataTable['output_type'] = 'display_data';\n",
              "          await google.colab.output.renderOutput(dataTable, element);\n",
              "          const docLink = document.createElement('div');\n",
              "          docLink.innerHTML = docLinkHtml;\n",
              "          element.appendChild(docLink);\n",
              "        }\n",
              "      </script>\n",
              "    </div>\n",
              "  </div>\n",
              "  "
            ]
          },
          "metadata": {},
          "execution_count": 47
        }
      ]
    },
    {
      "cell_type": "markdown",
      "source": [
        "- encoding\n",
        "  - Encoding ini berguna dalam proses pembuatan model dan perhitungan dalam sistem rekomendasi untuk mempermudah pengolahan data dan komputasi."
      ],
      "metadata": {
        "id": "NZIS_EZJk-Wt"
      }
    },
    {
      "cell_type": "code",
      "source": [
        "# Mengubah userID menjadi list tanpa nilai yang sama\n",
        "user_ids = dat_collaborative_filtering['User_Id'].unique().tolist()\n",
        "print('list userID: ', user_ids)\n",
        "\n",
        "# Melakukan encoding userID\n",
        "user_to_user_encoded = {x: i for i, x in enumerate(user_ids)}\n",
        "print('encoded userID : ', user_to_user_encoded)\n",
        "\n",
        "# Melakukan proses encoding angka ke ke userID\n",
        "user_encoded_to_user = {i: x for i, x in enumerate(user_ids)}\n",
        "print('encoded angka ke userID: ', user_encoded_to_user)"
      ],
      "metadata": {
        "colab": {
          "base_uri": "https://localhost:8080/"
        },
        "id": "KfSkNNDlgDbE",
        "outputId": "2504cfc8-04f4-4830-a300-27bf91f3b242"
      },
      "execution_count": null,
      "outputs": [
        {
          "output_type": "stream",
          "name": "stdout",
          "text": [
            "list userID:  [1, 2, 3, 4, 5, 6, 7, 8, 9, 10, 11, 12, 13, 14, 15, 16, 17, 18, 19, 20, 21, 22, 23, 24, 25, 26, 27, 28, 29, 30, 31, 32, 33, 34, 35, 36, 37, 38, 39, 40, 41, 42, 43, 44, 45, 46, 47, 48, 49, 50, 51, 52, 53, 54, 55, 56, 57, 58, 59, 60, 61, 62, 63, 64, 65, 66, 67, 68, 69, 70, 71, 72, 73, 74, 75, 76, 77, 78, 79, 80, 81, 82, 83, 84, 85, 86, 87, 88, 89, 90, 91, 92, 93, 94, 95, 96, 97, 98, 99, 100, 101, 102, 103, 104, 105, 106, 107, 108, 109, 110, 111, 112, 113, 114, 115, 116, 117, 118, 119, 120, 121, 122, 123, 124, 125, 126, 127, 128, 129, 130, 131, 132, 133, 134, 135, 136, 137, 138, 139, 140, 141, 142, 143, 144, 145, 146, 147, 148, 149, 150, 151, 152, 153, 154, 155, 156, 157, 158, 159, 160, 161, 162, 163, 164, 165, 166, 167, 168, 169, 170, 171, 172, 173, 174, 175, 176, 177, 178, 179, 180, 181, 182, 183, 184, 185, 186, 187, 188, 189, 190, 191, 192, 193, 194, 195, 196, 197, 198, 199, 200, 201, 202, 203, 204, 205, 206, 207, 208, 209, 210, 211, 212, 213, 214, 215, 216, 217, 218, 219, 220, 221, 222, 223, 224, 225, 226, 227, 228, 229, 230, 231, 232, 233, 234, 235, 236, 237, 238, 239, 240, 241, 242, 243, 244, 245, 246, 247, 248, 249, 250, 251, 252, 253, 254, 255, 256, 257, 258, 259, 260, 261, 262, 263, 264, 265, 266, 267, 268, 269, 270, 271, 272, 273, 274, 275, 276, 277, 278, 279, 280, 281, 282, 283, 284, 285, 286, 287, 288, 289, 290, 291, 292, 293, 294, 295, 296, 297, 298, 299, 300]\n",
            "encoded userID :  {1: 0, 2: 1, 3: 2, 4: 3, 5: 4, 6: 5, 7: 6, 8: 7, 9: 8, 10: 9, 11: 10, 12: 11, 13: 12, 14: 13, 15: 14, 16: 15, 17: 16, 18: 17, 19: 18, 20: 19, 21: 20, 22: 21, 23: 22, 24: 23, 25: 24, 26: 25, 27: 26, 28: 27, 29: 28, 30: 29, 31: 30, 32: 31, 33: 32, 34: 33, 35: 34, 36: 35, 37: 36, 38: 37, 39: 38, 40: 39, 41: 40, 42: 41, 43: 42, 44: 43, 45: 44, 46: 45, 47: 46, 48: 47, 49: 48, 50: 49, 51: 50, 52: 51, 53: 52, 54: 53, 55: 54, 56: 55, 57: 56, 58: 57, 59: 58, 60: 59, 61: 60, 62: 61, 63: 62, 64: 63, 65: 64, 66: 65, 67: 66, 68: 67, 69: 68, 70: 69, 71: 70, 72: 71, 73: 72, 74: 73, 75: 74, 76: 75, 77: 76, 78: 77, 79: 78, 80: 79, 81: 80, 82: 81, 83: 82, 84: 83, 85: 84, 86: 85, 87: 86, 88: 87, 89: 88, 90: 89, 91: 90, 92: 91, 93: 92, 94: 93, 95: 94, 96: 95, 97: 96, 98: 97, 99: 98, 100: 99, 101: 100, 102: 101, 103: 102, 104: 103, 105: 104, 106: 105, 107: 106, 108: 107, 109: 108, 110: 109, 111: 110, 112: 111, 113: 112, 114: 113, 115: 114, 116: 115, 117: 116, 118: 117, 119: 118, 120: 119, 121: 120, 122: 121, 123: 122, 124: 123, 125: 124, 126: 125, 127: 126, 128: 127, 129: 128, 130: 129, 131: 130, 132: 131, 133: 132, 134: 133, 135: 134, 136: 135, 137: 136, 138: 137, 139: 138, 140: 139, 141: 140, 142: 141, 143: 142, 144: 143, 145: 144, 146: 145, 147: 146, 148: 147, 149: 148, 150: 149, 151: 150, 152: 151, 153: 152, 154: 153, 155: 154, 156: 155, 157: 156, 158: 157, 159: 158, 160: 159, 161: 160, 162: 161, 163: 162, 164: 163, 165: 164, 166: 165, 167: 166, 168: 167, 169: 168, 170: 169, 171: 170, 172: 171, 173: 172, 174: 173, 175: 174, 176: 175, 177: 176, 178: 177, 179: 178, 180: 179, 181: 180, 182: 181, 183: 182, 184: 183, 185: 184, 186: 185, 187: 186, 188: 187, 189: 188, 190: 189, 191: 190, 192: 191, 193: 192, 194: 193, 195: 194, 196: 195, 197: 196, 198: 197, 199: 198, 200: 199, 201: 200, 202: 201, 203: 202, 204: 203, 205: 204, 206: 205, 207: 206, 208: 207, 209: 208, 210: 209, 211: 210, 212: 211, 213: 212, 214: 213, 215: 214, 216: 215, 217: 216, 218: 217, 219: 218, 220: 219, 221: 220, 222: 221, 223: 222, 224: 223, 225: 224, 226: 225, 227: 226, 228: 227, 229: 228, 230: 229, 231: 230, 232: 231, 233: 232, 234: 233, 235: 234, 236: 235, 237: 236, 238: 237, 239: 238, 240: 239, 241: 240, 242: 241, 243: 242, 244: 243, 245: 244, 246: 245, 247: 246, 248: 247, 249: 248, 250: 249, 251: 250, 252: 251, 253: 252, 254: 253, 255: 254, 256: 255, 257: 256, 258: 257, 259: 258, 260: 259, 261: 260, 262: 261, 263: 262, 264: 263, 265: 264, 266: 265, 267: 266, 268: 267, 269: 268, 270: 269, 271: 270, 272: 271, 273: 272, 274: 273, 275: 274, 276: 275, 277: 276, 278: 277, 279: 278, 280: 279, 281: 280, 282: 281, 283: 282, 284: 283, 285: 284, 286: 285, 287: 286, 288: 287, 289: 288, 290: 289, 291: 290, 292: 291, 293: 292, 294: 293, 295: 294, 296: 295, 297: 296, 298: 297, 299: 298, 300: 299}\n",
            "encoded angka ke userID:  {0: 1, 1: 2, 2: 3, 3: 4, 4: 5, 5: 6, 6: 7, 7: 8, 8: 9, 9: 10, 10: 11, 11: 12, 12: 13, 13: 14, 14: 15, 15: 16, 16: 17, 17: 18, 18: 19, 19: 20, 20: 21, 21: 22, 22: 23, 23: 24, 24: 25, 25: 26, 26: 27, 27: 28, 28: 29, 29: 30, 30: 31, 31: 32, 32: 33, 33: 34, 34: 35, 35: 36, 36: 37, 37: 38, 38: 39, 39: 40, 40: 41, 41: 42, 42: 43, 43: 44, 44: 45, 45: 46, 46: 47, 47: 48, 48: 49, 49: 50, 50: 51, 51: 52, 52: 53, 53: 54, 54: 55, 55: 56, 56: 57, 57: 58, 58: 59, 59: 60, 60: 61, 61: 62, 62: 63, 63: 64, 64: 65, 65: 66, 66: 67, 67: 68, 68: 69, 69: 70, 70: 71, 71: 72, 72: 73, 73: 74, 74: 75, 75: 76, 76: 77, 77: 78, 78: 79, 79: 80, 80: 81, 81: 82, 82: 83, 83: 84, 84: 85, 85: 86, 86: 87, 87: 88, 88: 89, 89: 90, 90: 91, 91: 92, 92: 93, 93: 94, 94: 95, 95: 96, 96: 97, 97: 98, 98: 99, 99: 100, 100: 101, 101: 102, 102: 103, 103: 104, 104: 105, 105: 106, 106: 107, 107: 108, 108: 109, 109: 110, 110: 111, 111: 112, 112: 113, 113: 114, 114: 115, 115: 116, 116: 117, 117: 118, 118: 119, 119: 120, 120: 121, 121: 122, 122: 123, 123: 124, 124: 125, 125: 126, 126: 127, 127: 128, 128: 129, 129: 130, 130: 131, 131: 132, 132: 133, 133: 134, 134: 135, 135: 136, 136: 137, 137: 138, 138: 139, 139: 140, 140: 141, 141: 142, 142: 143, 143: 144, 144: 145, 145: 146, 146: 147, 147: 148, 148: 149, 149: 150, 150: 151, 151: 152, 152: 153, 153: 154, 154: 155, 155: 156, 156: 157, 157: 158, 158: 159, 159: 160, 160: 161, 161: 162, 162: 163, 163: 164, 164: 165, 165: 166, 166: 167, 167: 168, 168: 169, 169: 170, 170: 171, 171: 172, 172: 173, 173: 174, 174: 175, 175: 176, 176: 177, 177: 178, 178: 179, 179: 180, 180: 181, 181: 182, 182: 183, 183: 184, 184: 185, 185: 186, 186: 187, 187: 188, 188: 189, 189: 190, 190: 191, 191: 192, 192: 193, 193: 194, 194: 195, 195: 196, 196: 197, 197: 198, 198: 199, 199: 200, 200: 201, 201: 202, 202: 203, 203: 204, 204: 205, 205: 206, 206: 207, 207: 208, 208: 209, 209: 210, 210: 211, 211: 212, 212: 213, 213: 214, 214: 215, 215: 216, 216: 217, 217: 218, 218: 219, 219: 220, 220: 221, 221: 222, 222: 223, 223: 224, 224: 225, 225: 226, 226: 227, 227: 228, 228: 229, 229: 230, 230: 231, 231: 232, 232: 233, 233: 234, 234: 235, 235: 236, 236: 237, 237: 238, 238: 239, 239: 240, 240: 241, 241: 242, 242: 243, 243: 244, 244: 245, 245: 246, 246: 247, 247: 248, 248: 249, 249: 250, 250: 251, 251: 252, 252: 253, 253: 254, 254: 255, 255: 256, 256: 257, 257: 258, 258: 259, 259: 260, 260: 261, 261: 262, 262: 263, 263: 264, 264: 265, 265: 266, 266: 267, 267: 268, 268: 269, 269: 270, 270: 271, 271: 272, 272: 273, 273: 274, 274: 275, 275: 276, 276: 277, 277: 278, 278: 279, 279: 280, 280: 281, 281: 282, 282: 283, 283: 284, 284: 285, 285: 286, 286: 287, 287: 288, 288: 289, 289: 290, 290: 291, 291: 292, 292: 293, 293: 294, 294: 295, 295: 296, 296: 297, 297: 298, 298: 299, 299: 300}\n"
          ]
        }
      ]
    },
    {
      "cell_type": "code",
      "source": [
        "# Mengubah placeID menjadi list tanpa nilai yang sama\n",
        "tourism_ids = dat_collaborative_filtering['Place_Id'].unique().tolist()\n",
        "\n",
        "# Melakukan proses encoding placeID\n",
        "tourism_to_tourism_encoded = {x: i for i, x in enumerate(tourism_ids)}\n",
        "\n",
        "# Melakukan proses encoding angka ke placeID\n",
        "tourism_encoded_to_tourism = {i: x for i, x in enumerate(tourism_ids)}"
      ],
      "metadata": {
        "id": "NGacwR_dgK5c"
      },
      "execution_count": null,
      "outputs": []
    },
    {
      "cell_type": "markdown",
      "source": [
        "- Mapping\n",
        "  - Dengan melakukan mapping ini, nilai userID dan placeID pada dataframe dat_collaborative_filtering akan digantikan dengan nilai encoded userID dan placeID yang digunakan dalam proses pemodelan collaborative filtering. Mapping ini berguna dalam membentuk input data yang sesuai dengan format yang dibutuhkan oleh model dan algoritma collaborative filtering."
      ],
      "metadata": {
        "id": "XzXtReOllSjF"
      }
    },
    {
      "cell_type": "code",
      "source": [
        "# Mapping userID ke dataframe user\n",
        "dat_collaborative_filtering['user'] = dat_collaborative_filtering['User_Id'].map(user_to_user_encoded)\n",
        "\n",
        "# Mapping placeID ke dataframe tourism\n",
        "dat_collaborative_filtering['tourism'] = dat_collaborative_filtering['Place_Id'].map(tourism_to_tourism_encoded)"
      ],
      "metadata": {
        "id": "Q8K1M9p-gR_E"
      },
      "execution_count": null,
      "outputs": []
    },
    {
      "cell_type": "code",
      "source": [
        "# Mendapatkan jumlah user\n",
        "num_users = len(user_to_user_encoded)\n",
        "print(num_users)\n",
        "\n",
        "# Mendapatkan jumlah tourism\n",
        "num_tourism = len(tourism_encoded_to_tourism)\n",
        "print(num_tourism)\n",
        "\n",
        "# Mengubah rating menjadi nilai float\n",
        "dat_collaborative_filtering['Place_Ratings'] = dat_collaborative_filtering['Place_Ratings'].values.astype(np.float32)\n",
        "\n",
        "# Nilai minimum rating\n",
        "min_rating = min(dat_collaborative_filtering['Place_Ratings'])\n",
        "\n",
        "# Nilai maksimal rating\n",
        "max_rating = max(dat_collaborative_filtering['Place_Ratings'])\n",
        "\n",
        "print('Number of User: {}, Number of Place: {}, Min Rating: {}, Max Rating: {}'.format(\n",
        "    num_users, num_tourism, min_rating, max_rating\n",
        "))"
      ],
      "metadata": {
        "colab": {
          "base_uri": "https://localhost:8080/"
        },
        "id": "_wPLCyqPgZuC",
        "outputId": "03695047-b468-430d-daec-a94c1236d78a"
      },
      "execution_count": null,
      "outputs": [
        {
          "output_type": "stream",
          "name": "stdout",
          "text": [
            "300\n",
            "437\n",
            "Number of User: 300, Number of Place: 437, Min Rating: 1.0, Max Rating: 5.0\n"
          ]
        }
      ]
    },
    {
      "cell_type": "markdown",
      "source": [
        "Dengan melakukan perhitungan jumlah user dan tempat wisata, serta mengubah tipe data rating ke float32, dan mendapatkan nilai minimum dan maksimum rating, kita dapat memperoleh informasi yang berguna dalam proses pemodelan collaborative filtering.\n",
        "- data-data tersebut yang selanjutnya akan digunakan pada modeling"
      ],
      "metadata": {
        "id": "OkXOPbFOm7IJ"
      }
    },
    {
      "cell_type": "markdown",
      "source": [
        "- mengacak urutan baris dalam dataframe dat_collaborative_filtering dengan menggunakan fungsi sample()\n",
        "  - Mengacak urutan baris dalam dataframe seringkali digunakan untuk memastikan bahwa data yang digunakan dalam proses pembelajaran atau pemodelan tidak memiliki pola tertentu atau bias yang terkait dengan urutan data. Ini membantu dalam mencegah atau mengurangi kemungkinan overfitting dan memastikan hasil yang lebih objektif dalam evaluasi model."
      ],
      "metadata": {
        "id": "Zl1CnJX9nWl2"
      }
    },
    {
      "cell_type": "code",
      "source": [
        "dat_collaborative_filtering = dat_collaborative_filtering.sample(frac=1, random_state=42)\n",
        "dat_collaborative_filtering"
      ],
      "metadata": {
        "colab": {
          "base_uri": "https://localhost:8080/",
          "height": 424
        },
        "id": "OaDAD4oqghuH",
        "outputId": "77c94d5a-3282-4aa6-fb86-e5f256573f5b"
      },
      "execution_count": null,
      "outputs": [
        {
          "output_type": "execute_result",
          "data": {
            "text/plain": [
              "      User_Id  Place_Id  Place_Ratings  user  tourism\n",
              "6252      188       207            3.0   187      262\n",
              "4684      142       268            2.0   141       83\n",
              "1731       54       103            3.0    53       10\n",
              "4742      144       119            3.0   143      141\n",
              "4521      138       288            5.0   137      283\n",
              "...       ...       ...            ...   ...      ...\n",
              "5734      173       402            5.0   172      175\n",
              "5191      157        85            4.0   156       33\n",
              "5390      163        18            3.0   162       52\n",
              "860        28       416            4.0    27      187\n",
              "7270      219       258            2.0   218        6\n",
              "\n",
              "[10000 rows x 5 columns]"
            ],
            "text/html": [
              "\n",
              "  <div id=\"df-f86edd0d-3ec2-4361-819f-98088e2f8928\">\n",
              "    <div class=\"colab-df-container\">\n",
              "      <div>\n",
              "<style scoped>\n",
              "    .dataframe tbody tr th:only-of-type {\n",
              "        vertical-align: middle;\n",
              "    }\n",
              "\n",
              "    .dataframe tbody tr th {\n",
              "        vertical-align: top;\n",
              "    }\n",
              "\n",
              "    .dataframe thead th {\n",
              "        text-align: right;\n",
              "    }\n",
              "</style>\n",
              "<table border=\"1\" class=\"dataframe\">\n",
              "  <thead>\n",
              "    <tr style=\"text-align: right;\">\n",
              "      <th></th>\n",
              "      <th>User_Id</th>\n",
              "      <th>Place_Id</th>\n",
              "      <th>Place_Ratings</th>\n",
              "      <th>user</th>\n",
              "      <th>tourism</th>\n",
              "    </tr>\n",
              "  </thead>\n",
              "  <tbody>\n",
              "    <tr>\n",
              "      <th>6252</th>\n",
              "      <td>188</td>\n",
              "      <td>207</td>\n",
              "      <td>3.0</td>\n",
              "      <td>187</td>\n",
              "      <td>262</td>\n",
              "    </tr>\n",
              "    <tr>\n",
              "      <th>4684</th>\n",
              "      <td>142</td>\n",
              "      <td>268</td>\n",
              "      <td>2.0</td>\n",
              "      <td>141</td>\n",
              "      <td>83</td>\n",
              "    </tr>\n",
              "    <tr>\n",
              "      <th>1731</th>\n",
              "      <td>54</td>\n",
              "      <td>103</td>\n",
              "      <td>3.0</td>\n",
              "      <td>53</td>\n",
              "      <td>10</td>\n",
              "    </tr>\n",
              "    <tr>\n",
              "      <th>4742</th>\n",
              "      <td>144</td>\n",
              "      <td>119</td>\n",
              "      <td>3.0</td>\n",
              "      <td>143</td>\n",
              "      <td>141</td>\n",
              "    </tr>\n",
              "    <tr>\n",
              "      <th>4521</th>\n",
              "      <td>138</td>\n",
              "      <td>288</td>\n",
              "      <td>5.0</td>\n",
              "      <td>137</td>\n",
              "      <td>283</td>\n",
              "    </tr>\n",
              "    <tr>\n",
              "      <th>...</th>\n",
              "      <td>...</td>\n",
              "      <td>...</td>\n",
              "      <td>...</td>\n",
              "      <td>...</td>\n",
              "      <td>...</td>\n",
              "    </tr>\n",
              "    <tr>\n",
              "      <th>5734</th>\n",
              "      <td>173</td>\n",
              "      <td>402</td>\n",
              "      <td>5.0</td>\n",
              "      <td>172</td>\n",
              "      <td>175</td>\n",
              "    </tr>\n",
              "    <tr>\n",
              "      <th>5191</th>\n",
              "      <td>157</td>\n",
              "      <td>85</td>\n",
              "      <td>4.0</td>\n",
              "      <td>156</td>\n",
              "      <td>33</td>\n",
              "    </tr>\n",
              "    <tr>\n",
              "      <th>5390</th>\n",
              "      <td>163</td>\n",
              "      <td>18</td>\n",
              "      <td>3.0</td>\n",
              "      <td>162</td>\n",
              "      <td>52</td>\n",
              "    </tr>\n",
              "    <tr>\n",
              "      <th>860</th>\n",
              "      <td>28</td>\n",
              "      <td>416</td>\n",
              "      <td>4.0</td>\n",
              "      <td>27</td>\n",
              "      <td>187</td>\n",
              "    </tr>\n",
              "    <tr>\n",
              "      <th>7270</th>\n",
              "      <td>219</td>\n",
              "      <td>258</td>\n",
              "      <td>2.0</td>\n",
              "      <td>218</td>\n",
              "      <td>6</td>\n",
              "    </tr>\n",
              "  </tbody>\n",
              "</table>\n",
              "<p>10000 rows × 5 columns</p>\n",
              "</div>\n",
              "      <button class=\"colab-df-convert\" onclick=\"convertToInteractive('df-f86edd0d-3ec2-4361-819f-98088e2f8928')\"\n",
              "              title=\"Convert this dataframe to an interactive table.\"\n",
              "              style=\"display:none;\">\n",
              "        \n",
              "  <svg xmlns=\"http://www.w3.org/2000/svg\" height=\"24px\"viewBox=\"0 0 24 24\"\n",
              "       width=\"24px\">\n",
              "    <path d=\"M0 0h24v24H0V0z\" fill=\"none\"/>\n",
              "    <path d=\"M18.56 5.44l.94 2.06.94-2.06 2.06-.94-2.06-.94-.94-2.06-.94 2.06-2.06.94zm-11 1L8.5 8.5l.94-2.06 2.06-.94-2.06-.94L8.5 2.5l-.94 2.06-2.06.94zm10 10l.94 2.06.94-2.06 2.06-.94-2.06-.94-.94-2.06-.94 2.06-2.06.94z\"/><path d=\"M17.41 7.96l-1.37-1.37c-.4-.4-.92-.59-1.43-.59-.52 0-1.04.2-1.43.59L10.3 9.45l-7.72 7.72c-.78.78-.78 2.05 0 2.83L4 21.41c.39.39.9.59 1.41.59.51 0 1.02-.2 1.41-.59l7.78-7.78 2.81-2.81c.8-.78.8-2.07 0-2.86zM5.41 20L4 18.59l7.72-7.72 1.47 1.35L5.41 20z\"/>\n",
              "  </svg>\n",
              "      </button>\n",
              "      \n",
              "  <style>\n",
              "    .colab-df-container {\n",
              "      display:flex;\n",
              "      flex-wrap:wrap;\n",
              "      gap: 12px;\n",
              "    }\n",
              "\n",
              "    .colab-df-convert {\n",
              "      background-color: #E8F0FE;\n",
              "      border: none;\n",
              "      border-radius: 50%;\n",
              "      cursor: pointer;\n",
              "      display: none;\n",
              "      fill: #1967D2;\n",
              "      height: 32px;\n",
              "      padding: 0 0 0 0;\n",
              "      width: 32px;\n",
              "    }\n",
              "\n",
              "    .colab-df-convert:hover {\n",
              "      background-color: #E2EBFA;\n",
              "      box-shadow: 0px 1px 2px rgba(60, 64, 67, 0.3), 0px 1px 3px 1px rgba(60, 64, 67, 0.15);\n",
              "      fill: #174EA6;\n",
              "    }\n",
              "\n",
              "    [theme=dark] .colab-df-convert {\n",
              "      background-color: #3B4455;\n",
              "      fill: #D2E3FC;\n",
              "    }\n",
              "\n",
              "    [theme=dark] .colab-df-convert:hover {\n",
              "      background-color: #434B5C;\n",
              "      box-shadow: 0px 1px 3px 1px rgba(0, 0, 0, 0.15);\n",
              "      filter: drop-shadow(0px 1px 2px rgba(0, 0, 0, 0.3));\n",
              "      fill: #FFFFFF;\n",
              "    }\n",
              "  </style>\n",
              "\n",
              "      <script>\n",
              "        const buttonEl =\n",
              "          document.querySelector('#df-f86edd0d-3ec2-4361-819f-98088e2f8928 button.colab-df-convert');\n",
              "        buttonEl.style.display =\n",
              "          google.colab.kernel.accessAllowed ? 'block' : 'none';\n",
              "\n",
              "        async function convertToInteractive(key) {\n",
              "          const element = document.querySelector('#df-f86edd0d-3ec2-4361-819f-98088e2f8928');\n",
              "          const dataTable =\n",
              "            await google.colab.kernel.invokeFunction('convertToInteractive',\n",
              "                                                     [key], {});\n",
              "          if (!dataTable) return;\n",
              "\n",
              "          const docLinkHtml = 'Like what you see? Visit the ' +\n",
              "            '<a target=\"_blank\" href=https://colab.research.google.com/notebooks/data_table.ipynb>data table notebook</a>'\n",
              "            + ' to learn more about interactive tables.';\n",
              "          element.innerHTML = '';\n",
              "          dataTable['output_type'] = 'display_data';\n",
              "          await google.colab.output.renderOutput(dataTable, element);\n",
              "          const docLink = document.createElement('div');\n",
              "          docLink.innerHTML = docLinkHtml;\n",
              "          element.appendChild(docLink);\n",
              "        }\n",
              "      </script>\n",
              "    </div>\n",
              "  </div>\n",
              "  "
            ]
          },
          "metadata": {},
          "execution_count": 52
        }
      ]
    },
    {
      "cell_type": "markdown",
      "source": [
        "#### Split data train dan data test\n"
      ],
      "metadata": {
        "id": "oZtADJLsCV_6"
      }
    },
    {
      "cell_type": "markdown",
      "source": [
        "- define variabel input (x) dan variabel output (y)\n",
        "  - dilakukan juga normalisasi nilai rating pada kolom 'Place_Ratings' dalam dataframe\n",
        "  - Hasil normalisasi ini berguna dalam pemodelan collaborative filtering, di mana nilai rating yang dinormalisasi dapat digunakan sebagai target variabel (y) dalam proses pembelajaran model. Normalisasi ini memastikan bahwa rentang nilai rating yang diberikan kepada model berada dalam skala yang seragam dan mempermudah proses perhitungan dan optimisasi pada model."
      ],
      "metadata": {
        "id": "eo3-p-n1mXi6"
      }
    },
    {
      "cell_type": "code",
      "source": [
        "# Membuat variabel y untuk membuat rating dari hasil\n",
        "y = dat_collaborative_filtering['Place_Ratings'].apply(lambda x: (x - min_rating) / (max_rating - min_rating)).values\n"
      ],
      "metadata": {
        "id": "0_5YHo4XmMRP"
      },
      "execution_count": null,
      "outputs": []
    },
    {
      "cell_type": "code",
      "source": [
        "x = dat_collaborative_filtering[['user', 'tourism']].values"
      ],
      "metadata": {
        "id": "8oq90RqQmQlF"
      },
      "execution_count": null,
      "outputs": []
    },
    {
      "cell_type": "markdown",
      "source": [
        "- membagi dataset menjadi data training dan data validasi dengan perbadingan 80:20"
      ],
      "metadata": {
        "id": "YO-X2VTXmWp5"
      }
    },
    {
      "cell_type": "code",
      "source": [
        "train_indices = int(0.8 * dat_collaborative_filtering.shape[0])\n",
        "x_train, x_val, y_train, y_val = (\n",
        "    x[:train_indices],\n",
        "    x[train_indices:],\n",
        "    y[:train_indices],\n",
        "    y[train_indices:]\n",
        ")\n",
        "\n",
        "print(x, y)"
      ],
      "metadata": {
        "colab": {
          "base_uri": "https://localhost:8080/"
        },
        "id": "ODKaM8Xbg1R4",
        "outputId": "49e74611-afe2-4042-d697-7713a4c24e53"
      },
      "execution_count": null,
      "outputs": [
        {
          "output_type": "stream",
          "name": "stdout",
          "text": [
            "[[187 262]\n",
            " [141  83]\n",
            " [ 53  10]\n",
            " ...\n",
            " [162  52]\n",
            " [ 27 187]\n",
            " [218   6]] [0.5  0.25 0.5  ... 0.5  0.75 0.25]\n"
          ]
        }
      ]
    },
    {
      "cell_type": "markdown",
      "source": [
        "#### Training"
      ],
      "metadata": {
        "id": "5OOSfc7bCQjC"
      }
    },
    {
      "cell_type": "markdown",
      "source": [
        "- membuat model"
      ],
      "metadata": {
        "id": "Vqkl8RTsh7jQ"
      }
    },
    {
      "cell_type": "code",
      "source": [
        "class RecommenderNet(tf.keras.Model):\n",
        "\n",
        "  # Insialisasi fungsi\n",
        "  def __init__(self, num_users, num_tourism, embedding_size, **kwargs):\n",
        "    super(RecommenderNet, self).__init__(**kwargs)\n",
        "    self.num_users = num_users\n",
        "    self.num_tourism = num_tourism\n",
        "    self.embedding_size = embedding_size\n",
        "    self.user_embedding = layers.Embedding( # layer embedding user\n",
        "        num_users,\n",
        "        embedding_size,\n",
        "        embeddings_initializer = 'he_normal',\n",
        "        embeddings_regularizer = keras.regularizers.l2(1e-6)\n",
        "    )\n",
        "    self.user_bias = layers.Embedding(num_users, 1) # layer embedding user bias\n",
        "    self.tourism_embedding = layers.Embedding( # layer embeddings tourism\n",
        "        num_tourism,\n",
        "        embedding_size,\n",
        "        embeddings_initializer = 'he_normal',\n",
        "        embeddings_regularizer = keras.regularizers.l2(1e-6)\n",
        "    )\n",
        "    self.tourism_bias = layers.Embedding(num_tourism, 1) # layer embedding tourism bias\n",
        "\n",
        "  def call(self, inputs):\n",
        "    user_vector = self.user_embedding(inputs[:,0]) # memanggil layer embedding 1\n",
        "    user_bias = self.user_bias(inputs[:, 0]) # memanggil layer embedding 2\n",
        "    tourism_vector = self.tourism_embedding(inputs[:, 1]) # memanggil layer embedding 3\n",
        "    tourism_bias = self.tourism_bias(inputs[:, 1]) # memanggil layer embedding 4\n",
        "\n",
        "    dot_user_tourism = tf.tensordot(user_vector, tourism_vector, 2)\n",
        "\n",
        "    x = dot_user_tourism + user_bias + tourism_bias\n",
        "\n",
        "    return tf.nn.sigmoid(x) # activation sigmoid"
      ],
      "metadata": {
        "id": "ZpCPvcKpg52E"
      },
      "execution_count": null,
      "outputs": []
    },
    {
      "cell_type": "markdown",
      "source": [
        "- compile model"
      ],
      "metadata": {
        "id": "LOvAWFboiLCa"
      }
    },
    {
      "cell_type": "code",
      "source": [
        "model = RecommenderNet(num_users, num_tourism, 50) # inisialisasi model\n",
        "\n",
        "# model compile\n",
        "model.compile(\n",
        "    loss = tf.keras.losses.BinaryCrossentropy(),\n",
        "    optimizer = keras.optimizers.Adam(learning_rate=0.001),\n",
        "    metrics=[tf.keras.metrics.RootMeanSquaredError()]\n",
        ")"
      ],
      "metadata": {
        "id": "1ywnas08g9BR"
      },
      "execution_count": null,
      "outputs": []
    },
    {
      "cell_type": "markdown",
      "source": [
        "- melakukan training pada model"
      ],
      "metadata": {
        "id": "vVHLTU7eiOAr"
      }
    },
    {
      "cell_type": "code",
      "source": [
        "# Memulai training\n",
        "history = model.fit(\n",
        "    x = x_train,\n",
        "    y = y_train,\n",
        "    batch_size = 8,\n",
        "    epochs = 100,\n",
        "    validation_data = (x_val, y_val)\n",
        ")"
      ],
      "metadata": {
        "colab": {
          "base_uri": "https://localhost:8080/"
        },
        "id": "MlVXAkkLg_PH",
        "outputId": "e3ab2e68-dc85-4dec-e3d9-d882877ef1e7"
      },
      "execution_count": null,
      "outputs": [
        {
          "output_type": "stream",
          "name": "stdout",
          "text": [
            "Epoch 1/100\n",
            "1000/1000 [==============================] - 3s 2ms/step - loss: 0.6941 - root_mean_squared_error: 0.3460 - val_loss: 0.6931 - val_root_mean_squared_error: 0.3449\n",
            "Epoch 2/100\n",
            "1000/1000 [==============================] - 2s 2ms/step - loss: 0.6867 - root_mean_squared_error: 0.3406 - val_loss: 0.6930 - val_root_mean_squared_error: 0.3448\n",
            "Epoch 3/100\n",
            "1000/1000 [==============================] - 2s 2ms/step - loss: 0.6807 - root_mean_squared_error: 0.3362 - val_loss: 0.6922 - val_root_mean_squared_error: 0.3443\n",
            "Epoch 4/100\n",
            "1000/1000 [==============================] - 3s 3ms/step - loss: 0.6760 - root_mean_squared_error: 0.3328 - val_loss: 0.6925 - val_root_mean_squared_error: 0.3445\n",
            "Epoch 5/100\n",
            "1000/1000 [==============================] - 3s 3ms/step - loss: 0.6721 - root_mean_squared_error: 0.3299 - val_loss: 0.6932 - val_root_mean_squared_error: 0.3449\n",
            "Epoch 6/100\n",
            "1000/1000 [==============================] - 2s 2ms/step - loss: 0.6681 - root_mean_squared_error: 0.3269 - val_loss: 0.6943 - val_root_mean_squared_error: 0.3456\n",
            "Epoch 7/100\n",
            "1000/1000 [==============================] - 2s 2ms/step - loss: 0.6635 - root_mean_squared_error: 0.3236 - val_loss: 0.6981 - val_root_mean_squared_error: 0.3483\n",
            "Epoch 8/100\n",
            "1000/1000 [==============================] - 2s 2ms/step - loss: 0.6615 - root_mean_squared_error: 0.3221 - val_loss: 0.6988 - val_root_mean_squared_error: 0.3487\n",
            "Epoch 9/100\n",
            "1000/1000 [==============================] - 2s 2ms/step - loss: 0.6605 - root_mean_squared_error: 0.3213 - val_loss: 0.6989 - val_root_mean_squared_error: 0.3487\n",
            "Epoch 10/100\n",
            "1000/1000 [==============================] - 3s 3ms/step - loss: 0.6603 - root_mean_squared_error: 0.3212 - val_loss: 0.6998 - val_root_mean_squared_error: 0.3493\n",
            "Epoch 11/100\n",
            "1000/1000 [==============================] - 3s 3ms/step - loss: 0.6566 - root_mean_squared_error: 0.3184 - val_loss: 0.7023 - val_root_mean_squared_error: 0.3509\n",
            "Epoch 12/100\n",
            "1000/1000 [==============================] - 2s 2ms/step - loss: 0.6573 - root_mean_squared_error: 0.3191 - val_loss: 0.7038 - val_root_mean_squared_error: 0.3519\n",
            "Epoch 13/100\n",
            "1000/1000 [==============================] - 2s 2ms/step - loss: 0.6544 - root_mean_squared_error: 0.3169 - val_loss: 0.7048 - val_root_mean_squared_error: 0.3525\n",
            "Epoch 14/100\n",
            "1000/1000 [==============================] - 2s 2ms/step - loss: 0.6547 - root_mean_squared_error: 0.3172 - val_loss: 0.7055 - val_root_mean_squared_error: 0.3530\n",
            "Epoch 15/100\n",
            "1000/1000 [==============================] - 2s 2ms/step - loss: 0.6558 - root_mean_squared_error: 0.3180 - val_loss: 0.7068 - val_root_mean_squared_error: 0.3538\n",
            "Epoch 16/100\n",
            "1000/1000 [==============================] - 2s 2ms/step - loss: 0.6522 - root_mean_squared_error: 0.3152 - val_loss: 0.7082 - val_root_mean_squared_error: 0.3547\n",
            "Epoch 17/100\n",
            "1000/1000 [==============================] - 3s 3ms/step - loss: 0.6541 - root_mean_squared_error: 0.3168 - val_loss: 0.7088 - val_root_mean_squared_error: 0.3550\n",
            "Epoch 18/100\n",
            "1000/1000 [==============================] - 2s 2ms/step - loss: 0.6520 - root_mean_squared_error: 0.3150 - val_loss: 0.7090 - val_root_mean_squared_error: 0.3551\n",
            "Epoch 19/100\n",
            "1000/1000 [==============================] - 2s 2ms/step - loss: 0.6539 - root_mean_squared_error: 0.3166 - val_loss: 0.7097 - val_root_mean_squared_error: 0.3556\n",
            "Epoch 20/100\n",
            "1000/1000 [==============================] - 2s 2ms/step - loss: 0.6524 - root_mean_squared_error: 0.3153 - val_loss: 0.7078 - val_root_mean_squared_error: 0.3543\n",
            "Epoch 21/100\n",
            "1000/1000 [==============================] - 2s 2ms/step - loss: 0.6529 - root_mean_squared_error: 0.3156 - val_loss: 0.7091 - val_root_mean_squared_error: 0.3550\n",
            "Epoch 22/100\n",
            "1000/1000 [==============================] - 2s 2ms/step - loss: 0.6507 - root_mean_squared_error: 0.3142 - val_loss: 0.7111 - val_root_mean_squared_error: 0.3563\n",
            "Epoch 23/100\n",
            "1000/1000 [==============================] - 3s 3ms/step - loss: 0.6505 - root_mean_squared_error: 0.3140 - val_loss: 0.7117 - val_root_mean_squared_error: 0.3567\n",
            "Epoch 24/100\n",
            "1000/1000 [==============================] - 3s 3ms/step - loss: 0.6526 - root_mean_squared_error: 0.3156 - val_loss: 0.7120 - val_root_mean_squared_error: 0.3568\n",
            "Epoch 25/100\n",
            "1000/1000 [==============================] - 2s 2ms/step - loss: 0.6518 - root_mean_squared_error: 0.3149 - val_loss: 0.7114 - val_root_mean_squared_error: 0.3564\n",
            "Epoch 26/100\n",
            "1000/1000 [==============================] - 2s 2ms/step - loss: 0.6512 - root_mean_squared_error: 0.3145 - val_loss: 0.7124 - val_root_mean_squared_error: 0.3569\n",
            "Epoch 27/100\n",
            "1000/1000 [==============================] - 2s 2ms/step - loss: 0.6520 - root_mean_squared_error: 0.3151 - val_loss: 0.7136 - val_root_mean_squared_error: 0.3577\n",
            "Epoch 28/100\n",
            "1000/1000 [==============================] - 2s 2ms/step - loss: 0.6507 - root_mean_squared_error: 0.3140 - val_loss: 0.7139 - val_root_mean_squared_error: 0.3578\n",
            "Epoch 29/100\n",
            "1000/1000 [==============================] - 2s 2ms/step - loss: 0.6505 - root_mean_squared_error: 0.3140 - val_loss: 0.7146 - val_root_mean_squared_error: 0.3583\n",
            "Epoch 30/100\n",
            "1000/1000 [==============================] - 3s 3ms/step - loss: 0.6512 - root_mean_squared_error: 0.3144 - val_loss: 0.7149 - val_root_mean_squared_error: 0.3585\n",
            "Epoch 31/100\n",
            "1000/1000 [==============================] - 2s 2ms/step - loss: 0.6480 - root_mean_squared_error: 0.3122 - val_loss: 0.7152 - val_root_mean_squared_error: 0.3587\n",
            "Epoch 32/100\n",
            "1000/1000 [==============================] - 2s 2ms/step - loss: 0.6511 - root_mean_squared_error: 0.3143 - val_loss: 0.7140 - val_root_mean_squared_error: 0.3579\n",
            "Epoch 33/100\n",
            "1000/1000 [==============================] - 2s 2ms/step - loss: 0.6501 - root_mean_squared_error: 0.3135 - val_loss: 0.7149 - val_root_mean_squared_error: 0.3584\n",
            "Epoch 34/100\n",
            "1000/1000 [==============================] - 2s 2ms/step - loss: 0.6542 - root_mean_squared_error: 0.3166 - val_loss: 0.7144 - val_root_mean_squared_error: 0.3582\n",
            "Epoch 35/100\n",
            "1000/1000 [==============================] - 2s 2ms/step - loss: 0.6497 - root_mean_squared_error: 0.3134 - val_loss: 0.7150 - val_root_mean_squared_error: 0.3586\n",
            "Epoch 36/100\n",
            "1000/1000 [==============================] - 3s 3ms/step - loss: 0.6484 - root_mean_squared_error: 0.3123 - val_loss: 0.7161 - val_root_mean_squared_error: 0.3593\n",
            "Epoch 37/100\n",
            "1000/1000 [==============================] - 3s 3ms/step - loss: 0.6508 - root_mean_squared_error: 0.3141 - val_loss: 0.7172 - val_root_mean_squared_error: 0.3600\n",
            "Epoch 38/100\n",
            "1000/1000 [==============================] - 2s 2ms/step - loss: 0.6511 - root_mean_squared_error: 0.3144 - val_loss: 0.7172 - val_root_mean_squared_error: 0.3600\n",
            "Epoch 39/100\n",
            "1000/1000 [==============================] - 2s 2ms/step - loss: 0.6499 - root_mean_squared_error: 0.3133 - val_loss: 0.7171 - val_root_mean_squared_error: 0.3598\n",
            "Epoch 40/100\n",
            "1000/1000 [==============================] - 2s 2ms/step - loss: 0.6521 - root_mean_squared_error: 0.3151 - val_loss: 0.7175 - val_root_mean_squared_error: 0.3600\n",
            "Epoch 41/100\n",
            "1000/1000 [==============================] - 2s 2ms/step - loss: 0.6481 - root_mean_squared_error: 0.3121 - val_loss: 0.7174 - val_root_mean_squared_error: 0.3601\n",
            "Epoch 42/100\n",
            "1000/1000 [==============================] - 3s 3ms/step - loss: 0.6512 - root_mean_squared_error: 0.3144 - val_loss: 0.7172 - val_root_mean_squared_error: 0.3599\n",
            "Epoch 43/100\n",
            "1000/1000 [==============================] - 3s 3ms/step - loss: 0.6485 - root_mean_squared_error: 0.3125 - val_loss: 0.7186 - val_root_mean_squared_error: 0.3606\n",
            "Epoch 44/100\n",
            "1000/1000 [==============================] - 2s 2ms/step - loss: 0.6503 - root_mean_squared_error: 0.3138 - val_loss: 0.7196 - val_root_mean_squared_error: 0.3612\n",
            "Epoch 45/100\n",
            "1000/1000 [==============================] - 2s 2ms/step - loss: 0.6527 - root_mean_squared_error: 0.3154 - val_loss: 0.7202 - val_root_mean_squared_error: 0.3617\n",
            "Epoch 46/100\n",
            "1000/1000 [==============================] - 3s 3ms/step - loss: 0.6500 - root_mean_squared_error: 0.3136 - val_loss: 0.7189 - val_root_mean_squared_error: 0.3609\n",
            "Epoch 47/100\n",
            "1000/1000 [==============================] - 2s 2ms/step - loss: 0.6510 - root_mean_squared_error: 0.3144 - val_loss: 0.7198 - val_root_mean_squared_error: 0.3614\n",
            "Epoch 48/100\n",
            "1000/1000 [==============================] - 3s 3ms/step - loss: 0.6500 - root_mean_squared_error: 0.3135 - val_loss: 0.7192 - val_root_mean_squared_error: 0.3611\n",
            "Epoch 49/100\n",
            "1000/1000 [==============================] - 3s 3ms/step - loss: 0.6491 - root_mean_squared_error: 0.3130 - val_loss: 0.7201 - val_root_mean_squared_error: 0.3616\n",
            "Epoch 50/100\n",
            "1000/1000 [==============================] - 2s 2ms/step - loss: 0.6485 - root_mean_squared_error: 0.3125 - val_loss: 0.7186 - val_root_mean_squared_error: 0.3607\n",
            "Epoch 51/100\n",
            "1000/1000 [==============================] - 2s 2ms/step - loss: 0.6491 - root_mean_squared_error: 0.3125 - val_loss: 0.7191 - val_root_mean_squared_error: 0.3611\n",
            "Epoch 52/100\n",
            "1000/1000 [==============================] - 2s 2ms/step - loss: 0.6502 - root_mean_squared_error: 0.3138 - val_loss: 0.7197 - val_root_mean_squared_error: 0.3615\n",
            "Epoch 53/100\n",
            "1000/1000 [==============================] - 2s 2ms/step - loss: 0.6510 - root_mean_squared_error: 0.3141 - val_loss: 0.7193 - val_root_mean_squared_error: 0.3612\n",
            "Epoch 54/100\n",
            "1000/1000 [==============================] - 2s 2ms/step - loss: 0.6513 - root_mean_squared_error: 0.3145 - val_loss: 0.7189 - val_root_mean_squared_error: 0.3609\n",
            "Epoch 55/100\n",
            "1000/1000 [==============================] - 3s 3ms/step - loss: 0.6481 - root_mean_squared_error: 0.3123 - val_loss: 0.7212 - val_root_mean_squared_error: 0.3623\n",
            "Epoch 56/100\n",
            "1000/1000 [==============================] - 2s 2ms/step - loss: 0.6503 - root_mean_squared_error: 0.3138 - val_loss: 0.7207 - val_root_mean_squared_error: 0.3619\n",
            "Epoch 57/100\n",
            "1000/1000 [==============================] - 2s 2ms/step - loss: 0.6478 - root_mean_squared_error: 0.3119 - val_loss: 0.7210 - val_root_mean_squared_error: 0.3621\n",
            "Epoch 58/100\n",
            "1000/1000 [==============================] - 2s 2ms/step - loss: 0.6496 - root_mean_squared_error: 0.3132 - val_loss: 0.7207 - val_root_mean_squared_error: 0.3619\n",
            "Epoch 59/100\n",
            "1000/1000 [==============================] - 5s 5ms/step - loss: 0.6527 - root_mean_squared_error: 0.3156 - val_loss: 0.7197 - val_root_mean_squared_error: 0.3614\n",
            "Epoch 60/100\n",
            "1000/1000 [==============================] - 3s 3ms/step - loss: 0.6496 - root_mean_squared_error: 0.3133 - val_loss: 0.7205 - val_root_mean_squared_error: 0.3618\n",
            "Epoch 61/100\n",
            "1000/1000 [==============================] - 2s 2ms/step - loss: 0.6472 - root_mean_squared_error: 0.3113 - val_loss: 0.7193 - val_root_mean_squared_error: 0.3611\n",
            "Epoch 62/100\n",
            "1000/1000 [==============================] - 2s 2ms/step - loss: 0.6493 - root_mean_squared_error: 0.3130 - val_loss: 0.7187 - val_root_mean_squared_error: 0.3607\n",
            "Epoch 63/100\n",
            "1000/1000 [==============================] - 2s 2ms/step - loss: 0.6485 - root_mean_squared_error: 0.3126 - val_loss: 0.7165 - val_root_mean_squared_error: 0.3593\n",
            "Epoch 64/100\n",
            "1000/1000 [==============================] - 2s 2ms/step - loss: 0.6502 - root_mean_squared_error: 0.3137 - val_loss: 0.7176 - val_root_mean_squared_error: 0.3599\n",
            "Epoch 65/100\n",
            "1000/1000 [==============================] - 2s 2ms/step - loss: 0.6480 - root_mean_squared_error: 0.3120 - val_loss: 0.7181 - val_root_mean_squared_error: 0.3602\n",
            "Epoch 66/100\n",
            "1000/1000 [==============================] - 3s 3ms/step - loss: 0.6490 - root_mean_squared_error: 0.3127 - val_loss: 0.7181 - val_root_mean_squared_error: 0.3601\n",
            "Epoch 67/100\n",
            "1000/1000 [==============================] - 2s 2ms/step - loss: 0.6471 - root_mean_squared_error: 0.3113 - val_loss: 0.7175 - val_root_mean_squared_error: 0.3598\n",
            "Epoch 68/100\n",
            "1000/1000 [==============================] - 2s 2ms/step - loss: 0.6485 - root_mean_squared_error: 0.3126 - val_loss: 0.7183 - val_root_mean_squared_error: 0.3603\n",
            "Epoch 69/100\n",
            "1000/1000 [==============================] - 2s 2ms/step - loss: 0.6474 - root_mean_squared_error: 0.3115 - val_loss: 0.7199 - val_root_mean_squared_error: 0.3614\n",
            "Epoch 70/100\n",
            "1000/1000 [==============================] - 2s 2ms/step - loss: 0.6503 - root_mean_squared_error: 0.3137 - val_loss: 0.7188 - val_root_mean_squared_error: 0.3607\n",
            "Epoch 71/100\n",
            "1000/1000 [==============================] - 2s 2ms/step - loss: 0.6487 - root_mean_squared_error: 0.3127 - val_loss: 0.7179 - val_root_mean_squared_error: 0.3601\n",
            "Epoch 72/100\n",
            "1000/1000 [==============================] - 3s 3ms/step - loss: 0.6490 - root_mean_squared_error: 0.3127 - val_loss: 0.7193 - val_root_mean_squared_error: 0.3611\n",
            "Epoch 73/100\n",
            "1000/1000 [==============================] - 3s 3ms/step - loss: 0.6512 - root_mean_squared_error: 0.3142 - val_loss: 0.7197 - val_root_mean_squared_error: 0.3613\n",
            "Epoch 74/100\n",
            "1000/1000 [==============================] - 2s 2ms/step - loss: 0.6474 - root_mean_squared_error: 0.3119 - val_loss: 0.7201 - val_root_mean_squared_error: 0.3615\n",
            "Epoch 75/100\n",
            "1000/1000 [==============================] - 2s 2ms/step - loss: 0.6496 - root_mean_squared_error: 0.3132 - val_loss: 0.7182 - val_root_mean_squared_error: 0.3603\n",
            "Epoch 76/100\n",
            "1000/1000 [==============================] - 2s 2ms/step - loss: 0.6502 - root_mean_squared_error: 0.3137 - val_loss: 0.7187 - val_root_mean_squared_error: 0.3606\n",
            "Epoch 77/100\n",
            "1000/1000 [==============================] - 2s 2ms/step - loss: 0.6476 - root_mean_squared_error: 0.3117 - val_loss: 0.7172 - val_root_mean_squared_error: 0.3597\n",
            "Epoch 78/100\n",
            "1000/1000 [==============================] - 3s 3ms/step - loss: 0.6506 - root_mean_squared_error: 0.3141 - val_loss: 0.7180 - val_root_mean_squared_error: 0.3602\n",
            "Epoch 79/100\n",
            "1000/1000 [==============================] - 3s 3ms/step - loss: 0.6479 - root_mean_squared_error: 0.3119 - val_loss: 0.7190 - val_root_mean_squared_error: 0.3608\n",
            "Epoch 80/100\n",
            "1000/1000 [==============================] - 2s 2ms/step - loss: 0.6496 - root_mean_squared_error: 0.3132 - val_loss: 0.7194 - val_root_mean_squared_error: 0.3611\n",
            "Epoch 81/100\n",
            "1000/1000 [==============================] - 2s 2ms/step - loss: 0.6489 - root_mean_squared_error: 0.3130 - val_loss: 0.7183 - val_root_mean_squared_error: 0.3604\n",
            "Epoch 82/100\n",
            "1000/1000 [==============================] - 2s 2ms/step - loss: 0.6501 - root_mean_squared_error: 0.3137 - val_loss: 0.7180 - val_root_mean_squared_error: 0.3602\n",
            "Epoch 83/100\n",
            "1000/1000 [==============================] - 2s 2ms/step - loss: 0.6484 - root_mean_squared_error: 0.3124 - val_loss: 0.7172 - val_root_mean_squared_error: 0.3599\n",
            "Epoch 84/100\n",
            "1000/1000 [==============================] - 2s 2ms/step - loss: 0.6502 - root_mean_squared_error: 0.3137 - val_loss: 0.7171 - val_root_mean_squared_error: 0.3598\n",
            "Epoch 85/100\n",
            "1000/1000 [==============================] - 3s 3ms/step - loss: 0.6488 - root_mean_squared_error: 0.3126 - val_loss: 0.7176 - val_root_mean_squared_error: 0.3601\n",
            "Epoch 86/100\n",
            "1000/1000 [==============================] - 2s 2ms/step - loss: 0.6505 - root_mean_squared_error: 0.3138 - val_loss: 0.7166 - val_root_mean_squared_error: 0.3593\n",
            "Epoch 87/100\n",
            "1000/1000 [==============================] - 2s 2ms/step - loss: 0.6499 - root_mean_squared_error: 0.3135 - val_loss: 0.7181 - val_root_mean_squared_error: 0.3604\n",
            "Epoch 88/100\n",
            "1000/1000 [==============================] - 2s 2ms/step - loss: 0.6467 - root_mean_squared_error: 0.3112 - val_loss: 0.7181 - val_root_mean_squared_error: 0.3603\n",
            "Epoch 89/100\n",
            "1000/1000 [==============================] - 2s 2ms/step - loss: 0.6485 - root_mean_squared_error: 0.3122 - val_loss: 0.7181 - val_root_mean_squared_error: 0.3603\n",
            "Epoch 90/100\n",
            "1000/1000 [==============================] - 2s 2ms/step - loss: 0.6507 - root_mean_squared_error: 0.3140 - val_loss: 0.7180 - val_root_mean_squared_error: 0.3602\n",
            "Epoch 91/100\n",
            "1000/1000 [==============================] - 3s 3ms/step - loss: 0.6513 - root_mean_squared_error: 0.3146 - val_loss: 0.7194 - val_root_mean_squared_error: 0.3611\n",
            "Epoch 92/100\n",
            "1000/1000 [==============================] - 2s 2ms/step - loss: 0.6492 - root_mean_squared_error: 0.3130 - val_loss: 0.7193 - val_root_mean_squared_error: 0.3611\n",
            "Epoch 93/100\n",
            "1000/1000 [==============================] - 2s 2ms/step - loss: 0.6473 - root_mean_squared_error: 0.3116 - val_loss: 0.7194 - val_root_mean_squared_error: 0.3611\n",
            "Epoch 94/100\n",
            "1000/1000 [==============================] - 2s 2ms/step - loss: 0.6487 - root_mean_squared_error: 0.3125 - val_loss: 0.7188 - val_root_mean_squared_error: 0.3606\n",
            "Epoch 95/100\n",
            "1000/1000 [==============================] - 2s 2ms/step - loss: 0.6492 - root_mean_squared_error: 0.3131 - val_loss: 0.7177 - val_root_mean_squared_error: 0.3599\n",
            "Epoch 96/100\n",
            "1000/1000 [==============================] - 2s 2ms/step - loss: 0.6493 - root_mean_squared_error: 0.3130 - val_loss: 0.7192 - val_root_mean_squared_error: 0.3608\n",
            "Epoch 97/100\n",
            "1000/1000 [==============================] - 3s 3ms/step - loss: 0.6485 - root_mean_squared_error: 0.3125 - val_loss: 0.7185 - val_root_mean_squared_error: 0.3605\n",
            "Epoch 98/100\n",
            "1000/1000 [==============================] - 3s 3ms/step - loss: 0.6480 - root_mean_squared_error: 0.3122 - val_loss: 0.7180 - val_root_mean_squared_error: 0.3602\n",
            "Epoch 99/100\n",
            "1000/1000 [==============================] - 3s 3ms/step - loss: 0.6503 - root_mean_squared_error: 0.3138 - val_loss: 0.7169 - val_root_mean_squared_error: 0.3595\n",
            "Epoch 100/100\n",
            "1000/1000 [==============================] - 2s 2ms/step - loss: 0.6460 - root_mean_squared_error: 0.3107 - val_loss: 0.7177 - val_root_mean_squared_error: 0.3600\n"
          ]
        }
      ]
    },
    {
      "cell_type": "markdown",
      "source": [
        "#### mendapatkan rekomendasi"
      ],
      "metadata": {
        "id": "4PtHLr_gkjX7"
      }
    },
    {
      "cell_type": "markdown",
      "source": [
        "- mengambil sample user"
      ],
      "metadata": {
        "id": "q-1th6agiYYV"
      }
    },
    {
      "cell_type": "code",
      "source": [
        "tourism_df = dat_tourism_id\n",
        "df = dat_tourism_rating\n",
        "\n",
        "# Mengambil sample user\n",
        "user_id = df.User_Id.sample(1).iloc[0]\n",
        "tourism_visited_by_user = df[df.User_Id == user_id]"
      ],
      "metadata": {
        "id": "Ef6Hs2xFhD90"
      },
      "execution_count": null,
      "outputs": []
    },
    {
      "cell_type": "markdown",
      "source": [
        "- operasi pada dataframe tourism_df untuk mendapatkan tempat wisata yang belum dikunjungi oleh sample pengguna yang kita dapatkan sebelumnya."
      ],
      "metadata": {
        "id": "bxLAQ8VZjG4v"
      }
    },
    {
      "cell_type": "code",
      "source": [
        "tourism_not_visited = tourism_df[~tourism_df['Place_Id'].isin(tourism_visited_by_user.Place_Id.values)]['Place_Id']\n",
        "tourism_not_visited = list(\n",
        "    set(tourism_not_visited)\n",
        "    .intersection(set(tourism_to_tourism_encoded.keys()))\n",
        ")\n",
        "\n",
        "tourism_not_visited = [[tourism_to_tourism_encoded.get(x)] for x in tourism_not_visited]\n",
        "user_encoder = user_to_user_encoded.get(user_id)\n",
        "user_tourism_array = np.hstack(\n",
        "    ([[user_encoder]] * len(tourism_not_visited), tourism_not_visited)\n",
        ")"
      ],
      "metadata": {
        "id": "j_q2TuAVhGep"
      },
      "execution_count": null,
      "outputs": []
    },
    {
      "cell_type": "markdown",
      "source": [
        "- melakukan prediksi rating menggunakan model yang telah kita latih untuk mengetahui rating dari tempat wisata yang belum dikunjungi oleh sample user tersebut."
      ],
      "metadata": {
        "id": "OXRZkc0CjpIz"
      }
    },
    {
      "cell_type": "code",
      "source": [
        "ratings = model.predict(user_tourism_array).flatten()"
      ],
      "metadata": {
        "colab": {
          "base_uri": "https://localhost:8080/"
        },
        "id": "-l5X4BCXhIiZ",
        "outputId": "f6096ddc-c0d9-46f4-ee21-038a1250d1b9"
      },
      "execution_count": null,
      "outputs": [
        {
          "output_type": "stream",
          "name": "stdout",
          "text": [
            "13/13 [==============================] - 0s 1ms/step\n"
          ]
        }
      ]
    },
    {
      "cell_type": "markdown",
      "source": [
        "- mendapatkan daftar tempat wisata yang direkomendasikan berdasarkan hasil prediksi rating teratas."
      ],
      "metadata": {
        "id": "VNHeb12iketN"
      }
    },
    {
      "cell_type": "code",
      "source": [
        "top_ratings_indices = ratings.argsort()[-10:][::-1]\n",
        "recommended_tourism_ids = [\n",
        "    tourism_encoded_to_tourism.get(tourism_not_visited[x][0]) for x in top_ratings_indices\n",
        "]"
      ],
      "metadata": {
        "id": "O-krRk-8hJ8C"
      },
      "execution_count": null,
      "outputs": []
    },
    {
      "cell_type": "markdown",
      "source": [
        "- menampilkan hasil rekomendasi"
      ],
      "metadata": {
        "id": "7q9yQz7UoFHs"
      }
    },
    {
      "cell_type": "code",
      "source": [
        "print('Showing recommendations for users: {}'.format(user_id))\n",
        "print('===' * 9)\n",
        "print('tourism with high ratings from user')\n",
        "print('----' * 8)\n",
        "\n",
        "top_tourism_user = (\n",
        "    tourism_visited_by_user.sort_values(\n",
        "        by = 'Place_Ratings',\n",
        "        ascending=False\n",
        "    )\n",
        "    .head(5)\n",
        "    .Place_Id.values\n",
        ")\n",
        "\n",
        "tourism_df_rows = tourism_df[tourism_df['Place_Id'].isin(top_tourism_user)]\n",
        "for row in tourism_df_rows.itertuples():\n",
        "    print(row.Place_Name)\n",
        "\n",
        "print('----' * 8)\n",
        "print('Top 10 tourism recommendation')\n",
        "print('----' * 8)\n",
        "\n",
        "recommended_tourism = tourism_df[tourism_df['Place_Id'].isin(recommended_tourism_ids)]\n",
        "for row in recommended_tourism.itertuples():\n",
        "    print(row.Place_Name)"
      ],
      "metadata": {
        "colab": {
          "base_uri": "https://localhost:8080/"
        },
        "id": "GEHtbymMhP7U",
        "outputId": "8134824a-83f2-48d2-86de-09780478991c"
      },
      "execution_count": null,
      "outputs": [
        {
          "output_type": "stream",
          "name": "stdout",
          "text": [
            "Showing recommendations for users: 147\n",
            "===========================\n",
            "tourism with high ratings from user\n",
            "--------------------------------\n",
            "Pantai Pulang Sawal\n",
            "Jendela Alam\n",
            "Monumen Bandung Lautan Api\n",
            "Sunrise Point Cukul\n",
            "Pantai Maron\n",
            "--------------------------------\n",
            "Top 10 tourism recommendation\n",
            "--------------------------------\n",
            "Jogja Exotarium\n",
            "Puncak Gunung Api Purba - Nglanggeran\n",
            "Seribu Batu Songgo Langit\n",
            "Wisata Kraton Jogja\n",
            "Pantai Ngobaran\n",
            "Pantai Baron\n",
            "Pasar Kebon Empring Bintaran\n",
            "Pintoe Langit Dahromo\n",
            "Kebun Teh Nglinggo\n",
            "Geoforest Watu Payung Turunan\n"
          ]
        }
      ]
    }
  ]
}